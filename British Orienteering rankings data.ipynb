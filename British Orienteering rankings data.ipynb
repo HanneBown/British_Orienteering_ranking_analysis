{
 "cells": [
  {
   "cell_type": "markdown",
   "id": "44d777ed-e6e8-4a33-8ad9-e2d88dd53315",
   "metadata": {
    "tags": []
   },
   "source": [
    "# Data cleansing\n",
    "\n",
    "First of all, I opened the .csv file as a Pandas dataframe using pd.read_csv and explored the dataframe using df.head(), df.tail() and df.info() methods"
   ]
  },
  {
   "cell_type": "code",
   "execution_count": null,
   "id": "866e77be-a962-4121-abd1-08f5c9da02ad",
   "metadata": {},
   "outputs": [],
   "source": [
    "#create a dataframe from a csv file\n",
    "\n",
    "import pandas as pd\n",
    "\n",
    "df_ranking_list = pd.read_csv('leaderboard2023-12-11.csv')"
   ]
  },
  {
   "cell_type": "code",
   "execution_count": 3,
   "id": "0931f7bf-c1d8-4693-a1c2-f0e2546c2988",
   "metadata": {},
   "outputs": [
    {
     "data": {
      "text/html": [
       "<div>\n",
       "<style scoped>\n",
       "    .dataframe tbody tr th:only-of-type {\n",
       "        vertical-align: middle;\n",
       "    }\n",
       "\n",
       "    .dataframe tbody tr th {\n",
       "        vertical-align: top;\n",
       "    }\n",
       "\n",
       "    .dataframe thead th {\n",
       "        text-align: right;\n",
       "    }\n",
       "</style>\n",
       "<table border=\"1\" class=\"dataframe\">\n",
       "  <thead>\n",
       "    <tr style=\"text-align: right;\">\n",
       "      <th></th>\n",
       "      <th>Pos.</th>\n",
       "      <th>Name</th>\n",
       "      <th>BOF number</th>\n",
       "      <th>Club</th>\n",
       "      <th>YOB</th>\n",
       "      <th>M/F</th>\n",
       "      <th>Average</th>\n",
       "      <th>Points</th>\n",
       "      <th>Contributing scores</th>\n",
       "      <th>Unnamed: 9</th>\n",
       "      <th>Unnamed: 10</th>\n",
       "      <th>Unnamed: 11</th>\n",
       "      <th>Unnamed: 12</th>\n",
       "      <th>Unnamed: 13</th>\n",
       "    </tr>\n",
       "  </thead>\n",
       "  <tbody>\n",
       "    <tr>\n",
       "      <th>0</th>\n",
       "      <td>1</td>\n",
       "      <td>Nathan Lawson</td>\n",
       "      <td>369664</td>\n",
       "      <td>OD</td>\n",
       "      <td>1997</td>\n",
       "      <td>M</td>\n",
       "      <td>1399</td>\n",
       "      <td>8517</td>\n",
       "      <td>1413</td>\n",
       "      <td>1415.0</td>\n",
       "      <td>1420.0</td>\n",
       "      <td>1424.0</td>\n",
       "      <td>1422.0</td>\n",
       "      <td>1423.0</td>\n",
       "    </tr>\n",
       "    <tr>\n",
       "      <th>1</th>\n",
       "      <td>2</td>\n",
       "      <td>Ben Mitchell</td>\n",
       "      <td>233293</td>\n",
       "      <td>SBOC</td>\n",
       "      <td>1993</td>\n",
       "      <td>M</td>\n",
       "      <td>1390</td>\n",
       "      <td>8482</td>\n",
       "      <td>1400</td>\n",
       "      <td>1468.0</td>\n",
       "      <td>1411.0</td>\n",
       "      <td>1401.0</td>\n",
       "      <td>1405.0</td>\n",
       "      <td>1397.0</td>\n",
       "    </tr>\n",
       "    <tr>\n",
       "      <th>2</th>\n",
       "      <td>3</td>\n",
       "      <td>Alexander Chepelin</td>\n",
       "      <td>449661</td>\n",
       "      <td>INT</td>\n",
       "      <td>1997</td>\n",
       "      <td>M</td>\n",
       "      <td>1404</td>\n",
       "      <td>8480</td>\n",
       "      <td>1436</td>\n",
       "      <td>1412.0</td>\n",
       "      <td>1418.0</td>\n",
       "      <td>1404.0</td>\n",
       "      <td>1406.0</td>\n",
       "      <td>1404.0</td>\n",
       "    </tr>\n",
       "    <tr>\n",
       "      <th>3</th>\n",
       "      <td>4</td>\n",
       "      <td>Matthew Gooch</td>\n",
       "      <td>471453</td>\n",
       "      <td>EUOC</td>\n",
       "      <td>2002</td>\n",
       "      <td>M</td>\n",
       "      <td>1391</td>\n",
       "      <td>8472</td>\n",
       "      <td>1430</td>\n",
       "      <td>1404.0</td>\n",
       "      <td>1414.0</td>\n",
       "      <td>1403.0</td>\n",
       "      <td>1407.0</td>\n",
       "      <td>1414.0</td>\n",
       "    </tr>\n",
       "    <tr>\n",
       "      <th>4</th>\n",
       "      <td>5</td>\n",
       "      <td>Graham Gristwood</td>\n",
       "      <td>444751</td>\n",
       "      <td>FVO</td>\n",
       "      <td>1984</td>\n",
       "      <td>M</td>\n",
       "      <td>1399</td>\n",
       "      <td>8468</td>\n",
       "      <td>1402</td>\n",
       "      <td>1416.0</td>\n",
       "      <td>1407.0</td>\n",
       "      <td>1405.0</td>\n",
       "      <td>1411.0</td>\n",
       "      <td>1427.0</td>\n",
       "    </tr>\n",
       "  </tbody>\n",
       "</table>\n",
       "</div>"
      ],
      "text/plain": [
       "   Pos.                Name  BOF number  Club   YOB M/F  Average  Points  \\\n",
       "0     1       Nathan Lawson      369664    OD  1997   M     1399    8517   \n",
       "1     2        Ben Mitchell      233293  SBOC  1993   M     1390    8482   \n",
       "2     3  Alexander Chepelin      449661   INT  1997   M     1404    8480   \n",
       "3     4       Matthew Gooch      471453  EUOC  2002   M     1391    8472   \n",
       "4     5    Graham Gristwood      444751   FVO  1984   M     1399    8468   \n",
       "\n",
       "   Contributing scores  Unnamed: 9  Unnamed: 10  Unnamed: 11  Unnamed: 12  \\\n",
       "0                 1413      1415.0       1420.0       1424.0       1422.0   \n",
       "1                 1400      1468.0       1411.0       1401.0       1405.0   \n",
       "2                 1436      1412.0       1418.0       1404.0       1406.0   \n",
       "3                 1430      1404.0       1414.0       1403.0       1407.0   \n",
       "4                 1402      1416.0       1407.0       1405.0       1411.0   \n",
       "\n",
       "   Unnamed: 13  \n",
       "0       1423.0  \n",
       "1       1397.0  \n",
       "2       1404.0  \n",
       "3       1414.0  \n",
       "4       1427.0  "
      ]
     },
     "execution_count": 3,
     "metadata": {},
     "output_type": "execute_result"
    }
   ],
   "source": [
    "df_ranking_list.head()\n"
   ]
  },
  {
   "cell_type": "code",
   "execution_count": 4,
   "id": "0a48b14f-c053-44e0-a7b7-edb4db2c8aaa",
   "metadata": {},
   "outputs": [
    {
     "data": {
      "text/html": [
       "<div>\n",
       "<style scoped>\n",
       "    .dataframe tbody tr th:only-of-type {\n",
       "        vertical-align: middle;\n",
       "    }\n",
       "\n",
       "    .dataframe tbody tr th {\n",
       "        vertical-align: top;\n",
       "    }\n",
       "\n",
       "    .dataframe thead th {\n",
       "        text-align: right;\n",
       "    }\n",
       "</style>\n",
       "<table border=\"1\" class=\"dataframe\">\n",
       "  <thead>\n",
       "    <tr style=\"text-align: right;\">\n",
       "      <th></th>\n",
       "      <th>Pos.</th>\n",
       "      <th>Name</th>\n",
       "      <th>BOF number</th>\n",
       "      <th>Club</th>\n",
       "      <th>YOB</th>\n",
       "      <th>M/F</th>\n",
       "      <th>Average</th>\n",
       "      <th>Points</th>\n",
       "      <th>Contributing scores</th>\n",
       "      <th>Unnamed: 9</th>\n",
       "      <th>Unnamed: 10</th>\n",
       "      <th>Unnamed: 11</th>\n",
       "      <th>Unnamed: 12</th>\n",
       "      <th>Unnamed: 13</th>\n",
       "    </tr>\n",
       "  </thead>\n",
       "  <tbody>\n",
       "    <tr>\n",
       "      <th>5006</th>\n",
       "      <td>5007</td>\n",
       "      <td>Paul Garton</td>\n",
       "      <td>232011</td>\n",
       "      <td>NOR</td>\n",
       "      <td>1950</td>\n",
       "      <td>M</td>\n",
       "      <td>180</td>\n",
       "      <td>180</td>\n",
       "      <td>180</td>\n",
       "      <td>NaN</td>\n",
       "      <td>NaN</td>\n",
       "      <td>NaN</td>\n",
       "      <td>NaN</td>\n",
       "      <td>NaN</td>\n",
       "    </tr>\n",
       "    <tr>\n",
       "      <th>5007</th>\n",
       "      <td>5008</td>\n",
       "      <td>Andrew Beldowski</td>\n",
       "      <td>150171</td>\n",
       "      <td>WSX</td>\n",
       "      <td>1929</td>\n",
       "      <td>M</td>\n",
       "      <td>47</td>\n",
       "      <td>94</td>\n",
       "      <td>38</td>\n",
       "      <td>56.0</td>\n",
       "      <td>NaN</td>\n",
       "      <td>NaN</td>\n",
       "      <td>NaN</td>\n",
       "      <td>NaN</td>\n",
       "    </tr>\n",
       "    <tr>\n",
       "      <th>5008</th>\n",
       "      <td>5009</td>\n",
       "      <td>Sarah Parish</td>\n",
       "      <td>126464</td>\n",
       "      <td>TVOC</td>\n",
       "      <td>1953</td>\n",
       "      <td>F</td>\n",
       "      <td>92</td>\n",
       "      <td>92</td>\n",
       "      <td>92</td>\n",
       "      <td>NaN</td>\n",
       "      <td>NaN</td>\n",
       "      <td>NaN</td>\n",
       "      <td>NaN</td>\n",
       "      <td>NaN</td>\n",
       "    </tr>\n",
       "    <tr>\n",
       "      <th>5009</th>\n",
       "      <td>5010</td>\n",
       "      <td>Patrick Davey</td>\n",
       "      <td>425031</td>\n",
       "      <td>MAROC</td>\n",
       "      <td>1940</td>\n",
       "      <td>M</td>\n",
       "      <td>44</td>\n",
       "      <td>44</td>\n",
       "      <td>44</td>\n",
       "      <td>NaN</td>\n",
       "      <td>NaN</td>\n",
       "      <td>NaN</td>\n",
       "      <td>NaN</td>\n",
       "      <td>NaN</td>\n",
       "    </tr>\n",
       "    <tr>\n",
       "      <th>5010</th>\n",
       "      <td>5011</td>\n",
       "      <td>Victoria GARTON</td>\n",
       "      <td>673062</td>\n",
       "      <td>MV</td>\n",
       "      <td>1979</td>\n",
       "      <td>F</td>\n",
       "      <td>15</td>\n",
       "      <td>29</td>\n",
       "      <td>4</td>\n",
       "      <td>25.0</td>\n",
       "      <td>NaN</td>\n",
       "      <td>NaN</td>\n",
       "      <td>NaN</td>\n",
       "      <td>NaN</td>\n",
       "    </tr>\n",
       "  </tbody>\n",
       "</table>\n",
       "</div>"
      ],
      "text/plain": [
       "      Pos.              Name  BOF number   Club   YOB M/F  Average  Points  \\\n",
       "5006  5007       Paul Garton      232011    NOR  1950   M      180     180   \n",
       "5007  5008  Andrew Beldowski      150171    WSX  1929   M       47      94   \n",
       "5008  5009      Sarah Parish      126464   TVOC  1953   F       92      92   \n",
       "5009  5010     Patrick Davey      425031  MAROC  1940   M       44      44   \n",
       "5010  5011   Victoria GARTON      673062     MV  1979   F       15      29   \n",
       "\n",
       "      Contributing scores  Unnamed: 9  Unnamed: 10  Unnamed: 11  Unnamed: 12  \\\n",
       "5006                  180         NaN          NaN          NaN          NaN   \n",
       "5007                   38        56.0          NaN          NaN          NaN   \n",
       "5008                   92         NaN          NaN          NaN          NaN   \n",
       "5009                   44         NaN          NaN          NaN          NaN   \n",
       "5010                    4        25.0          NaN          NaN          NaN   \n",
       "\n",
       "      Unnamed: 13  \n",
       "5006          NaN  \n",
       "5007          NaN  \n",
       "5008          NaN  \n",
       "5009          NaN  \n",
       "5010          NaN  "
      ]
     },
     "execution_count": 4,
     "metadata": {},
     "output_type": "execute_result"
    }
   ],
   "source": [
    "df_ranking_list.tail()\n"
   ]
  },
  {
   "cell_type": "code",
   "execution_count": 5,
   "id": "c9b53e21-b672-42b0-9785-5dbb5e3802da",
   "metadata": {},
   "outputs": [
    {
     "name": "stdout",
     "output_type": "stream",
     "text": [
      "<class 'pandas.core.frame.DataFrame'>\n",
      "RangeIndex: 5011 entries, 0 to 5010\n",
      "Data columns (total 14 columns):\n",
      " #   Column               Non-Null Count  Dtype  \n",
      "---  ------               --------------  -----  \n",
      " 0   Pos.                 5011 non-null   int64  \n",
      " 1   Name                 5011 non-null   object \n",
      " 2   BOF number           5011 non-null   int64  \n",
      " 3   Club                 5009 non-null   object \n",
      " 4   YOB                  5011 non-null   int64  \n",
      " 5   M/F                  5011 non-null   object \n",
      " 6   Average              5011 non-null   int64  \n",
      " 7   Points               5011 non-null   int64  \n",
      " 8   Contributing scores  5011 non-null   int64  \n",
      " 9   Unnamed: 9           4323 non-null   float64\n",
      " 10  Unnamed: 10          3849 non-null   float64\n",
      " 11  Unnamed: 11          3495 non-null   float64\n",
      " 12  Unnamed: 12          3154 non-null   float64\n",
      " 13  Unnamed: 13          2870 non-null   float64\n",
      "dtypes: float64(5), int64(6), object(3)\n",
      "memory usage: 548.2+ KB\n"
     ]
    }
   ],
   "source": [
    "df_ranking_list.info()"
   ]
  },
  {
   "cell_type": "markdown",
   "id": "fd80cc3f-4148-4f6b-80d5-efc54864191b",
   "metadata": {},
   "source": [
    "It can be seen that dataframe has 14 columns ‘Pos’, ‘Name’, ‘BOF number’, ‘Club’, ‘YOB’, ‘M/F’, ‘Average’, ‘Points’, ‘Contributing scores’, ‘Unnamed: 9’, ‘Unnamed: 10’, ‘Unnamed: 11’, ‘Unnamed: 12’ and ‘Unnamed: 13’. There are 5011 entries in total, and many columns have missing values. "
   ]
  },
  {
   "cell_type": "code",
   "execution_count": 6,
   "id": "e79f3941-f6fe-41b8-b6f8-73d7357d88a3",
   "metadata": {},
   "outputs": [],
   "source": [
    "# To beging my data cleansing, I set the index into ranking position\n",
    "\n",
    "df_ranking_list = df_ranking_list.set_index('Pos.')"
   ]
  },
  {
   "cell_type": "code",
   "execution_count": 7,
   "id": "8269a2b0-3c3e-4aa5-badb-68d1e9282272",
   "metadata": {},
   "outputs": [],
   "source": [
    "#Next, I renamed ‘Unnamed: x’ columns as ‘score x’:\n",
    "    \n",
    "df_ranking_list = df_ranking_list.rename(columns = {'Contributing scores': 'score 1','Unnamed: 9' : 'score 2','Unnamed: 10' : 'score 3','Unnamed: 11' : 'score 4', 'Unnamed: 12' : 'score 5', 'Unnamed: 13' : 'score 6'})"
   ]
  },
  {
   "cell_type": "markdown",
   "id": "2c25f338-3e73-4347-8c8f-f7d582b13195",
   "metadata": {},
   "source": [
    "‘Name’ column within the original dataframe contains full names. I split the original ‘Name’ column into ‘First name’ and ‘Last name’ columns using ‘ ‘ as the separator. This produced three new colums; namely ‘First Name’,’sep’ and ‘Last Name’. I then removed the original ‘Name’ column as well as the ‘sep’ column created upon splitting the original name column from the dataframe. I also moved the ‘First name’ and ‘Last name’ columns that I created in the previous step to columns 2 and 3:"
   ]
  },
  {
   "cell_type": "code",
   "execution_count": 8,
   "id": "9d3a415a-17be-487b-8deb-11ed9b28174a",
   "metadata": {},
   "outputs": [],
   "source": [
    "#split the name column to First name and Last name\n",
    "\n",
    "df_ranking_list[['First Name','sep', 'Last Name']] = df_ranking_list.Name.str.rpartition(sep=' ', expand=True)"
   ]
  },
  {
   "cell_type": "code",
   "execution_count": 9,
   "id": "1c0b6d2c-18fa-4393-a5ee-fba9ca254a32",
   "metadata": {},
   "outputs": [
    {
     "data": {
      "text/html": [
       "<div>\n",
       "<style scoped>\n",
       "    .dataframe tbody tr th:only-of-type {\n",
       "        vertical-align: middle;\n",
       "    }\n",
       "\n",
       "    .dataframe tbody tr th {\n",
       "        vertical-align: top;\n",
       "    }\n",
       "\n",
       "    .dataframe thead th {\n",
       "        text-align: right;\n",
       "    }\n",
       "</style>\n",
       "<table border=\"1\" class=\"dataframe\">\n",
       "  <thead>\n",
       "    <tr style=\"text-align: right;\">\n",
       "      <th></th>\n",
       "      <th>First Name</th>\n",
       "      <th>Last Name</th>\n",
       "      <th>BOF number</th>\n",
       "      <th>Club</th>\n",
       "      <th>YOB</th>\n",
       "      <th>M/F</th>\n",
       "      <th>Average</th>\n",
       "      <th>score 1</th>\n",
       "      <th>score 2</th>\n",
       "      <th>score 3</th>\n",
       "      <th>score 4</th>\n",
       "      <th>score 5</th>\n",
       "      <th>score 6</th>\n",
       "    </tr>\n",
       "    <tr>\n",
       "      <th>Pos.</th>\n",
       "      <th></th>\n",
       "      <th></th>\n",
       "      <th></th>\n",
       "      <th></th>\n",
       "      <th></th>\n",
       "      <th></th>\n",
       "      <th></th>\n",
       "      <th></th>\n",
       "      <th></th>\n",
       "      <th></th>\n",
       "      <th></th>\n",
       "      <th></th>\n",
       "      <th></th>\n",
       "    </tr>\n",
       "  </thead>\n",
       "  <tbody>\n",
       "    <tr>\n",
       "      <th>1</th>\n",
       "      <td>Nathan</td>\n",
       "      <td>Lawson</td>\n",
       "      <td>369664</td>\n",
       "      <td>OD</td>\n",
       "      <td>1997</td>\n",
       "      <td>M</td>\n",
       "      <td>1399</td>\n",
       "      <td>1413</td>\n",
       "      <td>1415.0</td>\n",
       "      <td>1420.0</td>\n",
       "      <td>1424.0</td>\n",
       "      <td>1422.0</td>\n",
       "      <td>1423.0</td>\n",
       "    </tr>\n",
       "    <tr>\n",
       "      <th>2</th>\n",
       "      <td>Ben</td>\n",
       "      <td>Mitchell</td>\n",
       "      <td>233293</td>\n",
       "      <td>SBOC</td>\n",
       "      <td>1993</td>\n",
       "      <td>M</td>\n",
       "      <td>1390</td>\n",
       "      <td>1400</td>\n",
       "      <td>1468.0</td>\n",
       "      <td>1411.0</td>\n",
       "      <td>1401.0</td>\n",
       "      <td>1405.0</td>\n",
       "      <td>1397.0</td>\n",
       "    </tr>\n",
       "    <tr>\n",
       "      <th>3</th>\n",
       "      <td>Alexander</td>\n",
       "      <td>Chepelin</td>\n",
       "      <td>449661</td>\n",
       "      <td>INT</td>\n",
       "      <td>1997</td>\n",
       "      <td>M</td>\n",
       "      <td>1404</td>\n",
       "      <td>1436</td>\n",
       "      <td>1412.0</td>\n",
       "      <td>1418.0</td>\n",
       "      <td>1404.0</td>\n",
       "      <td>1406.0</td>\n",
       "      <td>1404.0</td>\n",
       "    </tr>\n",
       "    <tr>\n",
       "      <th>4</th>\n",
       "      <td>Matthew</td>\n",
       "      <td>Gooch</td>\n",
       "      <td>471453</td>\n",
       "      <td>EUOC</td>\n",
       "      <td>2002</td>\n",
       "      <td>M</td>\n",
       "      <td>1391</td>\n",
       "      <td>1430</td>\n",
       "      <td>1404.0</td>\n",
       "      <td>1414.0</td>\n",
       "      <td>1403.0</td>\n",
       "      <td>1407.0</td>\n",
       "      <td>1414.0</td>\n",
       "    </tr>\n",
       "    <tr>\n",
       "      <th>5</th>\n",
       "      <td>Graham</td>\n",
       "      <td>Gristwood</td>\n",
       "      <td>444751</td>\n",
       "      <td>FVO</td>\n",
       "      <td>1984</td>\n",
       "      <td>M</td>\n",
       "      <td>1399</td>\n",
       "      <td>1402</td>\n",
       "      <td>1416.0</td>\n",
       "      <td>1407.0</td>\n",
       "      <td>1405.0</td>\n",
       "      <td>1411.0</td>\n",
       "      <td>1427.0</td>\n",
       "    </tr>\n",
       "  </tbody>\n",
       "</table>\n",
       "</div>"
      ],
      "text/plain": [
       "     First Name  Last Name  BOF number  Club   YOB M/F  Average  score 1  \\\n",
       "Pos.                                                                       \n",
       "1        Nathan     Lawson      369664    OD  1997   M     1399     1413   \n",
       "2           Ben   Mitchell      233293  SBOC  1993   M     1390     1400   \n",
       "3     Alexander   Chepelin      449661   INT  1997   M     1404     1436   \n",
       "4       Matthew      Gooch      471453  EUOC  2002   M     1391     1430   \n",
       "5        Graham  Gristwood      444751   FVO  1984   M     1399     1402   \n",
       "\n",
       "      score 2  score 3  score 4  score 5  score 6  \n",
       "Pos.                                               \n",
       "1      1415.0   1420.0   1424.0   1422.0   1423.0  \n",
       "2      1468.0   1411.0   1401.0   1405.0   1397.0  \n",
       "3      1412.0   1418.0   1404.0   1406.0   1404.0  \n",
       "4      1404.0   1414.0   1403.0   1407.0   1414.0  \n",
       "5      1416.0   1407.0   1405.0   1411.0   1427.0  "
      ]
     },
     "execution_count": 9,
     "metadata": {},
     "output_type": "execute_result"
    }
   ],
   "source": [
    "#remove original name column as well as 'sep' column created in previous step\n",
    "\n",
    "df_ranking_list = df_ranking_list.drop(['Name', 'sep'], axis=1)\n",
    "\n",
    "# move First name and last name columns to 2nd and 3rd positions\n",
    "\n",
    "df_ranking_list = df_ranking_list.reindex(columns=['First Name', 'Last Name', 'BOF number', 'Club', 'YOB', 'M/F', 'Average', 'score 1', 'score 2','score 3', 'score 4', 'score 5', 'score 6'])\n",
    "\n",
    "df_ranking_list.head()"
   ]
  },
  {
   "cell_type": "markdown",
   "id": "f9379880-2a1b-4b15-92ed-076d0405ed39",
   "metadata": {},
   "source": [
    "Next, it was time to have a closer look at the data. The dataframe contained 5011 rows. However, many of the columns contained null values. Therefore, the next step was to replace any NaN values with 0. However, upon reflection, it would have made more sense to replace the two missing ‘club’ entries as ‘Not known’ instead of 0! I will return to this later…"
   ]
  },
  {
   "cell_type": "code",
   "execution_count": 10,
   "id": "8a35681b-e1c0-413a-9722-9da824a7809a",
   "metadata": {},
   "outputs": [
    {
     "name": "stdout",
     "output_type": "stream",
     "text": [
      "<class 'pandas.core.frame.DataFrame'>\n",
      "Index: 5011 entries, 1 to 5011\n",
      "Data columns (total 13 columns):\n",
      " #   Column      Non-Null Count  Dtype  \n",
      "---  ------      --------------  -----  \n",
      " 0   First Name  5011 non-null   object \n",
      " 1   Last Name   5011 non-null   object \n",
      " 2   BOF number  5011 non-null   int64  \n",
      " 3   Club        5011 non-null   object \n",
      " 4   YOB         5011 non-null   int64  \n",
      " 5   M/F         5011 non-null   object \n",
      " 6   Average     5011 non-null   int64  \n",
      " 7   score 1     5011 non-null   int64  \n",
      " 8   score 2     5011 non-null   float64\n",
      " 9   score 3     5011 non-null   float64\n",
      " 10  score 4     5011 non-null   float64\n",
      " 11  score 5     5011 non-null   float64\n",
      " 12  score 6     5011 non-null   float64\n",
      "dtypes: float64(5), int64(4), object(4)\n",
      "memory usage: 548.1+ KB\n",
      "None\n"
     ]
    }
   ],
   "source": [
    "#core 3, score 4, score 5 and score 6 columns. Replace NaN with 0\n",
    "\n",
    "df_ranking_list.fillna(0, inplace=True)\n",
    "print (df_ranking_list.info())"
   ]
  },
  {
   "cell_type": "markdown",
   "id": "6986740d-d924-4128-8f0f-2f16ac6a190e",
   "metadata": {},
   "source": [
    "Next, I checked for any obvious outliers as well as the statistical distributions for the data within the different columns using the `df.describe()` method. The statistics for ‘BOF number’ are not expected to follow any statistical distributions because the column contains the British Orienteering membership number for each ranked orienteer. Juniors will score ranking points from the January of the year when they turn 16, and that is reflected on the maximum for year of birth, ‘YOB’, at 2007. The oldest ranked orienteer was born in 1929, it’s pretty inspirational to think there is a 94-year-old out there enjoying the very inclusive sport of orienteering!"
   ]
  },
  {
   "cell_type": "code",
   "execution_count": 11,
   "id": "0ede650c-928b-4fa3-96b2-1731e30888eb",
   "metadata": {},
   "outputs": [
    {
     "data": {
      "text/html": [
       "<div>\n",
       "<style scoped>\n",
       "    .dataframe tbody tr th:only-of-type {\n",
       "        vertical-align: middle;\n",
       "    }\n",
       "\n",
       "    .dataframe tbody tr th {\n",
       "        vertical-align: top;\n",
       "    }\n",
       "\n",
       "    .dataframe thead th {\n",
       "        text-align: right;\n",
       "    }\n",
       "</style>\n",
       "<table border=\"1\" class=\"dataframe\">\n",
       "  <thead>\n",
       "    <tr style=\"text-align: right;\">\n",
       "      <th></th>\n",
       "      <th>BOF number</th>\n",
       "      <th>YOB</th>\n",
       "      <th>Average</th>\n",
       "      <th>score 1</th>\n",
       "      <th>score 2</th>\n",
       "      <th>score 3</th>\n",
       "      <th>score 4</th>\n",
       "      <th>score 5</th>\n",
       "      <th>score 6</th>\n",
       "    </tr>\n",
       "  </thead>\n",
       "  <tbody>\n",
       "    <tr>\n",
       "      <th>count</th>\n",
       "      <td>5011.000000</td>\n",
       "      <td>5011.000000</td>\n",
       "      <td>5011.000000</td>\n",
       "      <td>5011.000000</td>\n",
       "      <td>5011.000000</td>\n",
       "      <td>5011.000000</td>\n",
       "      <td>5011.000000</td>\n",
       "      <td>5011.000000</td>\n",
       "      <td>5011.000000</td>\n",
       "    </tr>\n",
       "    <tr>\n",
       "      <th>mean</th>\n",
       "      <td>333155.178208</td>\n",
       "      <td>1970.482938</td>\n",
       "      <td>997.326282</td>\n",
       "      <td>1017.528837</td>\n",
       "      <td>890.831571</td>\n",
       "      <td>801.544402</td>\n",
       "      <td>735.596288</td>\n",
       "      <td>669.105169</td>\n",
       "      <td>614.242067</td>\n",
       "    </tr>\n",
       "    <tr>\n",
       "      <th>std</th>\n",
       "      <td>210497.116762</td>\n",
       "      <td>17.482534</td>\n",
       "      <td>192.640019</td>\n",
       "      <td>200.136656</td>\n",
       "      <td>397.451553</td>\n",
       "      <td>468.310713</td>\n",
       "      <td>505.888946</td>\n",
       "      <td>530.972008</td>\n",
       "      <td>545.083593</td>\n",
       "    </tr>\n",
       "    <tr>\n",
       "      <th>min</th>\n",
       "      <td>100007.000000</td>\n",
       "      <td>1929.000000</td>\n",
       "      <td>15.000000</td>\n",
       "      <td>4.000000</td>\n",
       "      <td>0.000000</td>\n",
       "      <td>0.000000</td>\n",
       "      <td>0.000000</td>\n",
       "      <td>0.000000</td>\n",
       "      <td>0.000000</td>\n",
       "    </tr>\n",
       "    <tr>\n",
       "      <th>25%</th>\n",
       "      <td>166162.500000</td>\n",
       "      <td>1957.000000</td>\n",
       "      <td>885.000000</td>\n",
       "      <td>903.000000</td>\n",
       "      <td>822.000000</td>\n",
       "      <td>636.500000</td>\n",
       "      <td>0.000000</td>\n",
       "      <td>0.000000</td>\n",
       "      <td>0.000000</td>\n",
       "    </tr>\n",
       "    <tr>\n",
       "      <th>50%</th>\n",
       "      <td>279374.000000</td>\n",
       "      <td>1967.000000</td>\n",
       "      <td>1016.000000</td>\n",
       "      <td>1041.000000</td>\n",
       "      <td>1015.000000</td>\n",
       "      <td>992.000000</td>\n",
       "      <td>967.000000</td>\n",
       "      <td>934.000000</td>\n",
       "      <td>879.000000</td>\n",
       "    </tr>\n",
       "    <tr>\n",
       "      <th>75%</th>\n",
       "      <td>440001.500000</td>\n",
       "      <td>1982.000000</td>\n",
       "      <td>1134.000000</td>\n",
       "      <td>1159.000000</td>\n",
       "      <td>1148.500000</td>\n",
       "      <td>1137.000000</td>\n",
       "      <td>1131.000000</td>\n",
       "      <td>1120.000000</td>\n",
       "      <td>1112.000000</td>\n",
       "    </tr>\n",
       "    <tr>\n",
       "      <th>max</th>\n",
       "      <td>998858.000000</td>\n",
       "      <td>2007.000000</td>\n",
       "      <td>1407.000000</td>\n",
       "      <td>1436.000000</td>\n",
       "      <td>1468.000000</td>\n",
       "      <td>1420.000000</td>\n",
       "      <td>1424.000000</td>\n",
       "      <td>1422.000000</td>\n",
       "      <td>1427.000000</td>\n",
       "    </tr>\n",
       "  </tbody>\n",
       "</table>\n",
       "</div>"
      ],
      "text/plain": [
       "          BOF number          YOB      Average      score 1      score 2  \\\n",
       "count    5011.000000  5011.000000  5011.000000  5011.000000  5011.000000   \n",
       "mean   333155.178208  1970.482938   997.326282  1017.528837   890.831571   \n",
       "std    210497.116762    17.482534   192.640019   200.136656   397.451553   \n",
       "min    100007.000000  1929.000000    15.000000     4.000000     0.000000   \n",
       "25%    166162.500000  1957.000000   885.000000   903.000000   822.000000   \n",
       "50%    279374.000000  1967.000000  1016.000000  1041.000000  1015.000000   \n",
       "75%    440001.500000  1982.000000  1134.000000  1159.000000  1148.500000   \n",
       "max    998858.000000  2007.000000  1407.000000  1436.000000  1468.000000   \n",
       "\n",
       "           score 3      score 4      score 5      score 6  \n",
       "count  5011.000000  5011.000000  5011.000000  5011.000000  \n",
       "mean    801.544402   735.596288   669.105169   614.242067  \n",
       "std     468.310713   505.888946   530.972008   545.083593  \n",
       "min       0.000000     0.000000     0.000000     0.000000  \n",
       "25%     636.500000     0.000000     0.000000     0.000000  \n",
       "50%     992.000000   967.000000   934.000000   879.000000  \n",
       "75%    1137.000000  1131.000000  1120.000000  1112.000000  \n",
       "max    1420.000000  1424.000000  1422.000000  1427.000000  "
      ]
     },
     "execution_count": 11,
     "metadata": {},
     "output_type": "execute_result"
    }
   ],
   "source": [
    "#Check for outliers in the data. It all looks sensible, so we're good to go with data analysis\n",
    "\n",
    "df_ranking_list.describe()"
   ]
  },
  {
   "cell_type": "markdown",
   "id": "516e3fca-6429-47ad-93c1-01d019d20cee",
   "metadata": {},
   "source": [
    "# Exploratory data analysis\n",
    "\n",
    "To start my exploratory data analysis, I wanted to calculate the age of each ranked orienteer from their year of birth (‘YOB’). To achieve this, I imported `datetime` module, and created a variable Current_year using `datetime.datetime.now().year` method. I then created a new column ‘age’ in my dataframe by subtracting the year of birth from the current year."
   ]
  },
  {
   "cell_type": "code",
   "execution_count": 12,
   "id": "2d035249-e8a7-4e8d-974b-2b9481721769",
   "metadata": {},
   "outputs": [],
   "source": [
    "\n",
    "import datetime\n",
    "Current_Year = datetime.datetime.now().year\n",
    "df_ranking_list['age'] = Current_Year - df_ranking_list['YOB']"
   ]
  },
  {
   "cell_type": "markdown",
   "id": "e4da755f-3bd8-4286-8a34-6f7f26aa23e6",
   "metadata": {},
   "source": [
    "I then wanted to find out the age distribution of the ranked orienteers. For returning each unique age within the data I used `df['column'].unique()` method together with sorted() function."
   ]
  },
  {
   "cell_type": "code",
   "execution_count": 13,
   "id": "a3c93cf7-7cfe-4f42-a7f6-2a540dcf5c15",
   "metadata": {},
   "outputs": [],
   "source": [
    "#find unique ages within the age column\n",
    "\n",
    "ages_unique_sorted = sorted(df_ranking_list['age'].unique())"
   ]
  },
  {
   "cell_type": "markdown",
   "id": "cd6c31ab-4548-4d5c-b4ec-ae8ce75e772b",
   "metadata": {},
   "source": [
    "I then used `matplotlib` to plot the age distribution of the ranked orienteers. I think we need some more youngsters in the sport as there is a distinct plateau in the number of ranked orienteers between ages 20 and 40! This may partly be due to orienteers of this age having young families, and hence being less likely to get out there in the wildest of British weathers!\n"
   ]
  },
  {
   "cell_type": "code",
   "execution_count": 14,
   "id": "60301243-866b-42eb-921f-0b2d28fc110c",
   "metadata": {},
   "outputs": [
    {
     "data": {
      "image/png": "[encoded data removed]",
      "text/plain": [
       "<Figure size 640x480 with 1 Axes>"
      ]
     },
     "metadata": {},
     "output_type": "display_data"
    }
   ],
   "source": [
    "import matplotlib.pyplot as plt\n",
    "\n",
    "plt.hist(x = 'age', data = df_ranking_list, bins = 20)\n",
    "plt.xlabel(\"Orienteer age\")\n",
    "plt.ylabel(\"Number of ranked orienteers\")\n",
    "plt.title('Distribution of ranked orienteers by their age')\n",
    "plt.show()"
   ]
  },
  {
   "cell_type": "markdown",
   "id": "1aa9018b-d384-47d4-abac-05856abeb064",
   "metadata": {},
   "source": [
    "I then wanted to see whether the distribution of ranked orienteers was similar for both males and females. To achieve this, I created two variables, ‘males’ and ‘females’, where I applied a filter to return only the rows where [‘M/F’] equals ‘M’ and ‘F’, respectively. I then plotted the histogram. The distributions look very similar for both genders in terms of their overall shape. However, the numbers of ranked female orienteers are lower across all the age classes than the number of ranked males."
   ]
  },
  {
   "cell_type": "code",
   "execution_count": 81,
   "id": "1510d747-3faf-4e7c-83b1-70a7f540e4a7",
   "metadata": {},
   "outputs": [
    {
     "data": {
      "image/png": "[encoded data removed]",
      "text/plain": [
       "<Figure size 640x480 with 1 Axes>"
      ]
     },
     "metadata": {},
     "output_type": "display_data"
    }
   ],
   "source": [
    "#print a histogram of the age distrbution of orienteers on the ranking list by gender\n",
    "\n",
    "males = df_ranking_list.loc[df_ranking_list['M/F']=='M', 'age']\n",
    "females = df_ranking_list.loc[df_ranking_list['M/F']=='F', 'age']\n",
    "\n",
    "plt.hist(males,  label='M', bins = 15)\n",
    "plt.hist(females,  label='F', bins = 15)\n",
    "plt.xlabel(\"Orienteer age\")\n",
    "plt.ylabel(\"Number of ranked orienteers\")\n",
    "plt.legend()\n",
    "plt.title('Distribution of ranked orienteers by their age and gender')\n",
    "plt.show()"
   ]
  },
  {
   "cell_type": "markdown",
   "id": "ee98d3e4-02b0-492c-b737-231fb5ccfac1",
   "metadata": {},
   "source": [
    "Next, I wanted to explore the maximum ranking score for each unique age within the ranking list to see what the peak performance age for orienteers was. It can be seen that orienteers up to approximately 40-years-old are evenly matched before the maximum average ranking score for each unique age starts to decrease. As could be expected, the older age groups have noticeably lower maximum average ranking scores for each unique age. "
   ]
  },
  {
   "cell_type": "code",
   "execution_count": 16,
   "id": "28917e2f-6c73-48a5-8668-9f1222a5e5d5",
   "metadata": {},
   "outputs": [
    {
     "data": {
      "image/png": "[encoded data removed]",
      "text/plain": [
       "<Figure size 640x480 with 1 Axes>"
      ]
     },
     "metadata": {},
     "output_type": "display_data"
    }
   ],
   "source": [
    "# plot the maximum average for each age\n",
    "\n",
    "x = (df_ranking_list['age'].unique())\n",
    "y = df_ranking_list.groupby('age')['Average'].max()\n",
    "plt.scatter(x, y)\n",
    "plt.xlabel('Orienteer age')\n",
    "plt.ylabel('Maximum ranking average score')\n",
    "plt.title('Maximum ranking average score as a function of orienteer age')\n",
    "plt.show()"
   ]
  },
  {
   "cell_type": "markdown",
   "id": "432450c7-1589-4b80-a99d-87956366fa5b",
   "metadata": {},
   "source": [
    "I then split the dataset between males and females to see if top female orienteers at any age outperformed the top male orienteers. As shown by the graph below, males generally scored higher maximum average ranking scores than females across all the ages. "
   ]
  },
  {
   "cell_type": "code",
   "execution_count": 90,
   "id": "a5275630-6de4-4b78-b253-c35360ffe4fe",
   "metadata": {},
   "outputs": [
    {
     "data": {
      "image/png": "[encoded data removed]",
      "text/plain": [
       "<Figure size 640x480 with 1 Axes>"
      ]
     },
     "metadata": {},
     "output_type": "display_data"
    }
   ],
   "source": [
    "# plot the maximum average for each age grouped by gender\n",
    "\n",
    "x = df_ranking_list['age'].unique()\n",
    "gender_max = df_ranking_list.groupby(['age', 'M/F'])['Average'].max().unstack() \n",
    "\n",
    "plt.scatter(x, gender_max['M'], label='Male', marker='x', c='blue')\n",
    "plt.scatter(x, gender_max['F'], label='Female', marker='x', c='orange')\n",
    "\n",
    "plt.xlabel('Orienteer age')\n",
    "plt.ylabel('Maximum ranking average score')\n",
    "plt.title('Maximum ranking average score as a function of orienteer age and gender')\n",
    "plt.legend()\n",
    "plt.show()\n"
   ]
  },
  {
   "cell_type": "markdown",
   "id": "6e1a0487-43c4-4504-ad19-62c52d55faa1",
   "metadata": {},
   "source": [
    "Next I wanted to have a look at the distribution of average ranking scores across the entire dataset. A histogram with the distribution of scores is shown below. The distribution follows a Bell curve, with a slight tail towards the lower scores. Some of these lower scores can possibly be attributed to the older ranked orienteers. "
   ]
  },
  {
   "cell_type": "code",
   "execution_count": 18,
   "id": "266d6440-d533-4dc6-90c9-a76b5698f31f",
   "metadata": {},
   "outputs": [
    {
     "data": {
      "image/png": "[encoded data removed]",
      "text/plain": [
       "<Figure size 640x480 with 1 Axes>"
      ]
     },
     "metadata": {},
     "output_type": "display_data"
    }
   ],
   "source": [
    "# plot the distribution of average ranking scores\n",
    "plt.hist(x = 'Average', data = df_ranking_list, bins = 50)\n",
    "plt.xlabel(\"Average ranking score\")\n",
    "plt.ylabel(\"Number of scores\")\n",
    "plt.title('Distribution of average ranking scores')\n",
    "plt.show()"
   ]
  },
  {
   "cell_type": "markdown",
   "id": "9b14f2fb-ebb8-441b-8a6a-1ca5258ae187",
   "metadata": {},
   "source": [
    "To explore if it was justifiable to exclude any of the values from the tail in the lower end of the ranking scores I calculated the statistical descriptors for the distribution of average ranking scores. I used `f’strings` and limited the decimal places to two in my output from the code."
   ]
  },
  {
   "cell_type": "code",
   "execution_count": null,
   "id": "6548026b-bf5c-42b2-80e1-5f5591dcf78f",
   "metadata": {},
   "outputs": [
    {
     "name": "stdout",
     "output_type": "stream",
     "text": [
      " The mean average ranking score is 997.33 points\n",
      " The median average ranking score is 1016.00 points\n",
      " The mode for average ranking score is 0    1040\n",
      "Name: Average, dtype: int64 points\n"
     ]
    }
   ],
   "source": [
    "#calculate the mean of the average ranking scores\n",
    "\n",
    "from scipy import stats\n",
    "Mean_average = df_ranking_list.Average.mean()\n",
    "print (f' The mean average ranking score is {Mean_average:.2f} points')\n",
    "\n",
    "#calculate the median of the average ranking scores\n",
    "Median_average = df_ranking_list.Average.median()\n",
    "print (f' The median average ranking score is {Median_average:.2f} points')\n",
    "\n",
    "# calculate the mode of the average ranking scores\n",
    "Mode_average = df_ranking_list.Average.mode()\n",
    "print (f' The mode for average ranking score is {Mode_average} points')"
   ]
  },
  {
   "cell_type": "code",
   "execution_count": 20,
   "id": "944a6b4e-b913-48ac-a607-992ee695f7dd",
   "metadata": {},
   "outputs": [
    {
     "name": "stdout",
     "output_type": "stream",
     "text": [
      " The standard deviation for average ranking score is 192.64 points\n"
     ]
    }
   ],
   "source": [
    "#calculate standard deviation for average ranking score\n",
    "Std_average = df_ranking_list.Average.std()\n",
    "print (f' The standard deviation for average ranking score is {Std_average:.2f} points')"
   ]
  },
  {
   "cell_type": "markdown",
   "id": "f29d821d-2120-4396-b3a8-6d314f6a961a",
   "metadata": {},
   "source": [
    "I then calculated the standard deviation for the average ranking score, and used six sigma as a justification to exclude any values that were more than three times the standard deviation smaller than the average. It can be seen that the dataframe has 4964 rows, meaning 47 entries were excluded as outliers. "
   ]
  },
  {
   "cell_type": "code",
   "execution_count": 21,
   "id": "5f60a634-2bc9-49b8-8ae2-f56df329310f",
   "metadata": {},
   "outputs": [
    {
     "name": "stdout",
     "output_type": "stream",
     "text": [
      "Any values smaller than 419.41 or larger than 1575.25 can be considered as outliers\n"
     ]
    },
    {
     "data": {
      "text/html": [
       "<div>\n",
       "<style scoped>\n",
       "    .dataframe tbody tr th:only-of-type {\n",
       "        vertical-align: middle;\n",
       "    }\n",
       "\n",
       "    .dataframe tbody tr th {\n",
       "        vertical-align: top;\n",
       "    }\n",
       "\n",
       "    .dataframe thead th {\n",
       "        text-align: right;\n",
       "    }\n",
       "</style>\n",
       "<table border=\"1\" class=\"dataframe\">\n",
       "  <thead>\n",
       "    <tr style=\"text-align: right;\">\n",
       "      <th></th>\n",
       "      <th>First Name</th>\n",
       "      <th>Last Name</th>\n",
       "      <th>BOF number</th>\n",
       "      <th>Club</th>\n",
       "      <th>YOB</th>\n",
       "      <th>M/F</th>\n",
       "      <th>Average</th>\n",
       "      <th>score 1</th>\n",
       "      <th>score 2</th>\n",
       "      <th>score 3</th>\n",
       "      <th>score 4</th>\n",
       "      <th>score 5</th>\n",
       "      <th>score 6</th>\n",
       "      <th>age</th>\n",
       "    </tr>\n",
       "    <tr>\n",
       "      <th>Pos.</th>\n",
       "      <th></th>\n",
       "      <th></th>\n",
       "      <th></th>\n",
       "      <th></th>\n",
       "      <th></th>\n",
       "      <th></th>\n",
       "      <th></th>\n",
       "      <th></th>\n",
       "      <th></th>\n",
       "      <th></th>\n",
       "      <th></th>\n",
       "      <th></th>\n",
       "      <th></th>\n",
       "      <th></th>\n",
       "    </tr>\n",
       "  </thead>\n",
       "  <tbody>\n",
       "    <tr>\n",
       "      <th>1</th>\n",
       "      <td>Nathan</td>\n",
       "      <td>Lawson</td>\n",
       "      <td>369664</td>\n",
       "      <td>OD</td>\n",
       "      <td>1997</td>\n",
       "      <td>M</td>\n",
       "      <td>1399</td>\n",
       "      <td>1413</td>\n",
       "      <td>1415.0</td>\n",
       "      <td>1420.0</td>\n",
       "      <td>1424.0</td>\n",
       "      <td>1422.0</td>\n",
       "      <td>1423.0</td>\n",
       "      <td>27</td>\n",
       "    </tr>\n",
       "    <tr>\n",
       "      <th>2</th>\n",
       "      <td>Ben</td>\n",
       "      <td>Mitchell</td>\n",
       "      <td>233293</td>\n",
       "      <td>SBOC</td>\n",
       "      <td>1993</td>\n",
       "      <td>M</td>\n",
       "      <td>1390</td>\n",
       "      <td>1400</td>\n",
       "      <td>1468.0</td>\n",
       "      <td>1411.0</td>\n",
       "      <td>1401.0</td>\n",
       "      <td>1405.0</td>\n",
       "      <td>1397.0</td>\n",
       "      <td>31</td>\n",
       "    </tr>\n",
       "    <tr>\n",
       "      <th>3</th>\n",
       "      <td>Alexander</td>\n",
       "      <td>Chepelin</td>\n",
       "      <td>449661</td>\n",
       "      <td>INT</td>\n",
       "      <td>1997</td>\n",
       "      <td>M</td>\n",
       "      <td>1404</td>\n",
       "      <td>1436</td>\n",
       "      <td>1412.0</td>\n",
       "      <td>1418.0</td>\n",
       "      <td>1404.0</td>\n",
       "      <td>1406.0</td>\n",
       "      <td>1404.0</td>\n",
       "      <td>27</td>\n",
       "    </tr>\n",
       "    <tr>\n",
       "      <th>4</th>\n",
       "      <td>Matthew</td>\n",
       "      <td>Gooch</td>\n",
       "      <td>471453</td>\n",
       "      <td>EUOC</td>\n",
       "      <td>2002</td>\n",
       "      <td>M</td>\n",
       "      <td>1391</td>\n",
       "      <td>1430</td>\n",
       "      <td>1404.0</td>\n",
       "      <td>1414.0</td>\n",
       "      <td>1403.0</td>\n",
       "      <td>1407.0</td>\n",
       "      <td>1414.0</td>\n",
       "      <td>22</td>\n",
       "    </tr>\n",
       "    <tr>\n",
       "      <th>5</th>\n",
       "      <td>Graham</td>\n",
       "      <td>Gristwood</td>\n",
       "      <td>444751</td>\n",
       "      <td>FVO</td>\n",
       "      <td>1984</td>\n",
       "      <td>M</td>\n",
       "      <td>1399</td>\n",
       "      <td>1402</td>\n",
       "      <td>1416.0</td>\n",
       "      <td>1407.0</td>\n",
       "      <td>1405.0</td>\n",
       "      <td>1411.0</td>\n",
       "      <td>1427.0</td>\n",
       "      <td>40</td>\n",
       "    </tr>\n",
       "    <tr>\n",
       "      <th>...</th>\n",
       "      <td>...</td>\n",
       "      <td>...</td>\n",
       "      <td>...</td>\n",
       "      <td>...</td>\n",
       "      <td>...</td>\n",
       "      <td>...</td>\n",
       "      <td>...</td>\n",
       "      <td>...</td>\n",
       "      <td>...</td>\n",
       "      <td>...</td>\n",
       "      <td>...</td>\n",
       "      <td>...</td>\n",
       "      <td>...</td>\n",
       "      <td>...</td>\n",
       "    </tr>\n",
       "    <tr>\n",
       "      <th>4980</th>\n",
       "      <td>Sophie</td>\n",
       "      <td>Battistini</td>\n",
       "      <td>371472</td>\n",
       "      <td>BOF</td>\n",
       "      <td>1977</td>\n",
       "      <td>F</td>\n",
       "      <td>466</td>\n",
       "      <td>466</td>\n",
       "      <td>0.0</td>\n",
       "      <td>0.0</td>\n",
       "      <td>0.0</td>\n",
       "      <td>0.0</td>\n",
       "      <td>0.0</td>\n",
       "      <td>47</td>\n",
       "    </tr>\n",
       "    <tr>\n",
       "      <th>4981</th>\n",
       "      <td>Alex</td>\n",
       "      <td>Escudero</td>\n",
       "      <td>102260</td>\n",
       "      <td>SOC</td>\n",
       "      <td>1973</td>\n",
       "      <td>M</td>\n",
       "      <td>444</td>\n",
       "      <td>444</td>\n",
       "      <td>0.0</td>\n",
       "      <td>0.0</td>\n",
       "      <td>0.0</td>\n",
       "      <td>0.0</td>\n",
       "      <td>0.0</td>\n",
       "      <td>51</td>\n",
       "    </tr>\n",
       "    <tr>\n",
       "      <th>4982</th>\n",
       "      <td>Janet</td>\n",
       "      <td>Livingstone</td>\n",
       "      <td>777105</td>\n",
       "      <td>NWO</td>\n",
       "      <td>1955</td>\n",
       "      <td>F</td>\n",
       "      <td>442</td>\n",
       "      <td>442</td>\n",
       "      <td>0.0</td>\n",
       "      <td>0.0</td>\n",
       "      <td>0.0</td>\n",
       "      <td>0.0</td>\n",
       "      <td>0.0</td>\n",
       "      <td>69</td>\n",
       "    </tr>\n",
       "    <tr>\n",
       "      <th>4983</th>\n",
       "      <td>Susanne</td>\n",
       "      <td>Levinson</td>\n",
       "      <td>506733</td>\n",
       "      <td>EPOC</td>\n",
       "      <td>1954</td>\n",
       "      <td>F</td>\n",
       "      <td>440</td>\n",
       "      <td>440</td>\n",
       "      <td>0.0</td>\n",
       "      <td>0.0</td>\n",
       "      <td>0.0</td>\n",
       "      <td>0.0</td>\n",
       "      <td>0.0</td>\n",
       "      <td>70</td>\n",
       "    </tr>\n",
       "    <tr>\n",
       "      <th>4984</th>\n",
       "      <td>Hils</td>\n",
       "      <td>Jago</td>\n",
       "      <td>159421</td>\n",
       "      <td>LOK</td>\n",
       "      <td>1945</td>\n",
       "      <td>F</td>\n",
       "      <td>430</td>\n",
       "      <td>430</td>\n",
       "      <td>0.0</td>\n",
       "      <td>0.0</td>\n",
       "      <td>0.0</td>\n",
       "      <td>0.0</td>\n",
       "      <td>0.0</td>\n",
       "      <td>79</td>\n",
       "    </tr>\n",
       "  </tbody>\n",
       "</table>\n",
       "<p>4964 rows × 14 columns</p>\n",
       "</div>"
      ],
      "text/plain": [
       "     First Name    Last Name  BOF number  Club   YOB M/F  Average  score 1  \\\n",
       "Pos.                                                                         \n",
       "1        Nathan       Lawson      369664    OD  1997   M     1399     1413   \n",
       "2           Ben     Mitchell      233293  SBOC  1993   M     1390     1400   \n",
       "3     Alexander     Chepelin      449661   INT  1997   M     1404     1436   \n",
       "4       Matthew        Gooch      471453  EUOC  2002   M     1391     1430   \n",
       "5        Graham    Gristwood      444751   FVO  1984   M     1399     1402   \n",
       "...         ...          ...         ...   ...   ...  ..      ...      ...   \n",
       "4980     Sophie   Battistini      371472   BOF  1977   F      466      466   \n",
       "4981       Alex     Escudero      102260   SOC  1973   M      444      444   \n",
       "4982      Janet  Livingstone      777105   NWO  1955   F      442      442   \n",
       "4983    Susanne     Levinson      506733  EPOC  1954   F      440      440   \n",
       "4984       Hils         Jago      159421   LOK  1945   F      430      430   \n",
       "\n",
       "      score 2  score 3  score 4  score 5  score 6  age  \n",
       "Pos.                                                    \n",
       "1      1415.0   1420.0   1424.0   1422.0   1423.0   27  \n",
       "2      1468.0   1411.0   1401.0   1405.0   1397.0   31  \n",
       "3      1412.0   1418.0   1404.0   1406.0   1404.0   27  \n",
       "4      1404.0   1414.0   1403.0   1407.0   1414.0   22  \n",
       "5      1416.0   1407.0   1405.0   1411.0   1427.0   40  \n",
       "...       ...      ...      ...      ...      ...  ...  \n",
       "4980      0.0      0.0      0.0      0.0      0.0   47  \n",
       "4981      0.0      0.0      0.0      0.0      0.0   51  \n",
       "4982      0.0      0.0      0.0      0.0      0.0   69  \n",
       "4983      0.0      0.0      0.0      0.0      0.0   70  \n",
       "4984      0.0      0.0      0.0      0.0      0.0   79  \n",
       "\n",
       "[4964 rows x 14 columns]"
      ]
     },
     "execution_count": 21,
     "metadata": {},
     "output_type": "execute_result"
    }
   ],
   "source": [
    "#calculate limits for excluding outliers using 3 std\n",
    "Three_std = 3*Std_average\n",
    "Lower_limit = Mean_average - Three_std\n",
    "Upper_limit = Mean_average + Three_std\n",
    "\n",
    "print(f'Any values smaller than {Lower_limit:.2f} or larger than {Upper_limit:.2f} can be considered as outliers')\n",
    "\n",
    "#filter out outliers\n",
    "df_ranking_list_filtered = df_ranking_list[df_ranking_list['Average'] >= 419.41]\n",
    "df_ranking_list_filtered"
   ]
  },
  {
   "cell_type": "markdown",
   "id": "411c36f7-4777-4e20-b8ad-28748e7ffcb0",
   "metadata": {},
   "source": [
    "# Data visualisation\n",
    "\n",
    "Now that I was dealing with a clean dataset with outliers removed, it was time to start visualising the data in more detail. First of all, I plotted the distribution of average ranking scores in `Seaborn`."
   ]
  },
  {
   "cell_type": "code",
   "execution_count": 22,
   "id": "5d8c95c0-b865-4463-b1a9-41d1f1aad431",
   "metadata": {},
   "outputs": [
    {
     "data": {
      "image/png": "[encoded data removed]",
      "text/plain": [
       "<Figure size 640x480 with 1 Axes>"
      ]
     },
     "metadata": {},
     "output_type": "display_data"
    }
   ],
   "source": [
    "#plot the histogram with line graph again with the outliers excluded\n",
    "import seaborn as sns\n",
    "\n",
    "sns.histplot(df_ranking_list_filtered.Average, kde=True)\n",
    "plt.xlabel(\"Average ranking score\")\n",
    "plt.ylabel(\"Number of scores\")\n",
    "plt.title('Distribution of average ranking scores after outliers removed')\n",
    "plt.show()\n"
   ]
  },
  {
   "cell_type": "markdown",
   "id": "73bffb65-01b7-4312-a2ca-767291122e5a",
   "metadata": {},
   "source": [
    "I then wanted to look at the mean average ranking score by club. Here I needed to remove the entries where ‘Club’ was ‘0’ – you may remember that I had changed all NaN values to 0 earlier on in the process. Had I changed it to ‘Not known’ or another string, I could have still plotted the values on the graph, a valuable learning experience! A graph of the mean average ranking score by club is shown below. There are approximately ten clubs with higher mean average ranking scores, followed by a gradual decrease in the mean average ranking score for the rest of the clubs. "
   ]
  },
  {
   "cell_type": "code",
   "execution_count": 23,
   "id": "a410d79a-f1b8-4168-9202-cb9455dfc6f8",
   "metadata": {},
   "outputs": [
    {
     "name": "stderr",
     "output_type": "stream",
     "text": [
      "/opt/conda/envs/anaconda-panel-2023.05-py310/lib/python3.11/site-packages/seaborn/axisgrid.py:118: UserWarning: The figure layout has changed to tight\n",
      "  self._figure.tight_layout(*args, **kwargs)\n"
     ]
    },
    {
     "data": {
      "image/png": "[encoded data removed]",
      "text/plain": [
       "<Figure size 1500x750 with 1 Axes>"
      ]
     },
     "metadata": {},
     "output_type": "display_data"
    }
   ],
   "source": [
    "#There is an entry in the graph with club name '0'. Find the entry and remove it from the dataframe\n",
    "df_zero_clubs_removed = df_ranking_list.loc[df_ranking_list['Club'] != 0]\n",
    "\n",
    "#replot the graph with the cleaned dataframe\n",
    "\n",
    "sns.catplot(data=df_zero_clubs_removed,\n",
    "            x=\"Club\",\n",
    "            y=\"Average\",\n",
    "            kind=\"bar\",\n",
    "            order = df_zero_clubs_removed.groupby('Club')['Average'].mean().sort_values(ascending=False).index,\n",
    "           height=7.5,\n",
    "           aspect=2)\n",
    "plt.xlabel(\"Club\")\n",
    "plt.ylabel(\"Average score\")\n",
    "plt.title('Average score by club')\n",
    "plt.xticks(rotation=70, fontsize = 10, ha=\"right\")\n",
    "plt.show()\n"
   ]
  },
  {
   "cell_type": "markdown",
   "id": "1b76d4b0-0368-4ae4-88f0-d0808ed3a3cc",
   "metadata": {},
   "source": [
    "The figure above is useful for visualising the general trend in the mean average scores for each club, but contains too much information to be legible on the x-axis to find out which clubs are the top performing clubs. Therefore, I repeated the same graph but this time only plotted the top-25 clubs. It can be seen that eight out of the top-ten clubs are either university clubs or university alumni clubs. It could be assumed that the runners in these clubs are younger, and therefore perhaps fitter, scoring higher average raking points. "
   ]
  },
  {
   "cell_type": "code",
   "execution_count": 24,
   "id": "f784ee82-1c30-4e6b-92b8-4a3f2e0c5b24",
   "metadata": {},
   "outputs": [
    {
     "name": "stderr",
     "output_type": "stream",
     "text": [
      "/opt/conda/envs/anaconda-panel-2023.05-py310/lib/python3.11/site-packages/seaborn/axisgrid.py:118: UserWarning: The figure layout has changed to tight\n",
      "  self._figure.tight_layout(*args, **kwargs)\n"
     ]
    },
    {
     "data": {
      "image/png": "[encoded data removed]",
      "text/plain": [
       "<Figure size 1500x750 with 1 Axes>"
      ]
     },
     "metadata": {},
     "output_type": "display_data"
    }
   ],
   "source": [
    "\n",
    "# Get the top 25 clubs based on the mean of 'Average' scores\n",
    "top_25_clubs = df_zero_clubs_removed.groupby('Club')['Average'].mean().sort_values(ascending=False).index[:25]\n",
    "\n",
    "# Filter the DataFrame to include only the top 25 clubs\n",
    "df_top_25_clubs = df_zero_clubs_removed[df_zero_clubs_removed['Club'].isin(top_25_clubs)]\n",
    "\n",
    "# Plotting the data for the top 25 clubs\n",
    "sns.catplot(data=df_top_25_clubs,\n",
    "            x=\"Club\",\n",
    "            y=\"Average\",\n",
    "            kind=\"bar\",\n",
    "            order=top_25_clubs,\n",
    "            height=7.5,\n",
    "            aspect=2)\n",
    "\n",
    "plt.xlabel(\"Club\")\n",
    "plt.ylabel(\"Average score\")\n",
    "plt.title('Average score by club')\n",
    "plt.xticks(rotation=70, fontsize=20, ha=\"right\")\n",
    "plt.show()"
   ]
  },
  {
   "cell_type": "markdown",
   "id": "5986700c-5a76-4cef-9b98-4f7c79b61992",
   "metadata": {},
   "source": [
    "To test my hypothesis about the runners in university and university alumni clubs being younger, I plotted the average age by club. Again, there is too much data on this graph to enable detailed analysis, but the drastic drop in average age on the right hand side of the graph caught my attention."
   ]
  },
  {
   "cell_type": "code",
   "execution_count": 104,
   "id": "d43d4807-d195-468f-a535-d4c0f684ced3",
   "metadata": {},
   "outputs": [
    {
     "name": "stderr",
     "output_type": "stream",
     "text": [
      "/opt/conda/envs/anaconda-panel-2023.05-py310/lib/python3.11/site-packages/seaborn/axisgrid.py:118: UserWarning:\n",
      "\n",
      "The figure layout has changed to tight\n",
      "\n"
     ]
    },
    {
     "data": {
      "image/png": "[encoded data removed]",
      "text/plain": [
       "<Figure size 1500x750 with 1 Axes>"
      ]
     },
     "metadata": {},
     "output_type": "display_data"
    }
   ],
   "source": [
    "sns.catplot(data=df_zero_clubs_removed,\n",
    "            x=\"Club\",\n",
    "            y=\"age\",\n",
    "            kind=\"bar\",\n",
    "            order = df_zero_clubs_removed.groupby('Club')['age'].mean().sort_values(ascending=False).index,\n",
    "           height=7.5,\n",
    "           aspect=2)\n",
    "plt.xlabel(\"Club\")\n",
    "plt.ylabel(\"Average age\")\n",
    "plt.title('Average age by club')\n",
    "plt.xticks(rotation=70, fontsize = 10, ha=\"right\")\n",
    "plt.show()"
   ]
  },
  {
   "cell_type": "markdown",
   "id": "fb9a7814-2e20-45e7-8039-e8934740f332",
   "metadata": {},
   "source": [
    "Another thing I noticed when looking at the graphs I had produced so far was the size of the error bars for mean average ranking score per club and mean age per club. This got me wondering about the numbers of ranked runners in each club, which is what I plotted next. The data shows that there is indeed a large span in the number of ranked runners in different clubs, with the range varying from one to more than 175. "
   ]
  },
  {
   "cell_type": "code",
   "execution_count": 26,
   "id": "73bc5cf9-0418-4225-96b6-330f3183c8eb",
   "metadata": {},
   "outputs": [
    {
     "data": {
      "image/png": "[encoded data removed]",
      "text/plain": [
       "<Figure size 640x480 with 1 Axes>"
      ]
     },
     "metadata": {},
     "output_type": "display_data"
    }
   ],
   "source": [
    "#plot the number of ranked runners per club\n",
    "\n",
    "sns.countplot(data = df_zero_clubs_removed,\n",
    "              x = 'Club',\n",
    "              order = df_zero_clubs_removed['Club'].value_counts().index)\n",
    "plt.xlabel(\"Club\")\n",
    "plt.ylabel(\"Number of ranked runners\")\n",
    "plt.title('Number of ranked runners per club')\n",
    "plt.xticks(rotation=90, fontsize=6, ha='right')\n",
    "\n",
    "# Adjust layout to prevent clipping of rotated tick labels\n",
    "plt.tight_layout()\n",
    "plt.show()"
   ]
  },
  {
   "cell_type": "markdown",
   "id": "6b0fabaf-4e02-48b4-bcb5-77230620237a",
   "metadata": {},
   "source": [
    "To bring all my observations, as well as lot of the learning from the bootcamp, together, I used `plotly` to build an interactive graph. To build this graph I created two new dataframes (club_mean and club_count) and then merged them into a new dataframe (merged_data) on ‘Club’ column, which I then used for plotting the graph. The graph displays the mean average ranking score as a function of mean age, grouped by club. Hovering over the datapoints will reveal the count of runners in each club. "
   ]
  },
  {
   "cell_type": "code",
   "execution_count": 65,
   "id": "e214e136-af45-4ffb-9048-f0a6292a8b5d",
   "metadata": {},
   "outputs": [
    {
     "data": {
      "text/html": [
       "        <script type=\"text/javascript\">\n",
       "        window.PlotlyConfig = {MathJaxConfig: 'local'};\n",
       "        if (window.MathJax && window.MathJax.Hub && window.MathJax.Hub.Config) {window.MathJax.Hub.Config({SVG: {font: \"STIX-Web\"}});}\n",
       "        if (typeof require !== 'undefined') {\n",
       "        require.undef(\"plotly\");\n",
       "        requirejs.config({\n",
       "            paths: {\n",
       "                'plotly': ['https://cdn.plot.ly/plotly-2.12.1.min']\n",
       "            }\n",
       "        });\n",
       "        require(['plotly'], function(Plotly) {\n",
       "            window._Plotly = Plotly;\n",
       "        });\n",
       "        }\n",
       "        </script>\n",
       "        "
      ]
     },
     "metadata": {},
     "output_type": "display_data"
    },
    {
     "data": {
      "application/vnd.plotly.v1+json": {
       "config": {
        "linkText": "Export to plot.ly",
        "plotlyServerURL": "https://plot.ly",
        "showLink": false
       },
       "data": [
        {
         "customdata": [
          [
           103
          ]
         ],
         "hovertemplate": "<b>%{hovertext}</b><br><br>Club=AIRE<br>Mean Age=%{x}<br>Mean Average Ranking Score=%{y}<br>Count=%{customdata[0]}<extra></extra>",
         "hovertext": [
          "AIRE"
         ],
         "legendgroup": "AIRE",
         "marker": {
          "color": "#636efa",
          "symbol": "circle"
         },
         "mode": "markers",
         "name": "AIRE",
         "orientation": "v",
         "showlegend": true,
         "type": "scatter",
         "x": [
          51.922330097087375
         ],
         "xaxis": "x",
         "y": [
          1040.378640776699
         ],
         "yaxis": "y"
        },
        {
         "customdata": [
          [
           8
          ]
         ],
         "hovertemplate": "<b>%{hovertext}</b><br><br>Club=AROS<br>Mean Age=%{x}<br>Mean Average Ranking Score=%{y}<br>Count=%{customdata[0]}<extra></extra>",
         "hovertext": [
          "AROS"
         ],
         "legendgroup": "AROS",
         "marker": {
          "color": "#EF553B",
          "symbol": "circle"
         },
         "mode": "markers",
         "name": "AROS",
         "orientation": "v",
         "showlegend": true,
         "type": "scatter",
         "x": [
          30.875
         ],
         "xaxis": "x",
         "y": [
          1258.75
         ],
         "yaxis": "y"
        },
        {
         "customdata": [
          [
           1
          ]
         ],
         "hovertemplate": "<b>%{hovertext}</b><br><br>Club=AUOC<br>Mean Age=%{x}<br>Mean Average Ranking Score=%{y}<br>Count=%{customdata[0]}<extra></extra>",
         "hovertext": [
          "AUOC"
         ],
         "legendgroup": "AUOC",
         "marker": {
          "color": "#00cc96",
          "symbol": "circle"
         },
         "mode": "markers",
         "name": "AUOC",
         "orientation": "v",
         "showlegend": true,
         "type": "scatter",
         "x": [
          25
         ],
         "xaxis": "x",
         "y": [
          653
         ],
         "yaxis": "y"
        },
        {
         "customdata": [
          [
           14
          ]
         ],
         "hovertemplate": "<b>%{hovertext}</b><br><br>Club=AYROC<br>Mean Age=%{x}<br>Mean Average Ranking Score=%{y}<br>Count=%{customdata[0]}<extra></extra>",
         "hovertext": [
          "AYROC"
         ],
         "legendgroup": "AYROC",
         "marker": {
          "color": "#ab63fa",
          "symbol": "circle"
         },
         "mode": "markers",
         "name": "AYROC",
         "orientation": "v",
         "showlegend": true,
         "type": "scatter",
         "x": [
          56.92857142857143
         ],
         "xaxis": "x",
         "y": [
          982.3571428571429
         ],
         "yaxis": "y"
        },
        {
         "customdata": [
          [
           16
          ]
         ],
         "hovertemplate": "<b>%{hovertext}</b><br><br>Club=BADO<br>Mean Age=%{x}<br>Mean Average Ranking Score=%{y}<br>Count=%{customdata[0]}<extra></extra>",
         "hovertext": [
          "BADO"
         ],
         "legendgroup": "BADO",
         "marker": {
          "color": "#FFA15A",
          "symbol": "circle"
         },
         "mode": "markers",
         "name": "BADO",
         "orientation": "v",
         "showlegend": true,
         "type": "scatter",
         "x": [
          62.1875
         ],
         "xaxis": "x",
         "y": [
          999.9375
         ],
         "yaxis": "y"
        },
        {
         "customdata": [
          [
           70
          ]
         ],
         "hovertemplate": "<b>%{hovertext}</b><br><br>Club=BAOC<br>Mean Age=%{x}<br>Mean Average Ranking Score=%{y}<br>Count=%{customdata[0]}<extra></extra>",
         "hovertext": [
          "BAOC"
         ],
         "legendgroup": "BAOC",
         "marker": {
          "color": "#19d3f3",
          "symbol": "circle"
         },
         "mode": "markers",
         "name": "BAOC",
         "orientation": "v",
         "showlegend": true,
         "type": "scatter",
         "x": [
          51.1
         ],
         "xaxis": "x",
         "y": [
          1068.4
         ],
         "yaxis": "y"
        },
        {
         "customdata": [
          [
           19
          ]
         ],
         "hovertemplate": "<b>%{hovertext}</b><br><br>Club=BASOC<br>Mean Age=%{x}<br>Mean Average Ranking Score=%{y}<br>Count=%{customdata[0]}<extra></extra>",
         "hovertext": [
          "BASOC"
         ],
         "legendgroup": "BASOC",
         "marker": {
          "color": "#FF6692",
          "symbol": "circle"
         },
         "mode": "markers",
         "name": "BASOC",
         "orientation": "v",
         "showlegend": true,
         "type": "scatter",
         "x": [
          58.73684210526316
         ],
         "xaxis": "x",
         "y": [
          1002.7894736842105
         ],
         "yaxis": "y"
        },
        {
         "customdata": [
          [
           68
          ]
         ],
         "hovertemplate": "<b>%{hovertext}</b><br><br>Club=BKO<br>Mean Age=%{x}<br>Mean Average Ranking Score=%{y}<br>Count=%{customdata[0]}<extra></extra>",
         "hovertext": [
          "BKO"
         ],
         "legendgroup": "BKO",
         "marker": {
          "color": "#B6E880",
          "symbol": "circle"
         },
         "mode": "markers",
         "name": "BKO",
         "orientation": "v",
         "showlegend": true,
         "type": "scatter",
         "x": [
          56.044117647058826
         ],
         "xaxis": "x",
         "y": [
          944.7794117647059
         ],
         "yaxis": "y"
        },
        {
         "customdata": [
          [
           64
          ]
         ],
         "hovertemplate": "<b>%{hovertext}</b><br><br>Club=BL<br>Mean Age=%{x}<br>Mean Average Ranking Score=%{y}<br>Count=%{customdata[0]}<extra></extra>",
         "hovertext": [
          "BL"
         ],
         "legendgroup": "BL",
         "marker": {
          "color": "#FF97FF",
          "symbol": "circle"
         },
         "mode": "markers",
         "name": "BL",
         "orientation": "v",
         "showlegend": true,
         "type": "scatter",
         "x": [
          62.78125
         ],
         "xaxis": "x",
         "y": [
          964.734375
         ],
         "yaxis": "y"
        },
        {
         "customdata": [
          [
           57
          ]
         ],
         "hovertemplate": "<b>%{hovertext}</b><br><br>Club=BOF<br>Mean Age=%{x}<br>Mean Average Ranking Score=%{y}<br>Count=%{customdata[0]}<extra></extra>",
         "hovertext": [
          "BOF"
         ],
         "legendgroup": "BOF",
         "marker": {
          "color": "#FECB52",
          "symbol": "circle"
         },
         "mode": "markers",
         "name": "BOF",
         "orientation": "v",
         "showlegend": true,
         "type": "scatter",
         "x": [
          44.94736842105263
         ],
         "xaxis": "x",
         "y": [
          987.0526315789474
         ],
         "yaxis": "y"
        },
        {
         "customdata": [
          [
           185
          ]
         ],
         "hovertemplate": "<b>%{hovertext}</b><br><br>Club=BOK<br>Mean Age=%{x}<br>Mean Average Ranking Score=%{y}<br>Count=%{customdata[0]}<extra></extra>",
         "hovertext": [
          "BOK"
         ],
         "legendgroup": "BOK",
         "marker": {
          "color": "#636efa",
          "symbol": "circle"
         },
         "mode": "markers",
         "name": "BOK",
         "orientation": "v",
         "showlegend": true,
         "type": "scatter",
         "x": [
          52.67027027027027
         ],
         "xaxis": "x",
         "y": [
          994.972972972973
         ],
         "yaxis": "y"
        },
        {
         "customdata": [
          [
           2
          ]
         ],
         "hovertemplate": "<b>%{hovertext}</b><br><br>Club=BUMC<br>Mean Age=%{x}<br>Mean Average Ranking Score=%{y}<br>Count=%{customdata[0]}<extra></extra>",
         "hovertext": [
          "BUMC"
         ],
         "legendgroup": "BUMC",
         "marker": {
          "color": "#EF553B",
          "symbol": "circle"
         },
         "mode": "markers",
         "name": "BUMC",
         "orientation": "v",
         "showlegend": true,
         "type": "scatter",
         "x": [
          23.5
         ],
         "xaxis": "x",
         "y": [
          1039
         ],
         "yaxis": "y"
        },
        {
         "customdata": [
          [
           25
          ]
         ],
         "hovertemplate": "<b>%{hovertext}</b><br><br>Club=CHIG<br>Mean Age=%{x}<br>Mean Average Ranking Score=%{y}<br>Count=%{customdata[0]}<extra></extra>",
         "hovertext": [
          "CHIG"
         ],
         "legendgroup": "CHIG",
         "marker": {
          "color": "#00cc96",
          "symbol": "circle"
         },
         "mode": "markers",
         "name": "CHIG",
         "orientation": "v",
         "showlegend": true,
         "type": "scatter",
         "x": [
          55.96
         ],
         "xaxis": "x",
         "y": [
          925.32
         ],
         "yaxis": "y"
        },
        {
         "customdata": [
          [
           52
          ]
         ],
         "hovertemplate": "<b>%{hovertext}</b><br><br>Club=CLARO<br>Mean Age=%{x}<br>Mean Average Ranking Score=%{y}<br>Count=%{customdata[0]}<extra></extra>",
         "hovertext": [
          "CLARO"
         ],
         "legendgroup": "CLARO",
         "marker": {
          "color": "#ab63fa",
          "symbol": "circle"
         },
         "mode": "markers",
         "name": "CLARO",
         "orientation": "v",
         "showlegend": true,
         "type": "scatter",
         "x": [
          55.07692307692308
         ],
         "xaxis": "x",
         "y": [
          978.1346153846154
         ],
         "yaxis": "y"
        },
        {
         "customdata": [
          [
           73
          ]
         ],
         "hovertemplate": "<b>%{hovertext}</b><br><br>Club=CLOK<br>Mean Age=%{x}<br>Mean Average Ranking Score=%{y}<br>Count=%{customdata[0]}<extra></extra>",
         "hovertext": [
          "CLOK"
         ],
         "legendgroup": "CLOK",
         "marker": {
          "color": "#FFA15A",
          "symbol": "circle"
         },
         "mode": "markers",
         "name": "CLOK",
         "orientation": "v",
         "showlegend": true,
         "type": "scatter",
         "x": [
          56.67123287671233
         ],
         "xaxis": "x",
         "y": [
          931.068493150685
         ],
         "yaxis": "y"
        },
        {
         "customdata": [
          [
           24
          ]
         ],
         "hovertemplate": "<b>%{hovertext}</b><br><br>Club=CLYDE<br>Mean Age=%{x}<br>Mean Average Ranking Score=%{y}<br>Count=%{customdata[0]}<extra></extra>",
         "hovertext": [
          "CLYDE"
         ],
         "legendgroup": "CLYDE",
         "marker": {
          "color": "#19d3f3",
          "symbol": "circle"
         },
         "mode": "markers",
         "name": "CLYDE",
         "orientation": "v",
         "showlegend": true,
         "type": "scatter",
         "x": [
          51.291666666666664
         ],
         "xaxis": "x",
         "y": [
          1049.6666666666667
         ],
         "yaxis": "y"
        },
        {
         "customdata": [
          [
           6
          ]
         ],
         "hovertemplate": "<b>%{hovertext}</b><br><br>Club=CUOC<br>Mean Age=%{x}<br>Mean Average Ranking Score=%{y}<br>Count=%{customdata[0]}<extra></extra>",
         "hovertext": [
          "CUOC"
         ],
         "legendgroup": "CUOC",
         "marker": {
          "color": "#FF6692",
          "symbol": "circle"
         },
         "mode": "markers",
         "name": "CUOC",
         "orientation": "v",
         "showlegend": true,
         "type": "scatter",
         "x": [
          23.833333333333332
         ],
         "xaxis": "x",
         "y": [
          1125.1666666666667
         ],
         "yaxis": "y"
        },
        {
         "customdata": [
          [
           91
          ]
         ],
         "hovertemplate": "<b>%{hovertext}</b><br><br>Club=DEE<br>Mean Age=%{x}<br>Mean Average Ranking Score=%{y}<br>Count=%{customdata[0]}<extra></extra>",
         "hovertext": [
          "DEE"
         ],
         "legendgroup": "DEE",
         "marker": {
          "color": "#B6E880",
          "symbol": "circle"
         },
         "mode": "markers",
         "name": "DEE",
         "orientation": "v",
         "showlegend": true,
         "type": "scatter",
         "x": [
          58.15384615384615
         ],
         "xaxis": "x",
         "y": [
          990
         ],
         "yaxis": "y"
        },
        {
         "customdata": [
          [
           100
          ]
         ],
         "hovertemplate": "<b>%{hovertext}</b><br><br>Club=DEVON<br>Mean Age=%{x}<br>Mean Average Ranking Score=%{y}<br>Count=%{customdata[0]}<extra></extra>",
         "hovertext": [
          "DEVON"
         ],
         "legendgroup": "DEVON",
         "marker": {
          "color": "#FF97FF",
          "symbol": "circle"
         },
         "mode": "markers",
         "name": "DEVON",
         "orientation": "v",
         "showlegend": true,
         "type": "scatter",
         "x": [
          53.05
         ],
         "xaxis": "x",
         "y": [
          1001.86
         ],
         "yaxis": "y"
        },
        {
         "customdata": [
          [
           53
          ]
         ],
         "hovertemplate": "<b>%{hovertext}</b><br><br>Club=DFOK<br>Mean Age=%{x}<br>Mean Average Ranking Score=%{y}<br>Count=%{customdata[0]}<extra></extra>",
         "hovertext": [
          "DFOK"
         ],
         "legendgroup": "DFOK",
         "marker": {
          "color": "#FECB52",
          "symbol": "circle"
         },
         "mode": "markers",
         "name": "DFOK",
         "orientation": "v",
         "showlegend": true,
         "type": "scatter",
         "x": [
          53.339622641509436
         ],
         "xaxis": "x",
         "y": [
          950.2452830188679
         ],
         "yaxis": "y"
        },
        {
         "customdata": [
          [
           17
          ]
         ],
         "hovertemplate": "<b>%{hovertext}</b><br><br>Club=DRONGO<br>Mean Age=%{x}<br>Mean Average Ranking Score=%{y}<br>Count=%{customdata[0]}<extra></extra>",
         "hovertext": [
          "DRONGO"
         ],
         "legendgroup": "DRONGO",
         "marker": {
          "color": "#636efa",
          "symbol": "circle"
         },
         "mode": "markers",
         "name": "DRONGO",
         "orientation": "v",
         "showlegend": true,
         "type": "scatter",
         "x": [
          34.76470588235294
         ],
         "xaxis": "x",
         "y": [
          1148.4705882352941
         ],
         "yaxis": "y"
        },
        {
         "customdata": [
          [
           2
          ]
         ],
         "hovertemplate": "<b>%{hovertext}</b><br><br>Club=DUOC<br>Mean Age=%{x}<br>Mean Average Ranking Score=%{y}<br>Count=%{customdata[0]}<extra></extra>",
         "hovertext": [
          "DUOC"
         ],
         "legendgroup": "DUOC",
         "marker": {
          "color": "#EF553B",
          "symbol": "circle"
         },
         "mode": "markers",
         "name": "DUOC",
         "orientation": "v",
         "showlegend": true,
         "type": "scatter",
         "x": [
          21.5
         ],
         "xaxis": "x",
         "y": [
          1200
         ],
         "yaxis": "y"
        },
        {
         "customdata": [
          [
           116
          ]
         ],
         "hovertemplate": "<b>%{hovertext}</b><br><br>Club=DVO<br>Mean Age=%{x}<br>Mean Average Ranking Score=%{y}<br>Count=%{customdata[0]}<extra></extra>",
         "hovertext": [
          "DVO"
         ],
         "legendgroup": "DVO",
         "marker": {
          "color": "#00cc96",
          "symbol": "circle"
         },
         "mode": "markers",
         "name": "DVO",
         "orientation": "v",
         "showlegend": true,
         "type": "scatter",
         "x": [
          56.12931034482759
         ],
         "xaxis": "x",
         "y": [
          962.4051724137931
         ],
         "yaxis": "y"
        },
        {
         "customdata": [
          [
           59
          ]
         ],
         "hovertemplate": "<b>%{hovertext}</b><br><br>Club=EBOR<br>Mean Age=%{x}<br>Mean Average Ranking Score=%{y}<br>Count=%{customdata[0]}<extra></extra>",
         "hovertext": [
          "EBOR"
         ],
         "legendgroup": "EBOR",
         "marker": {
          "color": "#ab63fa",
          "symbol": "circle"
         },
         "mode": "markers",
         "name": "EBOR",
         "orientation": "v",
         "showlegend": true,
         "type": "scatter",
         "x": [
          58.79661016949152
         ],
         "xaxis": "x",
         "y": [
          935.5593220338983
         ],
         "yaxis": "y"
        },
        {
         "customdata": [
          [
           15
          ]
         ],
         "hovertemplate": "<b>%{hovertext}</b><br><br>Club=ECKO<br>Mean Age=%{x}<br>Mean Average Ranking Score=%{y}<br>Count=%{customdata[0]}<extra></extra>",
         "hovertext": [
          "ECKO"
         ],
         "legendgroup": "ECKO",
         "marker": {
          "color": "#FFA15A",
          "symbol": "circle"
         },
         "mode": "markers",
         "name": "ECKO",
         "orientation": "v",
         "showlegend": true,
         "type": "scatter",
         "x": [
          55.53333333333333
         ],
         "xaxis": "x",
         "y": [
          998.6
         ],
         "yaxis": "y"
        },
        {
         "customdata": [
          [
           25
          ]
         ],
         "hovertemplate": "<b>%{hovertext}</b><br><br>Club=ELO<br>Mean Age=%{x}<br>Mean Average Ranking Score=%{y}<br>Count=%{customdata[0]}<extra></extra>",
         "hovertext": [
          "ELO"
         ],
         "legendgroup": "ELO",
         "marker": {
          "color": "#19d3f3",
          "symbol": "circle"
         },
         "mode": "markers",
         "name": "ELO",
         "orientation": "v",
         "showlegend": true,
         "type": "scatter",
         "x": [
          50.64
         ],
         "xaxis": "x",
         "y": [
          1029.36
         ],
         "yaxis": "y"
        },
        {
         "customdata": [
          [
           57
          ]
         ],
         "hovertemplate": "<b>%{hovertext}</b><br><br>Club=EPOC<br>Mean Age=%{x}<br>Mean Average Ranking Score=%{y}<br>Count=%{customdata[0]}<extra></extra>",
         "hovertext": [
          "EPOC"
         ],
         "legendgroup": "EPOC",
         "marker": {
          "color": "#FF6692",
          "symbol": "circle"
         },
         "mode": "markers",
         "name": "EPOC",
         "orientation": "v",
         "showlegend": true,
         "type": "scatter",
         "x": [
          61.12280701754386
         ],
         "xaxis": "x",
         "y": [
          949.0526315789474
         ],
         "yaxis": "y"
        },
        {
         "customdata": [
          [
           16
          ]
         ],
         "hovertemplate": "<b>%{hovertext}</b><br><br>Club=ERYRI<br>Mean Age=%{x}<br>Mean Average Ranking Score=%{y}<br>Count=%{customdata[0]}<extra></extra>",
         "hovertext": [
          "ERYRI"
         ],
         "legendgroup": "ERYRI",
         "marker": {
          "color": "#B6E880",
          "symbol": "circle"
         },
         "mode": "markers",
         "name": "ERYRI",
         "orientation": "v",
         "showlegend": true,
         "type": "scatter",
         "x": [
          49.0625
         ],
         "xaxis": "x",
         "y": [
          1072.125
         ],
         "yaxis": "y"
        },
        {
         "customdata": [
          [
           82
          ]
         ],
         "hovertemplate": "<b>%{hovertext}</b><br><br>Club=ESOC<br>Mean Age=%{x}<br>Mean Average Ranking Score=%{y}<br>Count=%{customdata[0]}<extra></extra>",
         "hovertext": [
          "ESOC"
         ],
         "legendgroup": "ESOC",
         "marker": {
          "color": "#FF97FF",
          "symbol": "circle"
         },
         "mode": "markers",
         "name": "ESOC",
         "orientation": "v",
         "showlegend": true,
         "type": "scatter",
         "x": [
          56.8780487804878
         ],
         "xaxis": "x",
         "y": [
          983.439024390244
         ],
         "yaxis": "y"
        },
        {
         "customdata": [
          [
           26
          ]
         ],
         "hovertemplate": "<b>%{hovertext}</b><br><br>Club=EUOC<br>Mean Age=%{x}<br>Mean Average Ranking Score=%{y}<br>Count=%{customdata[0]}<extra></extra>",
         "hovertext": [
          "EUOC"
         ],
         "legendgroup": "EUOC",
         "marker": {
          "color": "#FECB52",
          "symbol": "circle"
         },
         "mode": "markers",
         "name": "EUOC",
         "orientation": "v",
         "showlegend": true,
         "type": "scatter",
         "x": [
          23.192307692307693
         ],
         "xaxis": "x",
         "y": [
          1261.8461538461538
         ],
         "yaxis": "y"
        },
        {
         "customdata": [
          [
           11
          ]
         ],
         "hovertemplate": "<b>%{hovertext}</b><br><br>Club=FERMO<br>Mean Age=%{x}<br>Mean Average Ranking Score=%{y}<br>Count=%{customdata[0]}<extra></extra>",
         "hovertext": [
          "FERMO"
         ],
         "legendgroup": "FERMO",
         "marker": {
          "color": "#636efa",
          "symbol": "circle"
         },
         "mode": "markers",
         "name": "FERMO",
         "orientation": "v",
         "showlegend": true,
         "type": "scatter",
         "x": [
          53.63636363636363
         ],
         "xaxis": "x",
         "y": [
          1066.2727272727273
         ],
         "yaxis": "y"
        },
        {
         "customdata": [
          [
           123
          ]
         ],
         "hovertemplate": "<b>%{hovertext}</b><br><br>Club=FVO<br>Mean Age=%{x}<br>Mean Average Ranking Score=%{y}<br>Count=%{customdata[0]}<extra></extra>",
         "hovertext": [
          "FVO"
         ],
         "legendgroup": "FVO",
         "marker": {
          "color": "#EF553B",
          "symbol": "circle"
         },
         "mode": "markers",
         "name": "FVO",
         "orientation": "v",
         "showlegend": true,
         "type": "scatter",
         "x": [
          49.63414634146341
         ],
         "xaxis": "x",
         "y": [
          1090.3821138211383
         ],
         "yaxis": "y"
        },
        {
         "customdata": [
          [
           31
          ]
         ],
         "hovertemplate": "<b>%{hovertext}</b><br><br>Club=GO<br>Mean Age=%{x}<br>Mean Average Ranking Score=%{y}<br>Count=%{customdata[0]}<extra></extra>",
         "hovertext": [
          "GO"
         ],
         "legendgroup": "GO",
         "marker": {
          "color": "#00cc96",
          "symbol": "circle"
         },
         "mode": "markers",
         "name": "GO",
         "orientation": "v",
         "showlegend": true,
         "type": "scatter",
         "x": [
          59.74193548387097
         ],
         "xaxis": "x",
         "y": [
          983.8064516129032
         ],
         "yaxis": "y"
        },
        {
         "customdata": [
          [
           35
          ]
         ],
         "hovertemplate": "<b>%{hovertext}</b><br><br>Club=GRAMP<br>Mean Age=%{x}<br>Mean Average Ranking Score=%{y}<br>Count=%{customdata[0]}<extra></extra>",
         "hovertext": [
          "GRAMP"
         ],
         "legendgroup": "GRAMP",
         "marker": {
          "color": "#ab63fa",
          "symbol": "circle"
         },
         "mode": "markers",
         "name": "GRAMP",
         "orientation": "v",
         "showlegend": true,
         "type": "scatter",
         "x": [
          61.25714285714286
         ],
         "xaxis": "x",
         "y": [
          1014.7142857142857
         ],
         "yaxis": "y"
        },
        {
         "customdata": [
          [
           47
          ]
         ],
         "hovertemplate": "<b>%{hovertext}</b><br><br>Club=HALO<br>Mean Age=%{x}<br>Mean Average Ranking Score=%{y}<br>Count=%{customdata[0]}<extra></extra>",
         "hovertext": [
          "HALO"
         ],
         "legendgroup": "HALO",
         "marker": {
          "color": "#FFA15A",
          "symbol": "circle"
         },
         "mode": "markers",
         "name": "HALO",
         "orientation": "v",
         "showlegend": true,
         "type": "scatter",
         "x": [
          58.59574468085106
         ],
         "xaxis": "x",
         "y": [
          926.2765957446809
         ],
         "yaxis": "y"
        },
        {
         "customdata": [
          [
           22
          ]
         ],
         "hovertemplate": "<b>%{hovertext}</b><br><br>Club=HAVOC<br>Mean Age=%{x}<br>Mean Average Ranking Score=%{y}<br>Count=%{customdata[0]}<extra></extra>",
         "hovertext": [
          "HAVOC"
         ],
         "legendgroup": "HAVOC",
         "marker": {
          "color": "#19d3f3",
          "symbol": "circle"
         },
         "mode": "markers",
         "name": "HAVOC",
         "orientation": "v",
         "showlegend": true,
         "type": "scatter",
         "x": [
          61.09090909090909
         ],
         "xaxis": "x",
         "y": [
          935.8636363636364
         ],
         "yaxis": "y"
        },
        {
         "customdata": [
          [
           107
          ]
         ],
         "hovertemplate": "<b>%{hovertext}</b><br><br>Club=HH<br>Mean Age=%{x}<br>Mean Average Ranking Score=%{y}<br>Count=%{customdata[0]}<extra></extra>",
         "hovertext": [
          "HH"
         ],
         "legendgroup": "HH",
         "marker": {
          "color": "#FF6692",
          "symbol": "circle"
         },
         "mode": "markers",
         "name": "HH",
         "orientation": "v",
         "showlegend": true,
         "type": "scatter",
         "x": [
          50.757009345794394
         ],
         "xaxis": "x",
         "y": [
          999.588785046729
         ],
         "yaxis": "y"
        },
        {
         "customdata": [
          [
           88
          ]
         ],
         "hovertemplate": "<b>%{hovertext}</b><br><br>Club=HOC<br>Mean Age=%{x}<br>Mean Average Ranking Score=%{y}<br>Count=%{customdata[0]}<extra></extra>",
         "hovertext": [
          "HOC"
         ],
         "legendgroup": "HOC",
         "marker": {
          "color": "#B6E880",
          "symbol": "circle"
         },
         "mode": "markers",
         "name": "HOC",
         "orientation": "v",
         "showlegend": true,
         "type": "scatter",
         "x": [
          59.69318181818182
         ],
         "xaxis": "x",
         "y": [
          930.0909090909091
         ],
         "yaxis": "y"
        },
        {
         "customdata": [
          [
           65
          ]
         ],
         "hovertemplate": "<b>%{hovertext}</b><br><br>Club=INT<br>Mean Age=%{x}<br>Mean Average Ranking Score=%{y}<br>Count=%{customdata[0]}<extra></extra>",
         "hovertext": [
          "INT"
         ],
         "legendgroup": "INT",
         "marker": {
          "color": "#FF97FF",
          "symbol": "circle"
         },
         "mode": "markers",
         "name": "INT",
         "orientation": "v",
         "showlegend": true,
         "type": "scatter",
         "x": [
          43.93846153846154
         ],
         "xaxis": "x",
         "y": [
          1170.6153846153845
         ],
         "yaxis": "y"
        },
        {
         "customdata": [
          [
           43
          ]
         ],
         "hovertemplate": "<b>%{hovertext}</b><br><br>Club=INVOC<br>Mean Age=%{x}<br>Mean Average Ranking Score=%{y}<br>Count=%{customdata[0]}<extra></extra>",
         "hovertext": [
          "INVOC"
         ],
         "legendgroup": "INVOC",
         "marker": {
          "color": "#FECB52",
          "symbol": "circle"
         },
         "mode": "markers",
         "name": "INVOC",
         "orientation": "v",
         "showlegend": true,
         "type": "scatter",
         "x": [
          53.58139534883721
         ],
         "xaxis": "x",
         "y": [
          1029.5348837209303
         ],
         "yaxis": "y"
        },
        {
         "customdata": [
          [
           4
          ]
         ],
         "hovertemplate": "<b>%{hovertext}</b><br><br>Club=JOK<br>Mean Age=%{x}<br>Mean Average Ranking Score=%{y}<br>Count=%{customdata[0]}<extra></extra>",
         "hovertext": [
          "JOK"
         ],
         "legendgroup": "JOK",
         "marker": {
          "color": "#636efa",
          "symbol": "circle"
         },
         "mode": "markers",
         "name": "JOK",
         "orientation": "v",
         "showlegend": true,
         "type": "scatter",
         "x": [
          55.25
         ],
         "xaxis": "x",
         "y": [
          980.5
         ],
         "yaxis": "y"
        },
        {
         "customdata": [
          [
           32
          ]
         ],
         "hovertemplate": "<b>%{hovertext}</b><br><br>Club=KERNO<br>Mean Age=%{x}<br>Mean Average Ranking Score=%{y}<br>Count=%{customdata[0]}<extra></extra>",
         "hovertext": [
          "KERNO"
         ],
         "legendgroup": "KERNO",
         "marker": {
          "color": "#EF553B",
          "symbol": "circle"
         },
         "mode": "markers",
         "name": "KERNO",
         "orientation": "v",
         "showlegend": true,
         "type": "scatter",
         "x": [
          60.65625
         ],
         "xaxis": "x",
         "y": [
          1003.8125
         ],
         "yaxis": "y"
        },
        {
         "customdata": [
          [
           10
          ]
         ],
         "hovertemplate": "<b>%{hovertext}</b><br><br>Club=KFO<br>Mean Age=%{x}<br>Mean Average Ranking Score=%{y}<br>Count=%{customdata[0]}<extra></extra>",
         "hovertext": [
          "KFO"
         ],
         "legendgroup": "KFO",
         "marker": {
          "color": "#00cc96",
          "symbol": "circle"
         },
         "mode": "markers",
         "name": "KFO",
         "orientation": "v",
         "showlegend": true,
         "type": "scatter",
         "x": [
          65.7
         ],
         "xaxis": "x",
         "y": [
          936.3
         ],
         "yaxis": "y"
        },
        {
         "customdata": [
          [
           77
          ]
         ],
         "hovertemplate": "<b>%{hovertext}</b><br><br>Club=LEI<br>Mean Age=%{x}<br>Mean Average Ranking Score=%{y}<br>Count=%{customdata[0]}<extra></extra>",
         "hovertext": [
          "LEI"
         ],
         "legendgroup": "LEI",
         "marker": {
          "color": "#ab63fa",
          "symbol": "circle"
         },
         "mode": "markers",
         "name": "LEI",
         "orientation": "v",
         "showlegend": true,
         "type": "scatter",
         "x": [
          59.493506493506494
         ],
         "xaxis": "x",
         "y": [
          924.4545454545455
         ],
         "yaxis": "y"
        },
        {
         "customdata": [
          [
           144
          ]
         ],
         "hovertemplate": "<b>%{hovertext}</b><br><br>Club=LOC<br>Mean Age=%{x}<br>Mean Average Ranking Score=%{y}<br>Count=%{customdata[0]}<extra></extra>",
         "hovertext": [
          "LOC"
         ],
         "legendgroup": "LOC",
         "marker": {
          "color": "#FFA15A",
          "symbol": "circle"
         },
         "mode": "markers",
         "name": "LOC",
         "orientation": "v",
         "showlegend": true,
         "type": "scatter",
         "x": [
          57.46527777777778
         ],
         "xaxis": "x",
         "y": [
          1015.8472222222222
         ],
         "yaxis": "y"
        },
        {
         "customdata": [
          [
           45
          ]
         ],
         "hovertemplate": "<b>%{hovertext}</b><br><br>Club=LOG<br>Mean Age=%{x}<br>Mean Average Ranking Score=%{y}<br>Count=%{customdata[0]}<extra></extra>",
         "hovertext": [
          "LOG"
         ],
         "legendgroup": "LOG",
         "marker": {
          "color": "#19d3f3",
          "symbol": "circle"
         },
         "mode": "markers",
         "name": "LOG",
         "orientation": "v",
         "showlegend": true,
         "type": "scatter",
         "x": [
          53.17777777777778
         ],
         "xaxis": "x",
         "y": [
          983.2666666666667
         ],
         "yaxis": "y"
        },
        {
         "customdata": [
          [
           31
          ]
         ],
         "hovertemplate": "<b>%{hovertext}</b><br><br>Club=LOK<br>Mean Age=%{x}<br>Mean Average Ranking Score=%{y}<br>Count=%{customdata[0]}<extra></extra>",
         "hovertext": [
          "LOK"
         ],
         "legendgroup": "LOK",
         "marker": {
          "color": "#FF6692",
          "symbol": "circle"
         },
         "mode": "markers",
         "name": "LOK",
         "orientation": "v",
         "showlegend": true,
         "type": "scatter",
         "x": [
          52.096774193548384
         ],
         "xaxis": "x",
         "y": [
          986.7741935483871
         ],
         "yaxis": "y"
        },
        {
         "customdata": [
          [
           1
          ]
         ],
         "hovertemplate": "<b>%{hovertext}</b><br><br>Club=LUUOC<br>Mean Age=%{x}<br>Mean Average Ranking Score=%{y}<br>Count=%{customdata[0]}<extra></extra>",
         "hovertext": [
          "LUUOC"
         ],
         "legendgroup": "LUUOC",
         "marker": {
          "color": "#B6E880",
          "symbol": "circle"
         },
         "mode": "markers",
         "name": "LUUOC",
         "orientation": "v",
         "showlegend": true,
         "type": "scatter",
         "x": [
          24
         ],
         "xaxis": "x",
         "y": [
          1147
         ],
         "yaxis": "y"
        },
        {
         "customdata": [
          [
           98
          ]
         ],
         "hovertemplate": "<b>%{hovertext}</b><br><br>Club=LVO<br>Mean Age=%{x}<br>Mean Average Ranking Score=%{y}<br>Count=%{customdata[0]}<extra></extra>",
         "hovertext": [
          "LVO"
         ],
         "legendgroup": "LVO",
         "marker": {
          "color": "#FF97FF",
          "symbol": "circle"
         },
         "mode": "markers",
         "name": "LVO",
         "orientation": "v",
         "showlegend": true,
         "type": "scatter",
         "x": [
          49.33673469387755
         ],
         "xaxis": "x",
         "y": [
          1002.8673469387755
         ],
         "yaxis": "y"
        },
        {
         "customdata": [
          [
           62
          ]
         ],
         "hovertemplate": "<b>%{hovertext}</b><br><br>Club=MAROC<br>Mean Age=%{x}<br>Mean Average Ranking Score=%{y}<br>Count=%{customdata[0]}<extra></extra>",
         "hovertext": [
          "MAROC"
         ],
         "legendgroup": "MAROC",
         "marker": {
          "color": "#FECB52",
          "symbol": "circle"
         },
         "mode": "markers",
         "name": "MAROC",
         "orientation": "v",
         "showlegend": true,
         "type": "scatter",
         "x": [
          49.33870967741935
         ],
         "xaxis": "x",
         "y": [
          1064.0483870967741
         ],
         "yaxis": "y"
        },
        {
         "customdata": [
          [
           105
          ]
         ],
         "hovertemplate": "<b>%{hovertext}</b><br><br>Club=MDOC<br>Mean Age=%{x}<br>Mean Average Ranking Score=%{y}<br>Count=%{customdata[0]}<extra></extra>",
         "hovertext": [
          "MDOC"
         ],
         "legendgroup": "MDOC",
         "marker": {
          "color": "#636efa",
          "symbol": "circle"
         },
         "mode": "markers",
         "name": "MDOC",
         "orientation": "v",
         "showlegend": true,
         "type": "scatter",
         "x": [
          53.457142857142856
         ],
         "xaxis": "x",
         "y": [
          972.3714285714286
         ],
         "yaxis": "y"
        },
        {
         "customdata": [
          [
           45
          ]
         ],
         "hovertemplate": "<b>%{hovertext}</b><br><br>Club=MOR<br>Mean Age=%{x}<br>Mean Average Ranking Score=%{y}<br>Count=%{customdata[0]}<extra></extra>",
         "hovertext": [
          "MOR"
         ],
         "legendgroup": "MOR",
         "marker": {
          "color": "#EF553B",
          "symbol": "circle"
         },
         "mode": "markers",
         "name": "MOR",
         "orientation": "v",
         "showlegend": true,
         "type": "scatter",
         "x": [
          51.48888888888889
         ],
         "xaxis": "x",
         "y": [
          981.8
         ],
         "yaxis": "y"
        },
        {
         "customdata": [
          [
           47
          ]
         ],
         "hovertemplate": "<b>%{hovertext}</b><br><br>Club=MV<br>Mean Age=%{x}<br>Mean Average Ranking Score=%{y}<br>Count=%{customdata[0]}<extra></extra>",
         "hovertext": [
          "MV"
         ],
         "legendgroup": "MV",
         "marker": {
          "color": "#00cc96",
          "symbol": "circle"
         },
         "mode": "markers",
         "name": "MV",
         "orientation": "v",
         "showlegend": true,
         "type": "scatter",
         "x": [
          57.59574468085106
         ],
         "xaxis": "x",
         "y": [
          936.4893617021277
         ],
         "yaxis": "y"
        },
        {
         "customdata": [
          [
           5
          ]
         ],
         "hovertemplate": "<b>%{hovertext}</b><br><br>Club=MWOC<br>Mean Age=%{x}<br>Mean Average Ranking Score=%{y}<br>Count=%{customdata[0]}<extra></extra>",
         "hovertext": [
          "MWOC"
         ],
         "legendgroup": "MWOC",
         "marker": {
          "color": "#ab63fa",
          "symbol": "circle"
         },
         "mode": "markers",
         "name": "MWOC",
         "orientation": "v",
         "showlegend": true,
         "type": "scatter",
         "x": [
          57.6
         ],
         "xaxis": "x",
         "y": [
          1024.8
         ],
         "yaxis": "y"
        },
        {
         "customdata": [
          [
           47
          ]
         ],
         "hovertemplate": "<b>%{hovertext}</b><br><br>Club=NATO<br>Mean Age=%{x}<br>Mean Average Ranking Score=%{y}<br>Count=%{customdata[0]}<extra></extra>",
         "hovertext": [
          "NATO"
         ],
         "legendgroup": "NATO",
         "marker": {
          "color": "#FFA15A",
          "symbol": "circle"
         },
         "mode": "markers",
         "name": "NATO",
         "orientation": "v",
         "showlegend": true,
         "type": "scatter",
         "x": [
          51.787234042553195
         ],
         "xaxis": "x",
         "y": [
          994.063829787234
         ],
         "yaxis": "y"
        },
        {
         "customdata": [
          [
           88
          ]
         ],
         "hovertemplate": "<b>%{hovertext}</b><br><br>Club=NGOC<br>Mean Age=%{x}<br>Mean Average Ranking Score=%{y}<br>Count=%{customdata[0]}<extra></extra>",
         "hovertext": [
          "NGOC"
         ],
         "legendgroup": "NGOC",
         "marker": {
          "color": "#19d3f3",
          "symbol": "circle"
         },
         "mode": "markers",
         "name": "NGOC",
         "orientation": "v",
         "showlegend": true,
         "type": "scatter",
         "x": [
          58.85227272727273
         ],
         "xaxis": "x",
         "y": [
          960.1477272727273
         ],
         "yaxis": "y"
        },
        {
         "customdata": [
          [
           34
          ]
         ],
         "hovertemplate": "<b>%{hovertext}</b><br><br>Club=NN<br>Mean Age=%{x}<br>Mean Average Ranking Score=%{y}<br>Count=%{customdata[0]}<extra></extra>",
         "hovertext": [
          "NN"
         ],
         "legendgroup": "NN",
         "marker": {
          "color": "#FF6692",
          "symbol": "circle"
         },
         "mode": "markers",
         "name": "NN",
         "orientation": "v",
         "showlegend": true,
         "type": "scatter",
         "x": [
          45.14705882352941
         ],
         "xaxis": "x",
         "y": [
          1048.6764705882354
         ],
         "yaxis": "y"
        },
        {
         "customdata": [
          [
           68
          ]
         ],
         "hovertemplate": "<b>%{hovertext}</b><br><br>Club=NOC<br>Mean Age=%{x}<br>Mean Average Ranking Score=%{y}<br>Count=%{customdata[0]}<extra></extra>",
         "hovertext": [
          "NOC"
         ],
         "legendgroup": "NOC",
         "marker": {
          "color": "#B6E880",
          "symbol": "circle"
         },
         "mode": "markers",
         "name": "NOC",
         "orientation": "v",
         "showlegend": true,
         "type": "scatter",
         "x": [
          57.98529411764706
         ],
         "xaxis": "x",
         "y": [
          922.7058823529412
         ],
         "yaxis": "y"
        },
        {
         "customdata": [
          [
           62
          ]
         ],
         "hovertemplate": "<b>%{hovertext}</b><br><br>Club=NOR<br>Mean Age=%{x}<br>Mean Average Ranking Score=%{y}<br>Count=%{customdata[0]}<extra></extra>",
         "hovertext": [
          "NOR"
         ],
         "legendgroup": "NOR",
         "marker": {
          "color": "#FF97FF",
          "symbol": "circle"
         },
         "mode": "markers",
         "name": "NOR",
         "orientation": "v",
         "showlegend": true,
         "type": "scatter",
         "x": [
          56.83870967741935
         ],
         "xaxis": "x",
         "y": [
          941.6612903225806
         ],
         "yaxis": "y"
        },
        {
         "customdata": [
          [
           29
          ]
         ],
         "hovertemplate": "<b>%{hovertext}</b><br><br>Club=NWO<br>Mean Age=%{x}<br>Mean Average Ranking Score=%{y}<br>Count=%{customdata[0]}<extra></extra>",
         "hovertext": [
          "NWO"
         ],
         "legendgroup": "NWO",
         "marker": {
          "color": "#FECB52",
          "symbol": "circle"
         },
         "mode": "markers",
         "name": "NWO",
         "orientation": "v",
         "showlegend": true,
         "type": "scatter",
         "x": [
          57.275862068965516
         ],
         "xaxis": "x",
         "y": [
          957.4827586206897
         ],
         "yaxis": "y"
        },
        {
         "customdata": [
          [
           15
          ]
         ],
         "hovertemplate": "<b>%{hovertext}</b><br><br>Club=NWOC<br>Mean Age=%{x}<br>Mean Average Ranking Score=%{y}<br>Count=%{customdata[0]}<extra></extra>",
         "hovertext": [
          "NWOC"
         ],
         "legendgroup": "NWOC",
         "marker": {
          "color": "#636efa",
          "symbol": "circle"
         },
         "mode": "markers",
         "name": "NWOC",
         "orientation": "v",
         "showlegend": true,
         "type": "scatter",
         "x": [
          54.266666666666666
         ],
         "xaxis": "x",
         "y": [
          974.4
         ],
         "yaxis": "y"
        },
        {
         "customdata": [
          [
           82
          ]
         ],
         "hovertemplate": "<b>%{hovertext}</b><br><br>Club=OD<br>Mean Age=%{x}<br>Mean Average Ranking Score=%{y}<br>Count=%{customdata[0]}<extra></extra>",
         "hovertext": [
          "OD"
         ],
         "legendgroup": "OD",
         "marker": {
          "color": "#EF553B",
          "symbol": "circle"
         },
         "mode": "markers",
         "name": "OD",
         "orientation": "v",
         "showlegend": true,
         "type": "scatter",
         "x": [
          56.573170731707314
         ],
         "xaxis": "x",
         "y": [
          995.8658536585366
         ],
         "yaxis": "y"
        },
        {
         "customdata": [
          [
           7
          ]
         ],
         "hovertemplate": "<b>%{hovertext}</b><br><br>Club=OUOC<br>Mean Age=%{x}<br>Mean Average Ranking Score=%{y}<br>Count=%{customdata[0]}<extra></extra>",
         "hovertext": [
          "OUOC"
         ],
         "legendgroup": "OUOC",
         "marker": {
          "color": "#00cc96",
          "symbol": "circle"
         },
         "mode": "markers",
         "name": "OUOC",
         "orientation": "v",
         "showlegend": true,
         "type": "scatter",
         "x": [
          26.571428571428573
         ],
         "xaxis": "x",
         "y": [
          1021.1428571428571
         ],
         "yaxis": "y"
        },
        {
         "customdata": [
          [
           52
          ]
         ],
         "hovertemplate": "<b>%{hovertext}</b><br><br>Club=PFO<br>Mean Age=%{x}<br>Mean Average Ranking Score=%{y}<br>Count=%{customdata[0]}<extra></extra>",
         "hovertext": [
          "PFO"
         ],
         "legendgroup": "PFO",
         "marker": {
          "color": "#ab63fa",
          "symbol": "circle"
         },
         "mode": "markers",
         "name": "PFO",
         "orientation": "v",
         "showlegend": true,
         "type": "scatter",
         "x": [
          51.78846153846154
         ],
         "xaxis": "x",
         "y": [
          944.1538461538462
         ],
         "yaxis": "y"
        },
        {
         "customdata": [
          [
           32
          ]
         ],
         "hovertemplate": "<b>%{hovertext}</b><br><br>Club=POTOC<br>Mean Age=%{x}<br>Mean Average Ranking Score=%{y}<br>Count=%{customdata[0]}<extra></extra>",
         "hovertext": [
          "POTOC"
         ],
         "legendgroup": "POTOC",
         "marker": {
          "color": "#FFA15A",
          "symbol": "circle"
         },
         "mode": "markers",
         "name": "POTOC",
         "orientation": "v",
         "showlegend": true,
         "type": "scatter",
         "x": [
          61.15625
         ],
         "xaxis": "x",
         "y": [
          944.71875
         ],
         "yaxis": "y"
        },
        {
         "customdata": [
          [
           51
          ]
         ],
         "hovertemplate": "<b>%{hovertext}</b><br><br>Club=QO<br>Mean Age=%{x}<br>Mean Average Ranking Score=%{y}<br>Count=%{customdata[0]}<extra></extra>",
         "hovertext": [
          "QO"
         ],
         "legendgroup": "QO",
         "marker": {
          "color": "#19d3f3",
          "symbol": "circle"
         },
         "mode": "markers",
         "name": "QO",
         "orientation": "v",
         "showlegend": true,
         "type": "scatter",
         "x": [
          55.90196078431372
         ],
         "xaxis": "x",
         "y": [
          970.5098039215686
         ],
         "yaxis": "y"
        },
        {
         "customdata": [
          [
           36
          ]
         ],
         "hovertemplate": "<b>%{hovertext}</b><br><br>Club=RAFO<br>Mean Age=%{x}<br>Mean Average Ranking Score=%{y}<br>Count=%{customdata[0]}<extra></extra>",
         "hovertext": [
          "RAFO"
         ],
         "legendgroup": "RAFO",
         "marker": {
          "color": "#FF6692",
          "symbol": "circle"
         },
         "mode": "markers",
         "name": "RAFO",
         "orientation": "v",
         "showlegend": true,
         "type": "scatter",
         "x": [
          49.19444444444444
         ],
         "xaxis": "x",
         "y": [
          1040.9166666666667
         ],
         "yaxis": "y"
        },
        {
         "customdata": [
          [
           4
          ]
         ],
         "hovertemplate": "<b>%{hovertext}</b><br><br>Club=RNOC<br>Mean Age=%{x}<br>Mean Average Ranking Score=%{y}<br>Count=%{customdata[0]}<extra></extra>",
         "hovertext": [
          "RNOC"
         ],
         "legendgroup": "RNOC",
         "marker": {
          "color": "#B6E880",
          "symbol": "circle"
         },
         "mode": "markers",
         "name": "RNOC",
         "orientation": "v",
         "showlegend": true,
         "type": "scatter",
         "x": [
          37.75
         ],
         "xaxis": "x",
         "y": [
          1087.5
         ],
         "yaxis": "y"
        },
        {
         "customdata": [
          [
           24
          ]
         ],
         "hovertemplate": "<b>%{hovertext}</b><br><br>Club=RR<br>Mean Age=%{x}<br>Mean Average Ranking Score=%{y}<br>Count=%{customdata[0]}<extra></extra>",
         "hovertext": [
          "RR"
         ],
         "legendgroup": "RR",
         "marker": {
          "color": "#FF97FF",
          "symbol": "circle"
         },
         "mode": "markers",
         "name": "RR",
         "orientation": "v",
         "showlegend": true,
         "type": "scatter",
         "x": [
          56.333333333333336
         ],
         "xaxis": "x",
         "y": [
          1002.8333333333334
         ],
         "yaxis": "y"
        },
        {
         "customdata": [
          [
           47
          ]
         ],
         "hovertemplate": "<b>%{hovertext}</b><br><br>Club=SARUM<br>Mean Age=%{x}<br>Mean Average Ranking Score=%{y}<br>Count=%{customdata[0]}<extra></extra>",
         "hovertext": [
          "SARUM"
         ],
         "legendgroup": "SARUM",
         "marker": {
          "color": "#FECB52",
          "symbol": "circle"
         },
         "mode": "markers",
         "name": "SARUM",
         "orientation": "v",
         "showlegend": true,
         "type": "scatter",
         "x": [
          56.808510638297875
         ],
         "xaxis": "x",
         "y": [
          918.531914893617
         ],
         "yaxis": "y"
        },
        {
         "customdata": [
          [
           46
          ]
         ],
         "hovertemplate": "<b>%{hovertext}</b><br><br>Club=SAX<br>Mean Age=%{x}<br>Mean Average Ranking Score=%{y}<br>Count=%{customdata[0]}<extra></extra>",
         "hovertext": [
          "SAX"
         ],
         "legendgroup": "SAX",
         "marker": {
          "color": "#636efa",
          "symbol": "circle"
         },
         "mode": "markers",
         "name": "SAX",
         "orientation": "v",
         "showlegend": true,
         "type": "scatter",
         "x": [
          58.41304347826087
         ],
         "xaxis": "x",
         "y": [
          978.9347826086956
         ],
         "yaxis": "y"
        },
        {
         "customdata": [
          [
           53
          ]
         ],
         "hovertemplate": "<b>%{hovertext}</b><br><br>Club=SBOC<br>Mean Age=%{x}<br>Mean Average Ranking Score=%{y}<br>Count=%{customdata[0]}<extra></extra>",
         "hovertext": [
          "SBOC"
         ],
         "legendgroup": "SBOC",
         "marker": {
          "color": "#EF553B",
          "symbol": "circle"
         },
         "mode": "markers",
         "name": "SBOC",
         "orientation": "v",
         "showlegend": true,
         "type": "scatter",
         "x": [
          45.113207547169814
         ],
         "xaxis": "x",
         "y": [
          1075.2641509433963
         ],
         "yaxis": "y"
        },
        {
         "customdata": [
          [
           26
          ]
         ],
         "hovertemplate": "<b>%{hovertext}</b><br><br>Club=SELOC<br>Mean Age=%{x}<br>Mean Average Ranking Score=%{y}<br>Count=%{customdata[0]}<extra></extra>",
         "hovertext": [
          "SELOC"
         ],
         "legendgroup": "SELOC",
         "marker": {
          "color": "#00cc96",
          "symbol": "circle"
         },
         "mode": "markers",
         "name": "SELOC",
         "orientation": "v",
         "showlegend": true,
         "type": "scatter",
         "x": [
          56.65384615384615
         ],
         "xaxis": "x",
         "y": [
          948.9615384615385
         ],
         "yaxis": "y"
        },
        {
         "customdata": [
          [
           6
          ]
         ],
         "hovertemplate": "<b>%{hovertext}</b><br><br>Club=SHUOC<br>Mean Age=%{x}<br>Mean Average Ranking Score=%{y}<br>Count=%{customdata[0]}<extra></extra>",
         "hovertext": [
          "SHUOC"
         ],
         "legendgroup": "SHUOC",
         "marker": {
          "color": "#ab63fa",
          "symbol": "circle"
         },
         "mode": "markers",
         "name": "SHUOC",
         "orientation": "v",
         "showlegend": true,
         "type": "scatter",
         "x": [
          22.666666666666668
         ],
         "xaxis": "x",
         "y": [
          1177.8333333333333
         ],
         "yaxis": "y"
        },
        {
         "customdata": [
          [
           127
          ]
         ],
         "hovertemplate": "<b>%{hovertext}</b><br><br>Club=SLOW<br>Mean Age=%{x}<br>Mean Average Ranking Score=%{y}<br>Count=%{customdata[0]}<extra></extra>",
         "hovertext": [
          "SLOW"
         ],
         "legendgroup": "SLOW",
         "marker": {
          "color": "#FFA15A",
          "symbol": "circle"
         },
         "mode": "markers",
         "name": "SLOW",
         "orientation": "v",
         "showlegend": true,
         "type": "scatter",
         "x": [
          47.59055118110236
         ],
         "xaxis": "x",
         "y": [
          1053.8346456692914
         ],
         "yaxis": "y"
        },
        {
         "customdata": [
          [
           42
          ]
         ],
         "hovertemplate": "<b>%{hovertext}</b><br><br>Club=SMOC<br>Mean Age=%{x}<br>Mean Average Ranking Score=%{y}<br>Count=%{customdata[0]}<extra></extra>",
         "hovertext": [
          "SMOC"
         ],
         "legendgroup": "SMOC",
         "marker": {
          "color": "#19d3f3",
          "symbol": "circle"
         },
         "mode": "markers",
         "name": "SMOC",
         "orientation": "v",
         "showlegend": true,
         "type": "scatter",
         "x": [
          54.976190476190474
         ],
         "xaxis": "x",
         "y": [
          906
         ],
         "yaxis": "y"
        },
        {
         "customdata": [
          [
           109
          ]
         ],
         "hovertemplate": "<b>%{hovertext}</b><br><br>Club=SN<br>Mean Age=%{x}<br>Mean Average Ranking Score=%{y}<br>Count=%{customdata[0]}<extra></extra>",
         "hovertext": [
          "SN"
         ],
         "legendgroup": "SN",
         "marker": {
          "color": "#FF6692",
          "symbol": "circle"
         },
         "mode": "markers",
         "name": "SN",
         "orientation": "v",
         "showlegend": true,
         "type": "scatter",
         "x": [
          50.788990825688074
         ],
         "xaxis": "x",
         "y": [
          1028.2660550458716
         ],
         "yaxis": "y"
        },
        {
         "customdata": [
          [
           142
          ]
         ],
         "hovertemplate": "<b>%{hovertext}</b><br><br>Club=SO<br>Mean Age=%{x}<br>Mean Average Ranking Score=%{y}<br>Count=%{customdata[0]}<extra></extra>",
         "hovertext": [
          "SO"
         ],
         "legendgroup": "SO",
         "marker": {
          "color": "#B6E880",
          "symbol": "circle"
         },
         "mode": "markers",
         "name": "SO",
         "orientation": "v",
         "showlegend": true,
         "type": "scatter",
         "x": [
          56.54225352112676
         ],
         "xaxis": "x",
         "y": [
          972.556338028169
         ],
         "yaxis": "y"
        },
        {
         "customdata": [
          [
           73
          ]
         ],
         "hovertemplate": "<b>%{hovertext}</b><br><br>Club=SOC<br>Mean Age=%{x}<br>Mean Average Ranking Score=%{y}<br>Count=%{customdata[0]}<extra></extra>",
         "hovertext": [
          "SOC"
         ],
         "legendgroup": "SOC",
         "marker": {
          "color": "#FF97FF",
          "symbol": "circle"
         },
         "mode": "markers",
         "name": "SOC",
         "orientation": "v",
         "showlegend": true,
         "type": "scatter",
         "x": [
          56.04109589041096
         ],
         "xaxis": "x",
         "y": [
          918.2465753424658
         ],
         "yaxis": "y"
        },
        {
         "customdata": [
          [
           14
          ]
         ],
         "hovertemplate": "<b>%{hovertext}</b><br><br>Club=SOLWAY<br>Mean Age=%{x}<br>Mean Average Ranking Score=%{y}<br>Count=%{customdata[0]}<extra></extra>",
         "hovertext": [
          "SOLWAY"
         ],
         "legendgroup": "SOLWAY",
         "marker": {
          "color": "#FECB52",
          "symbol": "circle"
         },
         "mode": "markers",
         "name": "SOLWAY",
         "orientation": "v",
         "showlegend": true,
         "type": "scatter",
         "x": [
          51.785714285714285
         ],
         "xaxis": "x",
         "y": [
          948.2857142857143
         ],
         "yaxis": "y"
        },
        {
         "customdata": [
          [
           45
          ]
         ],
         "hovertemplate": "<b>%{hovertext}</b><br><br>Club=SOS<br>Mean Age=%{x}<br>Mean Average Ranking Score=%{y}<br>Count=%{customdata[0]}<extra></extra>",
         "hovertext": [
          "SOS"
         ],
         "legendgroup": "SOS",
         "marker": {
          "color": "#636efa",
          "symbol": "circle"
         },
         "mode": "markers",
         "name": "SOS",
         "orientation": "v",
         "showlegend": true,
         "type": "scatter",
         "x": [
          53.733333333333334
         ],
         "xaxis": "x",
         "y": [
          941.9111111111112
         ],
         "yaxis": "y"
        },
        {
         "customdata": [
          [
           1
          ]
         ],
         "hovertemplate": "<b>%{hovertext}</b><br><br>Club=SPOOK<br>Mean Age=%{x}<br>Mean Average Ranking Score=%{y}<br>Count=%{customdata[0]}<extra></extra>",
         "hovertext": [
          "SPOOK"
         ],
         "legendgroup": "SPOOK",
         "marker": {
          "color": "#EF553B",
          "symbol": "circle"
         },
         "mode": "markers",
         "name": "SPOOK",
         "orientation": "v",
         "showlegend": true,
         "type": "scatter",
         "x": [
          60
         ],
         "xaxis": "x",
         "y": [
          1002
         ],
         "yaxis": "y"
        },
        {
         "customdata": [
          [
           71
          ]
         ],
         "hovertemplate": "<b>%{hovertext}</b><br><br>Club=SROC<br>Mean Age=%{x}<br>Mean Average Ranking Score=%{y}<br>Count=%{customdata[0]}<extra></extra>",
         "hovertext": [
          "SROC"
         ],
         "legendgroup": "SROC",
         "marker": {
          "color": "#00cc96",
          "symbol": "circle"
         },
         "mode": "markers",
         "name": "SROC",
         "orientation": "v",
         "showlegend": true,
         "type": "scatter",
         "x": [
          56.49295774647887
         ],
         "xaxis": "x",
         "y": [
          1036.5070422535211
         ],
         "yaxis": "y"
        },
        {
         "customdata": [
          [
           32
          ]
         ],
         "hovertemplate": "<b>%{hovertext}</b><br><br>Club=STAG<br>Mean Age=%{x}<br>Mean Average Ranking Score=%{y}<br>Count=%{customdata[0]}<extra></extra>",
         "hovertext": [
          "STAG"
         ],
         "legendgroup": "STAG",
         "marker": {
          "color": "#ab63fa",
          "symbol": "circle"
         },
         "mode": "markers",
         "name": "STAG",
         "orientation": "v",
         "showlegend": true,
         "type": "scatter",
         "x": [
          44.46875
         ],
         "xaxis": "x",
         "y": [
          1065.40625
         ],
         "yaxis": "y"
        },
        {
         "customdata": [
          [
           3
          ]
         ],
         "hovertemplate": "<b>%{hovertext}</b><br><br>Club=STUOC<br>Mean Age=%{x}<br>Mean Average Ranking Score=%{y}<br>Count=%{customdata[0]}<extra></extra>",
         "hovertext": [
          "STUOC"
         ],
         "legendgroup": "STUOC",
         "marker": {
          "color": "#FFA15A",
          "symbol": "circle"
         },
         "mode": "markers",
         "name": "STUOC",
         "orientation": "v",
         "showlegend": true,
         "type": "scatter",
         "x": [
          21.666666666666668
         ],
         "xaxis": "x",
         "y": [
          894
         ],
         "yaxis": "y"
        },
        {
         "customdata": [
          [
           39
          ]
         ],
         "hovertemplate": "<b>%{hovertext}</b><br><br>Club=SUFFOC<br>Mean Age=%{x}<br>Mean Average Ranking Score=%{y}<br>Count=%{customdata[0]}<extra></extra>",
         "hovertext": [
          "SUFFOC"
         ],
         "legendgroup": "SUFFOC",
         "marker": {
          "color": "#19d3f3",
          "symbol": "circle"
         },
         "mode": "markers",
         "name": "SUFFOC",
         "orientation": "v",
         "showlegend": true,
         "type": "scatter",
         "x": [
          50.64102564102564
         ],
         "xaxis": "x",
         "y": [
          940.0512820512821
         ],
         "yaxis": "y"
        },
        {
         "customdata": [
          [
           34
          ]
         ],
         "hovertemplate": "<b>%{hovertext}</b><br><br>Club=SWOC<br>Mean Age=%{x}<br>Mean Average Ranking Score=%{y}<br>Count=%{customdata[0]}<extra></extra>",
         "hovertext": [
          "SWOC"
         ],
         "legendgroup": "SWOC",
         "marker": {
          "color": "#FF6692",
          "symbol": "circle"
         },
         "mode": "markers",
         "name": "SWOC",
         "orientation": "v",
         "showlegend": true,
         "type": "scatter",
         "x": [
          54.26470588235294
         ],
         "xaxis": "x",
         "y": [
          1017.7941176470588
         ],
         "yaxis": "y"
        },
        {
         "customdata": [
          [
           168
          ]
         ],
         "hovertemplate": "<b>%{hovertext}</b><br><br>Club=SYO<br>Mean Age=%{x}<br>Mean Average Ranking Score=%{y}<br>Count=%{customdata[0]}<extra></extra>",
         "hovertext": [
          "SYO"
         ],
         "legendgroup": "SYO",
         "marker": {
          "color": "#B6E880",
          "symbol": "circle"
         },
         "mode": "markers",
         "name": "SYO",
         "orientation": "v",
         "showlegend": true,
         "type": "scatter",
         "x": [
          46.779761904761905
         ],
         "xaxis": "x",
         "y": [
          1080.3630952380952
         ],
         "yaxis": "y"
        },
        {
         "customdata": [
          [
           29
          ]
         ],
         "hovertemplate": "<b>%{hovertext}</b><br><br>Club=TAY<br>Mean Age=%{x}<br>Mean Average Ranking Score=%{y}<br>Count=%{customdata[0]}<extra></extra>",
         "hovertext": [
          "TAY"
         ],
         "legendgroup": "TAY",
         "marker": {
          "color": "#FF97FF",
          "symbol": "circle"
         },
         "mode": "markers",
         "name": "TAY",
         "orientation": "v",
         "showlegend": true,
         "type": "scatter",
         "x": [
          60.827586206896555
         ],
         "xaxis": "x",
         "y": [
          922.2413793103449
         ],
         "yaxis": "y"
        },
        {
         "customdata": [
          [
           4
          ]
         ],
         "hovertemplate": "<b>%{hovertext}</b><br><br>Club=TINTO<br>Mean Age=%{x}<br>Mean Average Ranking Score=%{y}<br>Count=%{customdata[0]}<extra></extra>",
         "hovertext": [
          "TINTO"
         ],
         "legendgroup": "TINTO",
         "marker": {
          "color": "#FECB52",
          "symbol": "circle"
         },
         "mode": "markers",
         "name": "TINTO",
         "orientation": "v",
         "showlegend": true,
         "type": "scatter",
         "x": [
          74
         ],
         "xaxis": "x",
         "y": [
          816.25
         ],
         "yaxis": "y"
        },
        {
         "customdata": [
          [
           123
          ]
         ],
         "hovertemplate": "<b>%{hovertext}</b><br><br>Club=TVOC<br>Mean Age=%{x}<br>Mean Average Ranking Score=%{y}<br>Count=%{customdata[0]}<extra></extra>",
         "hovertext": [
          "TVOC"
         ],
         "legendgroup": "TVOC",
         "marker": {
          "color": "#636efa",
          "symbol": "circle"
         },
         "mode": "markers",
         "name": "TVOC",
         "orientation": "v",
         "showlegend": true,
         "type": "scatter",
         "x": [
          53.4390243902439
         ],
         "xaxis": "x",
         "y": [
          967.2113821138212
         ],
         "yaxis": "y"
        },
        {
         "customdata": [
          [
           7
          ]
         ],
         "hovertemplate": "<b>%{hovertext}</b><br><br>Club=UBOC<br>Mean Age=%{x}<br>Mean Average Ranking Score=%{y}<br>Count=%{customdata[0]}<extra></extra>",
         "hovertext": [
          "UBOC"
         ],
         "legendgroup": "UBOC",
         "marker": {
          "color": "#EF553B",
          "symbol": "circle"
         },
         "mode": "markers",
         "name": "UBOC",
         "orientation": "v",
         "showlegend": true,
         "type": "scatter",
         "x": [
          24.428571428571427
         ],
         "xaxis": "x",
         "y": [
          1198.2857142857142
         ],
         "yaxis": "y"
        },
        {
         "customdata": [
          [
           96
          ]
         ],
         "hovertemplate": "<b>%{hovertext}</b><br><br>Club=WAOC<br>Mean Age=%{x}<br>Mean Average Ranking Score=%{y}<br>Count=%{customdata[0]}<extra></extra>",
         "hovertext": [
          "WAOC"
         ],
         "legendgroup": "WAOC",
         "marker": {
          "color": "#00cc96",
          "symbol": "circle"
         },
         "mode": "markers",
         "name": "WAOC",
         "orientation": "v",
         "showlegend": true,
         "type": "scatter",
         "x": [
          49.833333333333336
         ],
         "xaxis": "x",
         "y": [
          978.65625
         ],
         "yaxis": "y"
        },
        {
         "customdata": [
          [
           15
          ]
         ],
         "hovertemplate": "<b>%{hovertext}</b><br><br>Club=WAROC<br>Mean Age=%{x}<br>Mean Average Ranking Score=%{y}<br>Count=%{customdata[0]}<extra></extra>",
         "hovertext": [
          "WAROC"
         ],
         "legendgroup": "WAROC",
         "marker": {
          "color": "#ab63fa",
          "symbol": "circle"
         },
         "mode": "markers",
         "name": "WAROC",
         "orientation": "v",
         "showlegend": true,
         "type": "scatter",
         "x": [
          58.2
         ],
         "xaxis": "x",
         "y": [
          1092.4666666666667
         ],
         "yaxis": "y"
        },
        {
         "customdata": [
          [
           43
          ]
         ],
         "hovertemplate": "<b>%{hovertext}</b><br><br>Club=WCH<br>Mean Age=%{x}<br>Mean Average Ranking Score=%{y}<br>Count=%{customdata[0]}<extra></extra>",
         "hovertext": [
          "WCH"
         ],
         "legendgroup": "WCH",
         "marker": {
          "color": "#FFA15A",
          "symbol": "circle"
         },
         "mode": "markers",
         "name": "WCH",
         "orientation": "v",
         "showlegend": true,
         "type": "scatter",
         "x": [
          56.16279069767442
         ],
         "xaxis": "x",
         "y": [
          1009.3720930232558
         ],
         "yaxis": "y"
        },
        {
         "customdata": [
          [
           113
          ]
         ],
         "hovertemplate": "<b>%{hovertext}</b><br><br>Club=WCOC<br>Mean Age=%{x}<br>Mean Average Ranking Score=%{y}<br>Count=%{customdata[0]}<extra></extra>",
         "hovertext": [
          "WCOC"
         ],
         "legendgroup": "WCOC",
         "marker": {
          "color": "#19d3f3",
          "symbol": "circle"
         },
         "mode": "markers",
         "name": "WCOC",
         "orientation": "v",
         "showlegend": true,
         "type": "scatter",
         "x": [
          48.38053097345133
         ],
         "xaxis": "x",
         "y": [
          1082.6814159292035
         ],
         "yaxis": "y"
        },
        {
         "customdata": [
          [
           6
          ]
         ],
         "hovertemplate": "<b>%{hovertext}</b><br><br>Club=WIGHTO<br>Mean Age=%{x}<br>Mean Average Ranking Score=%{y}<br>Count=%{customdata[0]}<extra></extra>",
         "hovertext": [
          "WIGHTO"
         ],
         "legendgroup": "WIGHTO",
         "marker": {
          "color": "#FF6692",
          "symbol": "circle"
         },
         "mode": "markers",
         "name": "WIGHTO",
         "orientation": "v",
         "showlegend": true,
         "type": "scatter",
         "x": [
          68.5
         ],
         "xaxis": "x",
         "y": [
          925.8333333333334
         ],
         "yaxis": "y"
        },
        {
         "customdata": [
          [
           56
          ]
         ],
         "hovertemplate": "<b>%{hovertext}</b><br><br>Club=WIM<br>Mean Age=%{x}<br>Mean Average Ranking Score=%{y}<br>Count=%{customdata[0]}<extra></extra>",
         "hovertext": [
          "WIM"
         ],
         "legendgroup": "WIM",
         "marker": {
          "color": "#B6E880",
          "symbol": "circle"
         },
         "mode": "markers",
         "name": "WIM",
         "orientation": "v",
         "showlegend": true,
         "type": "scatter",
         "x": [
          57.285714285714285
         ],
         "xaxis": "x",
         "y": [
          942.9107142857143
         ],
         "yaxis": "y"
        },
        {
         "customdata": [
          [
           49
          ]
         ],
         "hovertemplate": "<b>%{hovertext}</b><br><br>Club=WRE<br>Mean Age=%{x}<br>Mean Average Ranking Score=%{y}<br>Count=%{customdata[0]}<extra></extra>",
         "hovertext": [
          "WRE"
         ],
         "legendgroup": "WRE",
         "marker": {
          "color": "#FF97FF",
          "symbol": "circle"
         },
         "mode": "markers",
         "name": "WRE",
         "orientation": "v",
         "showlegend": true,
         "type": "scatter",
         "x": [
          60.93877551020408
         ],
         "xaxis": "x",
         "y": [
          947.3469387755102
         ],
         "yaxis": "y"
        },
        {
         "customdata": [
          [
           35
          ]
         ],
         "hovertemplate": "<b>%{hovertext}</b><br><br>Club=WSX<br>Mean Age=%{x}<br>Mean Average Ranking Score=%{y}<br>Count=%{customdata[0]}<extra></extra>",
         "hovertext": [
          "WSX"
         ],
         "legendgroup": "WSX",
         "marker": {
          "color": "#FECB52",
          "symbol": "circle"
         },
         "mode": "markers",
         "name": "WSX",
         "orientation": "v",
         "showlegend": true,
         "type": "scatter",
         "x": [
          52.97142857142857
         ],
         "xaxis": "x",
         "y": [
          993.2857142857143
         ],
         "yaxis": "y"
        }
       ],
       "layout": {
        "autosize": true,
        "legend": {
         "title": {
          "text": "Club"
         },
         "tracegroupgap": 0
        },
        "template": {
         "data": {
          "bar": [
           {
            "error_x": {
             "color": "#2a3f5f"
            },
            "error_y": {
             "color": "#2a3f5f"
            },
            "marker": {
             "line": {
              "color": "#E5ECF6",
              "width": 0.5
             },
             "pattern": {
              "fillmode": "overlay",
              "size": 10,
              "solidity": 0.2
             }
            },
            "type": "bar"
           }
          ],
          "barpolar": [
           {
            "marker": {
             "line": {
              "color": "#E5ECF6",
              "width": 0.5
             },
             "pattern": {
              "fillmode": "overlay",
              "size": 10,
              "solidity": 0.2
             }
            },
            "type": "barpolar"
           }
          ],
          "carpet": [
           {
            "aaxis": {
             "endlinecolor": "#2a3f5f",
             "gridcolor": "white",
             "linecolor": "white",
             "minorgridcolor": "white",
             "startlinecolor": "#2a3f5f"
            },
            "baxis": {
             "endlinecolor": "#2a3f5f",
             "gridcolor": "white",
             "linecolor": "white",
             "minorgridcolor": "white",
             "startlinecolor": "#2a3f5f"
            },
            "type": "carpet"
           }
          ],
          "choropleth": [
           {
            "colorbar": {
             "outlinewidth": 0,
             "ticks": ""
            },
            "type": "choropleth"
           }
          ],
          "contour": [
           {
            "colorbar": {
             "outlinewidth": 0,
             "ticks": ""
            },
            "colorscale": [
             [
              0,
              "#0d0887"
             ],
             [
              0.1111111111111111,
              "#46039f"
             ],
             [
              0.2222222222222222,
              "#7201a8"
             ],
             [
              0.3333333333333333,
              "#9c179e"
             ],
             [
              0.4444444444444444,
              "#bd3786"
             ],
             [
              0.5555555555555556,
              "#d8576b"
             ],
             [
              0.6666666666666666,
              "#ed7953"
             ],
             [
              0.7777777777777778,
              "#fb9f3a"
             ],
             [
              0.8888888888888888,
              "#fdca26"
             ],
             [
              1,
              "#f0f921"
             ]
            ],
            "type": "contour"
           }
          ],
          "contourcarpet": [
           {
            "colorbar": {
             "outlinewidth": 0,
             "ticks": ""
            },
            "type": "contourcarpet"
           }
          ],
          "heatmap": [
           {
            "colorbar": {
             "outlinewidth": 0,
             "ticks": ""
            },
            "colorscale": [
             [
              0,
              "#0d0887"
             ],
             [
              0.1111111111111111,
              "#46039f"
             ],
             [
              0.2222222222222222,
              "#7201a8"
             ],
             [
              0.3333333333333333,
              "#9c179e"
             ],
             [
              0.4444444444444444,
              "#bd3786"
             ],
             [
              0.5555555555555556,
              "#d8576b"
             ],
             [
              0.6666666666666666,
              "#ed7953"
             ],
             [
              0.7777777777777778,
              "#fb9f3a"
             ],
             [
              0.8888888888888888,
              "#fdca26"
             ],
             [
              1,
              "#f0f921"
             ]
            ],
            "type": "heatmap"
           }
          ],
          "heatmapgl": [
           {
            "colorbar": {
             "outlinewidth": 0,
             "ticks": ""
            },
            "colorscale": [
             [
              0,
              "#0d0887"
             ],
             [
              0.1111111111111111,
              "#46039f"
             ],
             [
              0.2222222222222222,
              "#7201a8"
             ],
             [
              0.3333333333333333,
              "#9c179e"
             ],
             [
              0.4444444444444444,
              "#bd3786"
             ],
             [
              0.5555555555555556,
              "#d8576b"
             ],
             [
              0.6666666666666666,
              "#ed7953"
             ],
             [
              0.7777777777777778,
              "#fb9f3a"
             ],
             [
              0.8888888888888888,
              "#fdca26"
             ],
             [
              1,
              "#f0f921"
             ]
            ],
            "type": "heatmapgl"
           }
          ],
          "histogram": [
           {
            "marker": {
             "pattern": {
              "fillmode": "overlay",
              "size": 10,
              "solidity": 0.2
             }
            },
            "type": "histogram"
           }
          ],
          "histogram2d": [
           {
            "colorbar": {
             "outlinewidth": 0,
             "ticks": ""
            },
            "colorscale": [
             [
              0,
              "#0d0887"
             ],
             [
              0.1111111111111111,
              "#46039f"
             ],
             [
              0.2222222222222222,
              "#7201a8"
             ],
             [
              0.3333333333333333,
              "#9c179e"
             ],
             [
              0.4444444444444444,
              "#bd3786"
             ],
             [
              0.5555555555555556,
              "#d8576b"
             ],
             [
              0.6666666666666666,
              "#ed7953"
             ],
             [
              0.7777777777777778,
              "#fb9f3a"
             ],
             [
              0.8888888888888888,
              "#fdca26"
             ],
             [
              1,
              "#f0f921"
             ]
            ],
            "type": "histogram2d"
           }
          ],
          "histogram2dcontour": [
           {
            "colorbar": {
             "outlinewidth": 0,
             "ticks": ""
            },
            "colorscale": [
             [
              0,
              "#0d0887"
             ],
             [
              0.1111111111111111,
              "#46039f"
             ],
             [
              0.2222222222222222,
              "#7201a8"
             ],
             [
              0.3333333333333333,
              "#9c179e"
             ],
             [
              0.4444444444444444,
              "#bd3786"
             ],
             [
              0.5555555555555556,
              "#d8576b"
             ],
             [
              0.6666666666666666,
              "#ed7953"
             ],
             [
              0.7777777777777778,
              "#fb9f3a"
             ],
             [
              0.8888888888888888,
              "#fdca26"
             ],
             [
              1,
              "#f0f921"
             ]
            ],
            "type": "histogram2dcontour"
           }
          ],
          "mesh3d": [
           {
            "colorbar": {
             "outlinewidth": 0,
             "ticks": ""
            },
            "type": "mesh3d"
           }
          ],
          "parcoords": [
           {
            "line": {
             "colorbar": {
              "outlinewidth": 0,
              "ticks": ""
             }
            },
            "type": "parcoords"
           }
          ],
          "pie": [
           {
            "automargin": true,
            "type": "pie"
           }
          ],
          "scatter": [
           {
            "fillpattern": {
             "fillmode": "overlay",
             "size": 10,
             "solidity": 0.2
            },
            "type": "scatter"
           }
          ],
          "scatter3d": [
           {
            "line": {
             "colorbar": {
              "outlinewidth": 0,
              "ticks": ""
             }
            },
            "marker": {
             "colorbar": {
              "outlinewidth": 0,
              "ticks": ""
             }
            },
            "type": "scatter3d"
           }
          ],
          "scattercarpet": [
           {
            "marker": {
             "colorbar": {
              "outlinewidth": 0,
              "ticks": ""
             }
            },
            "type": "scattercarpet"
           }
          ],
          "scattergeo": [
           {
            "marker": {
             "colorbar": {
              "outlinewidth": 0,
              "ticks": ""
             }
            },
            "type": "scattergeo"
           }
          ],
          "scattergl": [
           {
            "marker": {
             "colorbar": {
              "outlinewidth": 0,
              "ticks": ""
             }
            },
            "type": "scattergl"
           }
          ],
          "scattermapbox": [
           {
            "marker": {
             "colorbar": {
              "outlinewidth": 0,
              "ticks": ""
             }
            },
            "type": "scattermapbox"
           }
          ],
          "scatterpolar": [
           {
            "marker": {
             "colorbar": {
              "outlinewidth": 0,
              "ticks": ""
             }
            },
            "type": "scatterpolar"
           }
          ],
          "scatterpolargl": [
           {
            "marker": {
             "colorbar": {
              "outlinewidth": 0,
              "ticks": ""
             }
            },
            "type": "scatterpolargl"
           }
          ],
          "scatterternary": [
           {
            "marker": {
             "colorbar": {
              "outlinewidth": 0,
              "ticks": ""
             }
            },
            "type": "scatterternary"
           }
          ],
          "surface": [
           {
            "colorbar": {
             "outlinewidth": 0,
             "ticks": ""
            },
            "colorscale": [
             [
              0,
              "#0d0887"
             ],
             [
              0.1111111111111111,
              "#46039f"
             ],
             [
              0.2222222222222222,
              "#7201a8"
             ],
             [
              0.3333333333333333,
              "#9c179e"
             ],
             [
              0.4444444444444444,
              "#bd3786"
             ],
             [
              0.5555555555555556,
              "#d8576b"
             ],
             [
              0.6666666666666666,
              "#ed7953"
             ],
             [
              0.7777777777777778,
              "#fb9f3a"
             ],
             [
              0.8888888888888888,
              "#fdca26"
             ],
             [
              1,
              "#f0f921"
             ]
            ],
            "type": "surface"
           }
          ],
          "table": [
           {
            "cells": {
             "fill": {
              "color": "#EBF0F8"
             },
             "line": {
              "color": "white"
             }
            },
            "header": {
             "fill": {
              "color": "#C8D4E3"
             },
             "line": {
              "color": "white"
             }
            },
            "type": "table"
           }
          ]
         },
         "layout": {
          "annotationdefaults": {
           "arrowcolor": "#2a3f5f",
           "arrowhead": 0,
           "arrowwidth": 1
          },
          "autotypenumbers": "strict",
          "coloraxis": {
           "colorbar": {
            "outlinewidth": 0,
            "ticks": ""
           }
          },
          "colorscale": {
           "diverging": [
            [
             0,
             "#8e0152"
            ],
            [
             0.1,
             "#c51b7d"
            ],
            [
             0.2,
             "#de77ae"
            ],
            [
             0.3,
             "#f1b6da"
            ],
            [
             0.4,
             "#fde0ef"
            ],
            [
             0.5,
             "#f7f7f7"
            ],
            [
             0.6,
             "#e6f5d0"
            ],
            [
             0.7,
             "#b8e186"
            ],
            [
             0.8,
             "#7fbc41"
            ],
            [
             0.9,
             "#4d9221"
            ],
            [
             1,
             "#276419"
            ]
           ],
           "sequential": [
            [
             0,
             "#0d0887"
            ],
            [
             0.1111111111111111,
             "#46039f"
            ],
            [
             0.2222222222222222,
             "#7201a8"
            ],
            [
             0.3333333333333333,
             "#9c179e"
            ],
            [
             0.4444444444444444,
             "#bd3786"
            ],
            [
             0.5555555555555556,
             "#d8576b"
            ],
            [
             0.6666666666666666,
             "#ed7953"
            ],
            [
             0.7777777777777778,
             "#fb9f3a"
            ],
            [
             0.8888888888888888,
             "#fdca26"
            ],
            [
             1,
             "#f0f921"
            ]
           ],
           "sequentialminus": [
            [
             0,
             "#0d0887"
            ],
            [
             0.1111111111111111,
             "#46039f"
            ],
            [
             0.2222222222222222,
             "#7201a8"
            ],
            [
             0.3333333333333333,
             "#9c179e"
            ],
            [
             0.4444444444444444,
             "#bd3786"
            ],
            [
             0.5555555555555556,
             "#d8576b"
            ],
            [
             0.6666666666666666,
             "#ed7953"
            ],
            [
             0.7777777777777778,
             "#fb9f3a"
            ],
            [
             0.8888888888888888,
             "#fdca26"
            ],
            [
             1,
             "#f0f921"
            ]
           ]
          },
          "colorway": [
           "#636efa",
           "#EF553B",
           "#00cc96",
           "#ab63fa",
           "#FFA15A",
           "#19d3f3",
           "#FF6692",
           "#B6E880",
           "#FF97FF",
           "#FECB52"
          ],
          "font": {
           "color": "#2a3f5f"
          },
          "geo": {
           "bgcolor": "white",
           "lakecolor": "white",
           "landcolor": "#E5ECF6",
           "showlakes": true,
           "showland": true,
           "subunitcolor": "white"
          },
          "hoverlabel": {
           "align": "left"
          },
          "hovermode": "closest",
          "mapbox": {
           "style": "light"
          },
          "paper_bgcolor": "white",
          "plot_bgcolor": "#E5ECF6",
          "polar": {
           "angularaxis": {
            "gridcolor": "white",
            "linecolor": "white",
            "ticks": ""
           },
           "bgcolor": "#E5ECF6",
           "radialaxis": {
            "gridcolor": "white",
            "linecolor": "white",
            "ticks": ""
           }
          },
          "scene": {
           "xaxis": {
            "backgroundcolor": "#E5ECF6",
            "gridcolor": "white",
            "gridwidth": 2,
            "linecolor": "white",
            "showbackground": true,
            "ticks": "",
            "zerolinecolor": "white"
           },
           "yaxis": {
            "backgroundcolor": "#E5ECF6",
            "gridcolor": "white",
            "gridwidth": 2,
            "linecolor": "white",
            "showbackground": true,
            "ticks": "",
            "zerolinecolor": "white"
           },
           "zaxis": {
            "backgroundcolor": "#E5ECF6",
            "gridcolor": "white",
            "gridwidth": 2,
            "linecolor": "white",
            "showbackground": true,
            "ticks": "",
            "zerolinecolor": "white"
           }
          },
          "shapedefaults": {
           "line": {
            "color": "#2a3f5f"
           }
          },
          "ternary": {
           "aaxis": {
            "gridcolor": "white",
            "linecolor": "white",
            "ticks": ""
           },
           "baxis": {
            "gridcolor": "white",
            "linecolor": "white",
            "ticks": ""
           },
           "bgcolor": "#E5ECF6",
           "caxis": {
            "gridcolor": "white",
            "linecolor": "white",
            "ticks": ""
           }
          },
          "title": {
           "x": 0.05
          },
          "xaxis": {
           "automargin": true,
           "gridcolor": "white",
           "linecolor": "white",
           "ticks": "",
           "title": {
            "standoff": 15
           },
           "zerolinecolor": "white",
           "zerolinewidth": 2
          },
          "yaxis": {
           "automargin": true,
           "gridcolor": "white",
           "linecolor": "white",
           "ticks": "",
           "title": {
            "standoff": 15
           },
           "zerolinecolor": "white",
           "zerolinewidth": 2
          }
         }
        },
        "title": {
         "text": "Mean Age vs Mean Average Ranking Score by Club"
        },
        "xaxis": {
         "anchor": "y",
         "autorange": true,
         "domain": [
          0,
          1
         ],
         "range": [
          18.237920416864046,
          77.26207958313596
         ],
         "title": {
          "text": "Mean Age"
         },
         "type": "linear"
        },
        "yaxis": {
         "anchor": "x",
         "autorange": true,
         "domain": [
          0,
          1
         ],
         "range": [
          602.7554144884242,
          1312.0907393577297
         ],
         "title": {
          "text": "Mean Average Ranking Score"
         },
         "type": "linear"
        }
       }
      },
      "image/png": "[encoded data removed]",
      "text/html": [
       "<div>                            <div id=\"4ef64d19-fe26-44b2-a05e-82d3482dd55e\" class=\"plotly-graph-div\" style=\"height:525px; width:100%;\"></div>            <script type=\"text/javascript\">                require([\"plotly\"], function(Plotly) {                    window.PLOTLYENV=window.PLOTLYENV || {};                                    if (document.getElementById(\"4ef64d19-fe26-44b2-a05e-82d3482dd55e\")) {                    Plotly.newPlot(                        \"4ef64d19-fe26-44b2-a05e-82d3482dd55e\",                        [{\"customdata\":[[103]],\"hovertemplate\":\"<b>%{hovertext}</b><br><br>Club=AIRE<br>Mean Age=%{x}<br>Mean Average Ranking Score=%{y}<br>Count=%{customdata[0]}<extra></extra>\",\"hovertext\":[\"AIRE\"],\"legendgroup\":\"AIRE\",\"marker\":{\"color\":\"#636efa\",\"symbol\":\"circle\"},\"mode\":\"markers\",\"name\":\"AIRE\",\"orientation\":\"v\",\"showlegend\":true,\"x\":[51.922330097087375],\"xaxis\":\"x\",\"y\":[1040.378640776699],\"yaxis\":\"y\",\"type\":\"scatter\"},{\"customdata\":[[8]],\"hovertemplate\":\"<b>%{hovertext}</b><br><br>Club=AROS<br>Mean Age=%{x}<br>Mean Average Ranking Score=%{y}<br>Count=%{customdata[0]}<extra></extra>\",\"hovertext\":[\"AROS\"],\"legendgroup\":\"AROS\",\"marker\":{\"color\":\"#EF553B\",\"symbol\":\"circle\"},\"mode\":\"markers\",\"name\":\"AROS\",\"orientation\":\"v\",\"showlegend\":true,\"x\":[30.875],\"xaxis\":\"x\",\"y\":[1258.75],\"yaxis\":\"y\",\"type\":\"scatter\"},{\"customdata\":[[1]],\"hovertemplate\":\"<b>%{hovertext}</b><br><br>Club=AUOC<br>Mean Age=%{x}<br>Mean Average Ranking Score=%{y}<br>Count=%{customdata[0]}<extra></extra>\",\"hovertext\":[\"AUOC\"],\"legendgroup\":\"AUOC\",\"marker\":{\"color\":\"#00cc96\",\"symbol\":\"circle\"},\"mode\":\"markers\",\"name\":\"AUOC\",\"orientation\":\"v\",\"showlegend\":true,\"x\":[25.0],\"xaxis\":\"x\",\"y\":[653.0],\"yaxis\":\"y\",\"type\":\"scatter\"},{\"customdata\":[[14]],\"hovertemplate\":\"<b>%{hovertext}</b><br><br>Club=AYROC<br>Mean Age=%{x}<br>Mean Average Ranking Score=%{y}<br>Count=%{customdata[0]}<extra></extra>\",\"hovertext\":[\"AYROC\"],\"legendgroup\":\"AYROC\",\"marker\":{\"color\":\"#ab63fa\",\"symbol\":\"circle\"},\"mode\":\"markers\",\"name\":\"AYROC\",\"orientation\":\"v\",\"showlegend\":true,\"x\":[56.92857142857143],\"xaxis\":\"x\",\"y\":[982.3571428571429],\"yaxis\":\"y\",\"type\":\"scatter\"},{\"customdata\":[[16]],\"hovertemplate\":\"<b>%{hovertext}</b><br><br>Club=BADO<br>Mean Age=%{x}<br>Mean Average Ranking Score=%{y}<br>Count=%{customdata[0]}<extra></extra>\",\"hovertext\":[\"BADO\"],\"legendgroup\":\"BADO\",\"marker\":{\"color\":\"#FFA15A\",\"symbol\":\"circle\"},\"mode\":\"markers\",\"name\":\"BADO\",\"orientation\":\"v\",\"showlegend\":true,\"x\":[62.1875],\"xaxis\":\"x\",\"y\":[999.9375],\"yaxis\":\"y\",\"type\":\"scatter\"},{\"customdata\":[[70]],\"hovertemplate\":\"<b>%{hovertext}</b><br><br>Club=BAOC<br>Mean Age=%{x}<br>Mean Average Ranking Score=%{y}<br>Count=%{customdata[0]}<extra></extra>\",\"hovertext\":[\"BAOC\"],\"legendgroup\":\"BAOC\",\"marker\":{\"color\":\"#19d3f3\",\"symbol\":\"circle\"},\"mode\":\"markers\",\"name\":\"BAOC\",\"orientation\":\"v\",\"showlegend\":true,\"x\":[51.1],\"xaxis\":\"x\",\"y\":[1068.4],\"yaxis\":\"y\",\"type\":\"scatter\"},{\"customdata\":[[19]],\"hovertemplate\":\"<b>%{hovertext}</b><br><br>Club=BASOC<br>Mean Age=%{x}<br>Mean Average Ranking Score=%{y}<br>Count=%{customdata[0]}<extra></extra>\",\"hovertext\":[\"BASOC\"],\"legendgroup\":\"BASOC\",\"marker\":{\"color\":\"#FF6692\",\"symbol\":\"circle\"},\"mode\":\"markers\",\"name\":\"BASOC\",\"orientation\":\"v\",\"showlegend\":true,\"x\":[58.73684210526316],\"xaxis\":\"x\",\"y\":[1002.7894736842105],\"yaxis\":\"y\",\"type\":\"scatter\"},{\"customdata\":[[68]],\"hovertemplate\":\"<b>%{hovertext}</b><br><br>Club=BKO<br>Mean Age=%{x}<br>Mean Average Ranking Score=%{y}<br>Count=%{customdata[0]}<extra></extra>\",\"hovertext\":[\"BKO\"],\"legendgroup\":\"BKO\",\"marker\":{\"color\":\"#B6E880\",\"symbol\":\"circle\"},\"mode\":\"markers\",\"name\":\"BKO\",\"orientation\":\"v\",\"showlegend\":true,\"x\":[56.044117647058826],\"xaxis\":\"x\",\"y\":[944.7794117647059],\"yaxis\":\"y\",\"type\":\"scatter\"},{\"customdata\":[[64]],\"hovertemplate\":\"<b>%{hovertext}</b><br><br>Club=BL<br>Mean Age=%{x}<br>Mean Average Ranking Score=%{y}<br>Count=%{customdata[0]}<extra></extra>\",\"hovertext\":[\"BL\"],\"legendgroup\":\"BL\",\"marker\":{\"color\":\"#FF97FF\",\"symbol\":\"circle\"},\"mode\":\"markers\",\"name\":\"BL\",\"orientation\":\"v\",\"showlegend\":true,\"x\":[62.78125],\"xaxis\":\"x\",\"y\":[964.734375],\"yaxis\":\"y\",\"type\":\"scatter\"},{\"customdata\":[[57]],\"hovertemplate\":\"<b>%{hovertext}</b><br><br>Club=BOF<br>Mean Age=%{x}<br>Mean Average Ranking Score=%{y}<br>Count=%{customdata[0]}<extra></extra>\",\"hovertext\":[\"BOF\"],\"legendgroup\":\"BOF\",\"marker\":{\"color\":\"#FECB52\",\"symbol\":\"circle\"},\"mode\":\"markers\",\"name\":\"BOF\",\"orientation\":\"v\",\"showlegend\":true,\"x\":[44.94736842105263],\"xaxis\":\"x\",\"y\":[987.0526315789474],\"yaxis\":\"y\",\"type\":\"scatter\"},{\"customdata\":[[185]],\"hovertemplate\":\"<b>%{hovertext}</b><br><br>Club=BOK<br>Mean Age=%{x}<br>Mean Average Ranking Score=%{y}<br>Count=%{customdata[0]}<extra></extra>\",\"hovertext\":[\"BOK\"],\"legendgroup\":\"BOK\",\"marker\":{\"color\":\"#636efa\",\"symbol\":\"circle\"},\"mode\":\"markers\",\"name\":\"BOK\",\"orientation\":\"v\",\"showlegend\":true,\"x\":[52.67027027027027],\"xaxis\":\"x\",\"y\":[994.972972972973],\"yaxis\":\"y\",\"type\":\"scatter\"},{\"customdata\":[[2]],\"hovertemplate\":\"<b>%{hovertext}</b><br><br>Club=BUMC<br>Mean Age=%{x}<br>Mean Average Ranking Score=%{y}<br>Count=%{customdata[0]}<extra></extra>\",\"hovertext\":[\"BUMC\"],\"legendgroup\":\"BUMC\",\"marker\":{\"color\":\"#EF553B\",\"symbol\":\"circle\"},\"mode\":\"markers\",\"name\":\"BUMC\",\"orientation\":\"v\",\"showlegend\":true,\"x\":[23.5],\"xaxis\":\"x\",\"y\":[1039.0],\"yaxis\":\"y\",\"type\":\"scatter\"},{\"customdata\":[[25]],\"hovertemplate\":\"<b>%{hovertext}</b><br><br>Club=CHIG<br>Mean Age=%{x}<br>Mean Average Ranking Score=%{y}<br>Count=%{customdata[0]}<extra></extra>\",\"hovertext\":[\"CHIG\"],\"legendgroup\":\"CHIG\",\"marker\":{\"color\":\"#00cc96\",\"symbol\":\"circle\"},\"mode\":\"markers\",\"name\":\"CHIG\",\"orientation\":\"v\",\"showlegend\":true,\"x\":[55.96],\"xaxis\":\"x\",\"y\":[925.32],\"yaxis\":\"y\",\"type\":\"scatter\"},{\"customdata\":[[52]],\"hovertemplate\":\"<b>%{hovertext}</b><br><br>Club=CLARO<br>Mean Age=%{x}<br>Mean Average Ranking Score=%{y}<br>Count=%{customdata[0]}<extra></extra>\",\"hovertext\":[\"CLARO\"],\"legendgroup\":\"CLARO\",\"marker\":{\"color\":\"#ab63fa\",\"symbol\":\"circle\"},\"mode\":\"markers\",\"name\":\"CLARO\",\"orientation\":\"v\",\"showlegend\":true,\"x\":[55.07692307692308],\"xaxis\":\"x\",\"y\":[978.1346153846154],\"yaxis\":\"y\",\"type\":\"scatter\"},{\"customdata\":[[73]],\"hovertemplate\":\"<b>%{hovertext}</b><br><br>Club=CLOK<br>Mean Age=%{x}<br>Mean Average Ranking Score=%{y}<br>Count=%{customdata[0]}<extra></extra>\",\"hovertext\":[\"CLOK\"],\"legendgroup\":\"CLOK\",\"marker\":{\"color\":\"#FFA15A\",\"symbol\":\"circle\"},\"mode\":\"markers\",\"name\":\"CLOK\",\"orientation\":\"v\",\"showlegend\":true,\"x\":[56.67123287671233],\"xaxis\":\"x\",\"y\":[931.068493150685],\"yaxis\":\"y\",\"type\":\"scatter\"},{\"customdata\":[[24]],\"hovertemplate\":\"<b>%{hovertext}</b><br><br>Club=CLYDE<br>Mean Age=%{x}<br>Mean Average Ranking Score=%{y}<br>Count=%{customdata[0]}<extra></extra>\",\"hovertext\":[\"CLYDE\"],\"legendgroup\":\"CLYDE\",\"marker\":{\"color\":\"#19d3f3\",\"symbol\":\"circle\"},\"mode\":\"markers\",\"name\":\"CLYDE\",\"orientation\":\"v\",\"showlegend\":true,\"x\":[51.291666666666664],\"xaxis\":\"x\",\"y\":[1049.6666666666667],\"yaxis\":\"y\",\"type\":\"scatter\"},{\"customdata\":[[6]],\"hovertemplate\":\"<b>%{hovertext}</b><br><br>Club=CUOC<br>Mean Age=%{x}<br>Mean Average Ranking Score=%{y}<br>Count=%{customdata[0]}<extra></extra>\",\"hovertext\":[\"CUOC\"],\"legendgroup\":\"CUOC\",\"marker\":{\"color\":\"#FF6692\",\"symbol\":\"circle\"},\"mode\":\"markers\",\"name\":\"CUOC\",\"orientation\":\"v\",\"showlegend\":true,\"x\":[23.833333333333332],\"xaxis\":\"x\",\"y\":[1125.1666666666667],\"yaxis\":\"y\",\"type\":\"scatter\"},{\"customdata\":[[91]],\"hovertemplate\":\"<b>%{hovertext}</b><br><br>Club=DEE<br>Mean Age=%{x}<br>Mean Average Ranking Score=%{y}<br>Count=%{customdata[0]}<extra></extra>\",\"hovertext\":[\"DEE\"],\"legendgroup\":\"DEE\",\"marker\":{\"color\":\"#B6E880\",\"symbol\":\"circle\"},\"mode\":\"markers\",\"name\":\"DEE\",\"orientation\":\"v\",\"showlegend\":true,\"x\":[58.15384615384615],\"xaxis\":\"x\",\"y\":[990.0],\"yaxis\":\"y\",\"type\":\"scatter\"},{\"customdata\":[[100]],\"hovertemplate\":\"<b>%{hovertext}</b><br><br>Club=DEVON<br>Mean Age=%{x}<br>Mean Average Ranking Score=%{y}<br>Count=%{customdata[0]}<extra></extra>\",\"hovertext\":[\"DEVON\"],\"legendgroup\":\"DEVON\",\"marker\":{\"color\":\"#FF97FF\",\"symbol\":\"circle\"},\"mode\":\"markers\",\"name\":\"DEVON\",\"orientation\":\"v\",\"showlegend\":true,\"x\":[53.05],\"xaxis\":\"x\",\"y\":[1001.86],\"yaxis\":\"y\",\"type\":\"scatter\"},{\"customdata\":[[53]],\"hovertemplate\":\"<b>%{hovertext}</b><br><br>Club=DFOK<br>Mean Age=%{x}<br>Mean Average Ranking Score=%{y}<br>Count=%{customdata[0]}<extra></extra>\",\"hovertext\":[\"DFOK\"],\"legendgroup\":\"DFOK\",\"marker\":{\"color\":\"#FECB52\",\"symbol\":\"circle\"},\"mode\":\"markers\",\"name\":\"DFOK\",\"orientation\":\"v\",\"showlegend\":true,\"x\":[53.339622641509436],\"xaxis\":\"x\",\"y\":[950.2452830188679],\"yaxis\":\"y\",\"type\":\"scatter\"},{\"customdata\":[[17]],\"hovertemplate\":\"<b>%{hovertext}</b><br><br>Club=DRONGO<br>Mean Age=%{x}<br>Mean Average Ranking Score=%{y}<br>Count=%{customdata[0]}<extra></extra>\",\"hovertext\":[\"DRONGO\"],\"legendgroup\":\"DRONGO\",\"marker\":{\"color\":\"#636efa\",\"symbol\":\"circle\"},\"mode\":\"markers\",\"name\":\"DRONGO\",\"orientation\":\"v\",\"showlegend\":true,\"x\":[34.76470588235294],\"xaxis\":\"x\",\"y\":[1148.4705882352941],\"yaxis\":\"y\",\"type\":\"scatter\"},{\"customdata\":[[2]],\"hovertemplate\":\"<b>%{hovertext}</b><br><br>Club=DUOC<br>Mean Age=%{x}<br>Mean Average Ranking Score=%{y}<br>Count=%{customdata[0]}<extra></extra>\",\"hovertext\":[\"DUOC\"],\"legendgroup\":\"DUOC\",\"marker\":{\"color\":\"#EF553B\",\"symbol\":\"circle\"},\"mode\":\"markers\",\"name\":\"DUOC\",\"orientation\":\"v\",\"showlegend\":true,\"x\":[21.5],\"xaxis\":\"x\",\"y\":[1200.0],\"yaxis\":\"y\",\"type\":\"scatter\"},{\"customdata\":[[116]],\"hovertemplate\":\"<b>%{hovertext}</b><br><br>Club=DVO<br>Mean Age=%{x}<br>Mean Average Ranking Score=%{y}<br>Count=%{customdata[0]}<extra></extra>\",\"hovertext\":[\"DVO\"],\"legendgroup\":\"DVO\",\"marker\":{\"color\":\"#00cc96\",\"symbol\":\"circle\"},\"mode\":\"markers\",\"name\":\"DVO\",\"orientation\":\"v\",\"showlegend\":true,\"x\":[56.12931034482759],\"xaxis\":\"x\",\"y\":[962.4051724137931],\"yaxis\":\"y\",\"type\":\"scatter\"},{\"customdata\":[[59]],\"hovertemplate\":\"<b>%{hovertext}</b><br><br>Club=EBOR<br>Mean Age=%{x}<br>Mean Average Ranking Score=%{y}<br>Count=%{customdata[0]}<extra></extra>\",\"hovertext\":[\"EBOR\"],\"legendgroup\":\"EBOR\",\"marker\":{\"color\":\"#ab63fa\",\"symbol\":\"circle\"},\"mode\":\"markers\",\"name\":\"EBOR\",\"orientation\":\"v\",\"showlegend\":true,\"x\":[58.79661016949152],\"xaxis\":\"x\",\"y\":[935.5593220338983],\"yaxis\":\"y\",\"type\":\"scatter\"},{\"customdata\":[[15]],\"hovertemplate\":\"<b>%{hovertext}</b><br><br>Club=ECKO<br>Mean Age=%{x}<br>Mean Average Ranking Score=%{y}<br>Count=%{customdata[0]}<extra></extra>\",\"hovertext\":[\"ECKO\"],\"legendgroup\":\"ECKO\",\"marker\":{\"color\":\"#FFA15A\",\"symbol\":\"circle\"},\"mode\":\"markers\",\"name\":\"ECKO\",\"orientation\":\"v\",\"showlegend\":true,\"x\":[55.53333333333333],\"xaxis\":\"x\",\"y\":[998.6],\"yaxis\":\"y\",\"type\":\"scatter\"},{\"customdata\":[[25]],\"hovertemplate\":\"<b>%{hovertext}</b><br><br>Club=ELO<br>Mean Age=%{x}<br>Mean Average Ranking Score=%{y}<br>Count=%{customdata[0]}<extra></extra>\",\"hovertext\":[\"ELO\"],\"legendgroup\":\"ELO\",\"marker\":{\"color\":\"#19d3f3\",\"symbol\":\"circle\"},\"mode\":\"markers\",\"name\":\"ELO\",\"orientation\":\"v\",\"showlegend\":true,\"x\":[50.64],\"xaxis\":\"x\",\"y\":[1029.36],\"yaxis\":\"y\",\"type\":\"scatter\"},{\"customdata\":[[57]],\"hovertemplate\":\"<b>%{hovertext}</b><br><br>Club=EPOC<br>Mean Age=%{x}<br>Mean Average Ranking Score=%{y}<br>Count=%{customdata[0]}<extra></extra>\",\"hovertext\":[\"EPOC\"],\"legendgroup\":\"EPOC\",\"marker\":{\"color\":\"#FF6692\",\"symbol\":\"circle\"},\"mode\":\"markers\",\"name\":\"EPOC\",\"orientation\":\"v\",\"showlegend\":true,\"x\":[61.12280701754386],\"xaxis\":\"x\",\"y\":[949.0526315789474],\"yaxis\":\"y\",\"type\":\"scatter\"},{\"customdata\":[[16]],\"hovertemplate\":\"<b>%{hovertext}</b><br><br>Club=ERYRI<br>Mean Age=%{x}<br>Mean Average Ranking Score=%{y}<br>Count=%{customdata[0]}<extra></extra>\",\"hovertext\":[\"ERYRI\"],\"legendgroup\":\"ERYRI\",\"marker\":{\"color\":\"#B6E880\",\"symbol\":\"circle\"},\"mode\":\"markers\",\"name\":\"ERYRI\",\"orientation\":\"v\",\"showlegend\":true,\"x\":[49.0625],\"xaxis\":\"x\",\"y\":[1072.125],\"yaxis\":\"y\",\"type\":\"scatter\"},{\"customdata\":[[82]],\"hovertemplate\":\"<b>%{hovertext}</b><br><br>Club=ESOC<br>Mean Age=%{x}<br>Mean Average Ranking Score=%{y}<br>Count=%{customdata[0]}<extra></extra>\",\"hovertext\":[\"ESOC\"],\"legendgroup\":\"ESOC\",\"marker\":{\"color\":\"#FF97FF\",\"symbol\":\"circle\"},\"mode\":\"markers\",\"name\":\"ESOC\",\"orientation\":\"v\",\"showlegend\":true,\"x\":[56.8780487804878],\"xaxis\":\"x\",\"y\":[983.439024390244],\"yaxis\":\"y\",\"type\":\"scatter\"},{\"customdata\":[[26]],\"hovertemplate\":\"<b>%{hovertext}</b><br><br>Club=EUOC<br>Mean Age=%{x}<br>Mean Average Ranking Score=%{y}<br>Count=%{customdata[0]}<extra></extra>\",\"hovertext\":[\"EUOC\"],\"legendgroup\":\"EUOC\",\"marker\":{\"color\":\"#FECB52\",\"symbol\":\"circle\"},\"mode\":\"markers\",\"name\":\"EUOC\",\"orientation\":\"v\",\"showlegend\":true,\"x\":[23.192307692307693],\"xaxis\":\"x\",\"y\":[1261.8461538461538],\"yaxis\":\"y\",\"type\":\"scatter\"},{\"customdata\":[[11]],\"hovertemplate\":\"<b>%{hovertext}</b><br><br>Club=FERMO<br>Mean Age=%{x}<br>Mean Average Ranking Score=%{y}<br>Count=%{customdata[0]}<extra></extra>\",\"hovertext\":[\"FERMO\"],\"legendgroup\":\"FERMO\",\"marker\":{\"color\":\"#636efa\",\"symbol\":\"circle\"},\"mode\":\"markers\",\"name\":\"FERMO\",\"orientation\":\"v\",\"showlegend\":true,\"x\":[53.63636363636363],\"xaxis\":\"x\",\"y\":[1066.2727272727273],\"yaxis\":\"y\",\"type\":\"scatter\"},{\"customdata\":[[123]],\"hovertemplate\":\"<b>%{hovertext}</b><br><br>Club=FVO<br>Mean Age=%{x}<br>Mean Average Ranking Score=%{y}<br>Count=%{customdata[0]}<extra></extra>\",\"hovertext\":[\"FVO\"],\"legendgroup\":\"FVO\",\"marker\":{\"color\":\"#EF553B\",\"symbol\":\"circle\"},\"mode\":\"markers\",\"name\":\"FVO\",\"orientation\":\"v\",\"showlegend\":true,\"x\":[49.63414634146341],\"xaxis\":\"x\",\"y\":[1090.3821138211383],\"yaxis\":\"y\",\"type\":\"scatter\"},{\"customdata\":[[31]],\"hovertemplate\":\"<b>%{hovertext}</b><br><br>Club=GO<br>Mean Age=%{x}<br>Mean Average Ranking Score=%{y}<br>Count=%{customdata[0]}<extra></extra>\",\"hovertext\":[\"GO\"],\"legendgroup\":\"GO\",\"marker\":{\"color\":\"#00cc96\",\"symbol\":\"circle\"},\"mode\":\"markers\",\"name\":\"GO\",\"orientation\":\"v\",\"showlegend\":true,\"x\":[59.74193548387097],\"xaxis\":\"x\",\"y\":[983.8064516129032],\"yaxis\":\"y\",\"type\":\"scatter\"},{\"customdata\":[[35]],\"hovertemplate\":\"<b>%{hovertext}</b><br><br>Club=GRAMP<br>Mean Age=%{x}<br>Mean Average Ranking Score=%{y}<br>Count=%{customdata[0]}<extra></extra>\",\"hovertext\":[\"GRAMP\"],\"legendgroup\":\"GRAMP\",\"marker\":{\"color\":\"#ab63fa\",\"symbol\":\"circle\"},\"mode\":\"markers\",\"name\":\"GRAMP\",\"orientation\":\"v\",\"showlegend\":true,\"x\":[61.25714285714286],\"xaxis\":\"x\",\"y\":[1014.7142857142857],\"yaxis\":\"y\",\"type\":\"scatter\"},{\"customdata\":[[47]],\"hovertemplate\":\"<b>%{hovertext}</b><br><br>Club=HALO<br>Mean Age=%{x}<br>Mean Average Ranking Score=%{y}<br>Count=%{customdata[0]}<extra></extra>\",\"hovertext\":[\"HALO\"],\"legendgroup\":\"HALO\",\"marker\":{\"color\":\"#FFA15A\",\"symbol\":\"circle\"},\"mode\":\"markers\",\"name\":\"HALO\",\"orientation\":\"v\",\"showlegend\":true,\"x\":[58.59574468085106],\"xaxis\":\"x\",\"y\":[926.2765957446809],\"yaxis\":\"y\",\"type\":\"scatter\"},{\"customdata\":[[22]],\"hovertemplate\":\"<b>%{hovertext}</b><br><br>Club=HAVOC<br>Mean Age=%{x}<br>Mean Average Ranking Score=%{y}<br>Count=%{customdata[0]}<extra></extra>\",\"hovertext\":[\"HAVOC\"],\"legendgroup\":\"HAVOC\",\"marker\":{\"color\":\"#19d3f3\",\"symbol\":\"circle\"},\"mode\":\"markers\",\"name\":\"HAVOC\",\"orientation\":\"v\",\"showlegend\":true,\"x\":[61.09090909090909],\"xaxis\":\"x\",\"y\":[935.8636363636364],\"yaxis\":\"y\",\"type\":\"scatter\"},{\"customdata\":[[107]],\"hovertemplate\":\"<b>%{hovertext}</b><br><br>Club=HH<br>Mean Age=%{x}<br>Mean Average Ranking Score=%{y}<br>Count=%{customdata[0]}<extra></extra>\",\"hovertext\":[\"HH\"],\"legendgroup\":\"HH\",\"marker\":{\"color\":\"#FF6692\",\"symbol\":\"circle\"},\"mode\":\"markers\",\"name\":\"HH\",\"orientation\":\"v\",\"showlegend\":true,\"x\":[50.757009345794394],\"xaxis\":\"x\",\"y\":[999.588785046729],\"yaxis\":\"y\",\"type\":\"scatter\"},{\"customdata\":[[88]],\"hovertemplate\":\"<b>%{hovertext}</b><br><br>Club=HOC<br>Mean Age=%{x}<br>Mean Average Ranking Score=%{y}<br>Count=%{customdata[0]}<extra></extra>\",\"hovertext\":[\"HOC\"],\"legendgroup\":\"HOC\",\"marker\":{\"color\":\"#B6E880\",\"symbol\":\"circle\"},\"mode\":\"markers\",\"name\":\"HOC\",\"orientation\":\"v\",\"showlegend\":true,\"x\":[59.69318181818182],\"xaxis\":\"x\",\"y\":[930.0909090909091],\"yaxis\":\"y\",\"type\":\"scatter\"},{\"customdata\":[[65]],\"hovertemplate\":\"<b>%{hovertext}</b><br><br>Club=INT<br>Mean Age=%{x}<br>Mean Average Ranking Score=%{y}<br>Count=%{customdata[0]}<extra></extra>\",\"hovertext\":[\"INT\"],\"legendgroup\":\"INT\",\"marker\":{\"color\":\"#FF97FF\",\"symbol\":\"circle\"},\"mode\":\"markers\",\"name\":\"INT\",\"orientation\":\"v\",\"showlegend\":true,\"x\":[43.93846153846154],\"xaxis\":\"x\",\"y\":[1170.6153846153845],\"yaxis\":\"y\",\"type\":\"scatter\"},{\"customdata\":[[43]],\"hovertemplate\":\"<b>%{hovertext}</b><br><br>Club=INVOC<br>Mean Age=%{x}<br>Mean Average Ranking Score=%{y}<br>Count=%{customdata[0]}<extra></extra>\",\"hovertext\":[\"INVOC\"],\"legendgroup\":\"INVOC\",\"marker\":{\"color\":\"#FECB52\",\"symbol\":\"circle\"},\"mode\":\"markers\",\"name\":\"INVOC\",\"orientation\":\"v\",\"showlegend\":true,\"x\":[53.58139534883721],\"xaxis\":\"x\",\"y\":[1029.5348837209303],\"yaxis\":\"y\",\"type\":\"scatter\"},{\"customdata\":[[4]],\"hovertemplate\":\"<b>%{hovertext}</b><br><br>Club=JOK<br>Mean Age=%{x}<br>Mean Average Ranking Score=%{y}<br>Count=%{customdata[0]}<extra></extra>\",\"hovertext\":[\"JOK\"],\"legendgroup\":\"JOK\",\"marker\":{\"color\":\"#636efa\",\"symbol\":\"circle\"},\"mode\":\"markers\",\"name\":\"JOK\",\"orientation\":\"v\",\"showlegend\":true,\"x\":[55.25],\"xaxis\":\"x\",\"y\":[980.5],\"yaxis\":\"y\",\"type\":\"scatter\"},{\"customdata\":[[32]],\"hovertemplate\":\"<b>%{hovertext}</b><br><br>Club=KERNO<br>Mean Age=%{x}<br>Mean Average Ranking Score=%{y}<br>Count=%{customdata[0]}<extra></extra>\",\"hovertext\":[\"KERNO\"],\"legendgroup\":\"KERNO\",\"marker\":{\"color\":\"#EF553B\",\"symbol\":\"circle\"},\"mode\":\"markers\",\"name\":\"KERNO\",\"orientation\":\"v\",\"showlegend\":true,\"x\":[60.65625],\"xaxis\":\"x\",\"y\":[1003.8125],\"yaxis\":\"y\",\"type\":\"scatter\"},{\"customdata\":[[10]],\"hovertemplate\":\"<b>%{hovertext}</b><br><br>Club=KFO<br>Mean Age=%{x}<br>Mean Average Ranking Score=%{y}<br>Count=%{customdata[0]}<extra></extra>\",\"hovertext\":[\"KFO\"],\"legendgroup\":\"KFO\",\"marker\":{\"color\":\"#00cc96\",\"symbol\":\"circle\"},\"mode\":\"markers\",\"name\":\"KFO\",\"orientation\":\"v\",\"showlegend\":true,\"x\":[65.7],\"xaxis\":\"x\",\"y\":[936.3],\"yaxis\":\"y\",\"type\":\"scatter\"},{\"customdata\":[[77]],\"hovertemplate\":\"<b>%{hovertext}</b><br><br>Club=LEI<br>Mean Age=%{x}<br>Mean Average Ranking Score=%{y}<br>Count=%{customdata[0]}<extra></extra>\",\"hovertext\":[\"LEI\"],\"legendgroup\":\"LEI\",\"marker\":{\"color\":\"#ab63fa\",\"symbol\":\"circle\"},\"mode\":\"markers\",\"name\":\"LEI\",\"orientation\":\"v\",\"showlegend\":true,\"x\":[59.493506493506494],\"xaxis\":\"x\",\"y\":[924.4545454545455],\"yaxis\":\"y\",\"type\":\"scatter\"},{\"customdata\":[[144]],\"hovertemplate\":\"<b>%{hovertext}</b><br><br>Club=LOC<br>Mean Age=%{x}<br>Mean Average Ranking Score=%{y}<br>Count=%{customdata[0]}<extra></extra>\",\"hovertext\":[\"LOC\"],\"legendgroup\":\"LOC\",\"marker\":{\"color\":\"#FFA15A\",\"symbol\":\"circle\"},\"mode\":\"markers\",\"name\":\"LOC\",\"orientation\":\"v\",\"showlegend\":true,\"x\":[57.46527777777778],\"xaxis\":\"x\",\"y\":[1015.8472222222222],\"yaxis\":\"y\",\"type\":\"scatter\"},{\"customdata\":[[45]],\"hovertemplate\":\"<b>%{hovertext}</b><br><br>Club=LOG<br>Mean Age=%{x}<br>Mean Average Ranking Score=%{y}<br>Count=%{customdata[0]}<extra></extra>\",\"hovertext\":[\"LOG\"],\"legendgroup\":\"LOG\",\"marker\":{\"color\":\"#19d3f3\",\"symbol\":\"circle\"},\"mode\":\"markers\",\"name\":\"LOG\",\"orientation\":\"v\",\"showlegend\":true,\"x\":[53.17777777777778],\"xaxis\":\"x\",\"y\":[983.2666666666667],\"yaxis\":\"y\",\"type\":\"scatter\"},{\"customdata\":[[31]],\"hovertemplate\":\"<b>%{hovertext}</b><br><br>Club=LOK<br>Mean Age=%{x}<br>Mean Average Ranking Score=%{y}<br>Count=%{customdata[0]}<extra></extra>\",\"hovertext\":[\"LOK\"],\"legendgroup\":\"LOK\",\"marker\":{\"color\":\"#FF6692\",\"symbol\":\"circle\"},\"mode\":\"markers\",\"name\":\"LOK\",\"orientation\":\"v\",\"showlegend\":true,\"x\":[52.096774193548384],\"xaxis\":\"x\",\"y\":[986.7741935483871],\"yaxis\":\"y\",\"type\":\"scatter\"},{\"customdata\":[[1]],\"hovertemplate\":\"<b>%{hovertext}</b><br><br>Club=LUUOC<br>Mean Age=%{x}<br>Mean Average Ranking Score=%{y}<br>Count=%{customdata[0]}<extra></extra>\",\"hovertext\":[\"LUUOC\"],\"legendgroup\":\"LUUOC\",\"marker\":{\"color\":\"#B6E880\",\"symbol\":\"circle\"},\"mode\":\"markers\",\"name\":\"LUUOC\",\"orientation\":\"v\",\"showlegend\":true,\"x\":[24.0],\"xaxis\":\"x\",\"y\":[1147.0],\"yaxis\":\"y\",\"type\":\"scatter\"},{\"customdata\":[[98]],\"hovertemplate\":\"<b>%{hovertext}</b><br><br>Club=LVO<br>Mean Age=%{x}<br>Mean Average Ranking Score=%{y}<br>Count=%{customdata[0]}<extra></extra>\",\"hovertext\":[\"LVO\"],\"legendgroup\":\"LVO\",\"marker\":{\"color\":\"#FF97FF\",\"symbol\":\"circle\"},\"mode\":\"markers\",\"name\":\"LVO\",\"orientation\":\"v\",\"showlegend\":true,\"x\":[49.33673469387755],\"xaxis\":\"x\",\"y\":[1002.8673469387755],\"yaxis\":\"y\",\"type\":\"scatter\"},{\"customdata\":[[62]],\"hovertemplate\":\"<b>%{hovertext}</b><br><br>Club=MAROC<br>Mean Age=%{x}<br>Mean Average Ranking Score=%{y}<br>Count=%{customdata[0]}<extra></extra>\",\"hovertext\":[\"MAROC\"],\"legendgroup\":\"MAROC\",\"marker\":{\"color\":\"#FECB52\",\"symbol\":\"circle\"},\"mode\":\"markers\",\"name\":\"MAROC\",\"orientation\":\"v\",\"showlegend\":true,\"x\":[49.33870967741935],\"xaxis\":\"x\",\"y\":[1064.0483870967741],\"yaxis\":\"y\",\"type\":\"scatter\"},{\"customdata\":[[105]],\"hovertemplate\":\"<b>%{hovertext}</b><br><br>Club=MDOC<br>Mean Age=%{x}<br>Mean Average Ranking Score=%{y}<br>Count=%{customdata[0]}<extra></extra>\",\"hovertext\":[\"MDOC\"],\"legendgroup\":\"MDOC\",\"marker\":{\"color\":\"#636efa\",\"symbol\":\"circle\"},\"mode\":\"markers\",\"name\":\"MDOC\",\"orientation\":\"v\",\"showlegend\":true,\"x\":[53.457142857142856],\"xaxis\":\"x\",\"y\":[972.3714285714286],\"yaxis\":\"y\",\"type\":\"scatter\"},{\"customdata\":[[45]],\"hovertemplate\":\"<b>%{hovertext}</b><br><br>Club=MOR<br>Mean Age=%{x}<br>Mean Average Ranking Score=%{y}<br>Count=%{customdata[0]}<extra></extra>\",\"hovertext\":[\"MOR\"],\"legendgroup\":\"MOR\",\"marker\":{\"color\":\"#EF553B\",\"symbol\":\"circle\"},\"mode\":\"markers\",\"name\":\"MOR\",\"orientation\":\"v\",\"showlegend\":true,\"x\":[51.48888888888889],\"xaxis\":\"x\",\"y\":[981.8],\"yaxis\":\"y\",\"type\":\"scatter\"},{\"customdata\":[[47]],\"hovertemplate\":\"<b>%{hovertext}</b><br><br>Club=MV<br>Mean Age=%{x}<br>Mean Average Ranking Score=%{y}<br>Count=%{customdata[0]}<extra></extra>\",\"hovertext\":[\"MV\"],\"legendgroup\":\"MV\",\"marker\":{\"color\":\"#00cc96\",\"symbol\":\"circle\"},\"mode\":\"markers\",\"name\":\"MV\",\"orientation\":\"v\",\"showlegend\":true,\"x\":[57.59574468085106],\"xaxis\":\"x\",\"y\":[936.4893617021277],\"yaxis\":\"y\",\"type\":\"scatter\"},{\"customdata\":[[5]],\"hovertemplate\":\"<b>%{hovertext}</b><br><br>Club=MWOC<br>Mean Age=%{x}<br>Mean Average Ranking Score=%{y}<br>Count=%{customdata[0]}<extra></extra>\",\"hovertext\":[\"MWOC\"],\"legendgroup\":\"MWOC\",\"marker\":{\"color\":\"#ab63fa\",\"symbol\":\"circle\"},\"mode\":\"markers\",\"name\":\"MWOC\",\"orientation\":\"v\",\"showlegend\":true,\"x\":[57.6],\"xaxis\":\"x\",\"y\":[1024.8],\"yaxis\":\"y\",\"type\":\"scatter\"},{\"customdata\":[[47]],\"hovertemplate\":\"<b>%{hovertext}</b><br><br>Club=NATO<br>Mean Age=%{x}<br>Mean Average Ranking Score=%{y}<br>Count=%{customdata[0]}<extra></extra>\",\"hovertext\":[\"NATO\"],\"legendgroup\":\"NATO\",\"marker\":{\"color\":\"#FFA15A\",\"symbol\":\"circle\"},\"mode\":\"markers\",\"name\":\"NATO\",\"orientation\":\"v\",\"showlegend\":true,\"x\":[51.787234042553195],\"xaxis\":\"x\",\"y\":[994.063829787234],\"yaxis\":\"y\",\"type\":\"scatter\"},{\"customdata\":[[88]],\"hovertemplate\":\"<b>%{hovertext}</b><br><br>Club=NGOC<br>Mean Age=%{x}<br>Mean Average Ranking Score=%{y}<br>Count=%{customdata[0]}<extra></extra>\",\"hovertext\":[\"NGOC\"],\"legendgroup\":\"NGOC\",\"marker\":{\"color\":\"#19d3f3\",\"symbol\":\"circle\"},\"mode\":\"markers\",\"name\":\"NGOC\",\"orientation\":\"v\",\"showlegend\":true,\"x\":[58.85227272727273],\"xaxis\":\"x\",\"y\":[960.1477272727273],\"yaxis\":\"y\",\"type\":\"scatter\"},{\"customdata\":[[34]],\"hovertemplate\":\"<b>%{hovertext}</b><br><br>Club=NN<br>Mean Age=%{x}<br>Mean Average Ranking Score=%{y}<br>Count=%{customdata[0]}<extra></extra>\",\"hovertext\":[\"NN\"],\"legendgroup\":\"NN\",\"marker\":{\"color\":\"#FF6692\",\"symbol\":\"circle\"},\"mode\":\"markers\",\"name\":\"NN\",\"orientation\":\"v\",\"showlegend\":true,\"x\":[45.14705882352941],\"xaxis\":\"x\",\"y\":[1048.6764705882354],\"yaxis\":\"y\",\"type\":\"scatter\"},{\"customdata\":[[68]],\"hovertemplate\":\"<b>%{hovertext}</b><br><br>Club=NOC<br>Mean Age=%{x}<br>Mean Average Ranking Score=%{y}<br>Count=%{customdata[0]}<extra></extra>\",\"hovertext\":[\"NOC\"],\"legendgroup\":\"NOC\",\"marker\":{\"color\":\"#B6E880\",\"symbol\":\"circle\"},\"mode\":\"markers\",\"name\":\"NOC\",\"orientation\":\"v\",\"showlegend\":true,\"x\":[57.98529411764706],\"xaxis\":\"x\",\"y\":[922.7058823529412],\"yaxis\":\"y\",\"type\":\"scatter\"},{\"customdata\":[[62]],\"hovertemplate\":\"<b>%{hovertext}</b><br><br>Club=NOR<br>Mean Age=%{x}<br>Mean Average Ranking Score=%{y}<br>Count=%{customdata[0]}<extra></extra>\",\"hovertext\":[\"NOR\"],\"legendgroup\":\"NOR\",\"marker\":{\"color\":\"#FF97FF\",\"symbol\":\"circle\"},\"mode\":\"markers\",\"name\":\"NOR\",\"orientation\":\"v\",\"showlegend\":true,\"x\":[56.83870967741935],\"xaxis\":\"x\",\"y\":[941.6612903225806],\"yaxis\":\"y\",\"type\":\"scatter\"},{\"customdata\":[[29]],\"hovertemplate\":\"<b>%{hovertext}</b><br><br>Club=NWO<br>Mean Age=%{x}<br>Mean Average Ranking Score=%{y}<br>Count=%{customdata[0]}<extra></extra>\",\"hovertext\":[\"NWO\"],\"legendgroup\":\"NWO\",\"marker\":{\"color\":\"#FECB52\",\"symbol\":\"circle\"},\"mode\":\"markers\",\"name\":\"NWO\",\"orientation\":\"v\",\"showlegend\":true,\"x\":[57.275862068965516],\"xaxis\":\"x\",\"y\":[957.4827586206897],\"yaxis\":\"y\",\"type\":\"scatter\"},{\"customdata\":[[15]],\"hovertemplate\":\"<b>%{hovertext}</b><br><br>Club=NWOC<br>Mean Age=%{x}<br>Mean Average Ranking Score=%{y}<br>Count=%{customdata[0]}<extra></extra>\",\"hovertext\":[\"NWOC\"],\"legendgroup\":\"NWOC\",\"marker\":{\"color\":\"#636efa\",\"symbol\":\"circle\"},\"mode\":\"markers\",\"name\":\"NWOC\",\"orientation\":\"v\",\"showlegend\":true,\"x\":[54.266666666666666],\"xaxis\":\"x\",\"y\":[974.4],\"yaxis\":\"y\",\"type\":\"scatter\"},{\"customdata\":[[82]],\"hovertemplate\":\"<b>%{hovertext}</b><br><br>Club=OD<br>Mean Age=%{x}<br>Mean Average Ranking Score=%{y}<br>Count=%{customdata[0]}<extra></extra>\",\"hovertext\":[\"OD\"],\"legendgroup\":\"OD\",\"marker\":{\"color\":\"#EF553B\",\"symbol\":\"circle\"},\"mode\":\"markers\",\"name\":\"OD\",\"orientation\":\"v\",\"showlegend\":true,\"x\":[56.573170731707314],\"xaxis\":\"x\",\"y\":[995.8658536585366],\"yaxis\":\"y\",\"type\":\"scatter\"},{\"customdata\":[[7]],\"hovertemplate\":\"<b>%{hovertext}</b><br><br>Club=OUOC<br>Mean Age=%{x}<br>Mean Average Ranking Score=%{y}<br>Count=%{customdata[0]}<extra></extra>\",\"hovertext\":[\"OUOC\"],\"legendgroup\":\"OUOC\",\"marker\":{\"color\":\"#00cc96\",\"symbol\":\"circle\"},\"mode\":\"markers\",\"name\":\"OUOC\",\"orientation\":\"v\",\"showlegend\":true,\"x\":[26.571428571428573],\"xaxis\":\"x\",\"y\":[1021.1428571428571],\"yaxis\":\"y\",\"type\":\"scatter\"},{\"customdata\":[[52]],\"hovertemplate\":\"<b>%{hovertext}</b><br><br>Club=PFO<br>Mean Age=%{x}<br>Mean Average Ranking Score=%{y}<br>Count=%{customdata[0]}<extra></extra>\",\"hovertext\":[\"PFO\"],\"legendgroup\":\"PFO\",\"marker\":{\"color\":\"#ab63fa\",\"symbol\":\"circle\"},\"mode\":\"markers\",\"name\":\"PFO\",\"orientation\":\"v\",\"showlegend\":true,\"x\":[51.78846153846154],\"xaxis\":\"x\",\"y\":[944.1538461538462],\"yaxis\":\"y\",\"type\":\"scatter\"},{\"customdata\":[[32]],\"hovertemplate\":\"<b>%{hovertext}</b><br><br>Club=POTOC<br>Mean Age=%{x}<br>Mean Average Ranking Score=%{y}<br>Count=%{customdata[0]}<extra></extra>\",\"hovertext\":[\"POTOC\"],\"legendgroup\":\"POTOC\",\"marker\":{\"color\":\"#FFA15A\",\"symbol\":\"circle\"},\"mode\":\"markers\",\"name\":\"POTOC\",\"orientation\":\"v\",\"showlegend\":true,\"x\":[61.15625],\"xaxis\":\"x\",\"y\":[944.71875],\"yaxis\":\"y\",\"type\":\"scatter\"},{\"customdata\":[[51]],\"hovertemplate\":\"<b>%{hovertext}</b><br><br>Club=QO<br>Mean Age=%{x}<br>Mean Average Ranking Score=%{y}<br>Count=%{customdata[0]}<extra></extra>\",\"hovertext\":[\"QO\"],\"legendgroup\":\"QO\",\"marker\":{\"color\":\"#19d3f3\",\"symbol\":\"circle\"},\"mode\":\"markers\",\"name\":\"QO\",\"orientation\":\"v\",\"showlegend\":true,\"x\":[55.90196078431372],\"xaxis\":\"x\",\"y\":[970.5098039215686],\"yaxis\":\"y\",\"type\":\"scatter\"},{\"customdata\":[[36]],\"hovertemplate\":\"<b>%{hovertext}</b><br><br>Club=RAFO<br>Mean Age=%{x}<br>Mean Average Ranking Score=%{y}<br>Count=%{customdata[0]}<extra></extra>\",\"hovertext\":[\"RAFO\"],\"legendgroup\":\"RAFO\",\"marker\":{\"color\":\"#FF6692\",\"symbol\":\"circle\"},\"mode\":\"markers\",\"name\":\"RAFO\",\"orientation\":\"v\",\"showlegend\":true,\"x\":[49.19444444444444],\"xaxis\":\"x\",\"y\":[1040.9166666666667],\"yaxis\":\"y\",\"type\":\"scatter\"},{\"customdata\":[[4]],\"hovertemplate\":\"<b>%{hovertext}</b><br><br>Club=RNOC<br>Mean Age=%{x}<br>Mean Average Ranking Score=%{y}<br>Count=%{customdata[0]}<extra></extra>\",\"hovertext\":[\"RNOC\"],\"legendgroup\":\"RNOC\",\"marker\":{\"color\":\"#B6E880\",\"symbol\":\"circle\"},\"mode\":\"markers\",\"name\":\"RNOC\",\"orientation\":\"v\",\"showlegend\":true,\"x\":[37.75],\"xaxis\":\"x\",\"y\":[1087.5],\"yaxis\":\"y\",\"type\":\"scatter\"},{\"customdata\":[[24]],\"hovertemplate\":\"<b>%{hovertext}</b><br><br>Club=RR<br>Mean Age=%{x}<br>Mean Average Ranking Score=%{y}<br>Count=%{customdata[0]}<extra></extra>\",\"hovertext\":[\"RR\"],\"legendgroup\":\"RR\",\"marker\":{\"color\":\"#FF97FF\",\"symbol\":\"circle\"},\"mode\":\"markers\",\"name\":\"RR\",\"orientation\":\"v\",\"showlegend\":true,\"x\":[56.333333333333336],\"xaxis\":\"x\",\"y\":[1002.8333333333334],\"yaxis\":\"y\",\"type\":\"scatter\"},{\"customdata\":[[47]],\"hovertemplate\":\"<b>%{hovertext}</b><br><br>Club=SARUM<br>Mean Age=%{x}<br>Mean Average Ranking Score=%{y}<br>Count=%{customdata[0]}<extra></extra>\",\"hovertext\":[\"SARUM\"],\"legendgroup\":\"SARUM\",\"marker\":{\"color\":\"#FECB52\",\"symbol\":\"circle\"},\"mode\":\"markers\",\"name\":\"SARUM\",\"orientation\":\"v\",\"showlegend\":true,\"x\":[56.808510638297875],\"xaxis\":\"x\",\"y\":[918.531914893617],\"yaxis\":\"y\",\"type\":\"scatter\"},{\"customdata\":[[46]],\"hovertemplate\":\"<b>%{hovertext}</b><br><br>Club=SAX<br>Mean Age=%{x}<br>Mean Average Ranking Score=%{y}<br>Count=%{customdata[0]}<extra></extra>\",\"hovertext\":[\"SAX\"],\"legendgroup\":\"SAX\",\"marker\":{\"color\":\"#636efa\",\"symbol\":\"circle\"},\"mode\":\"markers\",\"name\":\"SAX\",\"orientation\":\"v\",\"showlegend\":true,\"x\":[58.41304347826087],\"xaxis\":\"x\",\"y\":[978.9347826086956],\"yaxis\":\"y\",\"type\":\"scatter\"},{\"customdata\":[[53]],\"hovertemplate\":\"<b>%{hovertext}</b><br><br>Club=SBOC<br>Mean Age=%{x}<br>Mean Average Ranking Score=%{y}<br>Count=%{customdata[0]}<extra></extra>\",\"hovertext\":[\"SBOC\"],\"legendgroup\":\"SBOC\",\"marker\":{\"color\":\"#EF553B\",\"symbol\":\"circle\"},\"mode\":\"markers\",\"name\":\"SBOC\",\"orientation\":\"v\",\"showlegend\":true,\"x\":[45.113207547169814],\"xaxis\":\"x\",\"y\":[1075.2641509433963],\"yaxis\":\"y\",\"type\":\"scatter\"},{\"customdata\":[[26]],\"hovertemplate\":\"<b>%{hovertext}</b><br><br>Club=SELOC<br>Mean Age=%{x}<br>Mean Average Ranking Score=%{y}<br>Count=%{customdata[0]}<extra></extra>\",\"hovertext\":[\"SELOC\"],\"legendgroup\":\"SELOC\",\"marker\":{\"color\":\"#00cc96\",\"symbol\":\"circle\"},\"mode\":\"markers\",\"name\":\"SELOC\",\"orientation\":\"v\",\"showlegend\":true,\"x\":[56.65384615384615],\"xaxis\":\"x\",\"y\":[948.9615384615385],\"yaxis\":\"y\",\"type\":\"scatter\"},{\"customdata\":[[6]],\"hovertemplate\":\"<b>%{hovertext}</b><br><br>Club=SHUOC<br>Mean Age=%{x}<br>Mean Average Ranking Score=%{y}<br>Count=%{customdata[0]}<extra></extra>\",\"hovertext\":[\"SHUOC\"],\"legendgroup\":\"SHUOC\",\"marker\":{\"color\":\"#ab63fa\",\"symbol\":\"circle\"},\"mode\":\"markers\",\"name\":\"SHUOC\",\"orientation\":\"v\",\"showlegend\":true,\"x\":[22.666666666666668],\"xaxis\":\"x\",\"y\":[1177.8333333333333],\"yaxis\":\"y\",\"type\":\"scatter\"},{\"customdata\":[[127]],\"hovertemplate\":\"<b>%{hovertext}</b><br><br>Club=SLOW<br>Mean Age=%{x}<br>Mean Average Ranking Score=%{y}<br>Count=%{customdata[0]}<extra></extra>\",\"hovertext\":[\"SLOW\"],\"legendgroup\":\"SLOW\",\"marker\":{\"color\":\"#FFA15A\",\"symbol\":\"circle\"},\"mode\":\"markers\",\"name\":\"SLOW\",\"orientation\":\"v\",\"showlegend\":true,\"x\":[47.59055118110236],\"xaxis\":\"x\",\"y\":[1053.8346456692914],\"yaxis\":\"y\",\"type\":\"scatter\"},{\"customdata\":[[42]],\"hovertemplate\":\"<b>%{hovertext}</b><br><br>Club=SMOC<br>Mean Age=%{x}<br>Mean Average Ranking Score=%{y}<br>Count=%{customdata[0]}<extra></extra>\",\"hovertext\":[\"SMOC\"],\"legendgroup\":\"SMOC\",\"marker\":{\"color\":\"#19d3f3\",\"symbol\":\"circle\"},\"mode\":\"markers\",\"name\":\"SMOC\",\"orientation\":\"v\",\"showlegend\":true,\"x\":[54.976190476190474],\"xaxis\":\"x\",\"y\":[906.0],\"yaxis\":\"y\",\"type\":\"scatter\"},{\"customdata\":[[109]],\"hovertemplate\":\"<b>%{hovertext}</b><br><br>Club=SN<br>Mean Age=%{x}<br>Mean Average Ranking Score=%{y}<br>Count=%{customdata[0]}<extra></extra>\",\"hovertext\":[\"SN\"],\"legendgroup\":\"SN\",\"marker\":{\"color\":\"#FF6692\",\"symbol\":\"circle\"},\"mode\":\"markers\",\"name\":\"SN\",\"orientation\":\"v\",\"showlegend\":true,\"x\":[50.788990825688074],\"xaxis\":\"x\",\"y\":[1028.2660550458716],\"yaxis\":\"y\",\"type\":\"scatter\"},{\"customdata\":[[142]],\"hovertemplate\":\"<b>%{hovertext}</b><br><br>Club=SO<br>Mean Age=%{x}<br>Mean Average Ranking Score=%{y}<br>Count=%{customdata[0]}<extra></extra>\",\"hovertext\":[\"SO\"],\"legendgroup\":\"SO\",\"marker\":{\"color\":\"#B6E880\",\"symbol\":\"circle\"},\"mode\":\"markers\",\"name\":\"SO\",\"orientation\":\"v\",\"showlegend\":true,\"x\":[56.54225352112676],\"xaxis\":\"x\",\"y\":[972.556338028169],\"yaxis\":\"y\",\"type\":\"scatter\"},{\"customdata\":[[73]],\"hovertemplate\":\"<b>%{hovertext}</b><br><br>Club=SOC<br>Mean Age=%{x}<br>Mean Average Ranking Score=%{y}<br>Count=%{customdata[0]}<extra></extra>\",\"hovertext\":[\"SOC\"],\"legendgroup\":\"SOC\",\"marker\":{\"color\":\"#FF97FF\",\"symbol\":\"circle\"},\"mode\":\"markers\",\"name\":\"SOC\",\"orientation\":\"v\",\"showlegend\":true,\"x\":[56.04109589041096],\"xaxis\":\"x\",\"y\":[918.2465753424658],\"yaxis\":\"y\",\"type\":\"scatter\"},{\"customdata\":[[14]],\"hovertemplate\":\"<b>%{hovertext}</b><br><br>Club=SOLWAY<br>Mean Age=%{x}<br>Mean Average Ranking Score=%{y}<br>Count=%{customdata[0]}<extra></extra>\",\"hovertext\":[\"SOLWAY\"],\"legendgroup\":\"SOLWAY\",\"marker\":{\"color\":\"#FECB52\",\"symbol\":\"circle\"},\"mode\":\"markers\",\"name\":\"SOLWAY\",\"orientation\":\"v\",\"showlegend\":true,\"x\":[51.785714285714285],\"xaxis\":\"x\",\"y\":[948.2857142857143],\"yaxis\":\"y\",\"type\":\"scatter\"},{\"customdata\":[[45]],\"hovertemplate\":\"<b>%{hovertext}</b><br><br>Club=SOS<br>Mean Age=%{x}<br>Mean Average Ranking Score=%{y}<br>Count=%{customdata[0]}<extra></extra>\",\"hovertext\":[\"SOS\"],\"legendgroup\":\"SOS\",\"marker\":{\"color\":\"#636efa\",\"symbol\":\"circle\"},\"mode\":\"markers\",\"name\":\"SOS\",\"orientation\":\"v\",\"showlegend\":true,\"x\":[53.733333333333334],\"xaxis\":\"x\",\"y\":[941.9111111111112],\"yaxis\":\"y\",\"type\":\"scatter\"},{\"customdata\":[[1]],\"hovertemplate\":\"<b>%{hovertext}</b><br><br>Club=SPOOK<br>Mean Age=%{x}<br>Mean Average Ranking Score=%{y}<br>Count=%{customdata[0]}<extra></extra>\",\"hovertext\":[\"SPOOK\"],\"legendgroup\":\"SPOOK\",\"marker\":{\"color\":\"#EF553B\",\"symbol\":\"circle\"},\"mode\":\"markers\",\"name\":\"SPOOK\",\"orientation\":\"v\",\"showlegend\":true,\"x\":[60.0],\"xaxis\":\"x\",\"y\":[1002.0],\"yaxis\":\"y\",\"type\":\"scatter\"},{\"customdata\":[[71]],\"hovertemplate\":\"<b>%{hovertext}</b><br><br>Club=SROC<br>Mean Age=%{x}<br>Mean Average Ranking Score=%{y}<br>Count=%{customdata[0]}<extra></extra>\",\"hovertext\":[\"SROC\"],\"legendgroup\":\"SROC\",\"marker\":{\"color\":\"#00cc96\",\"symbol\":\"circle\"},\"mode\":\"markers\",\"name\":\"SROC\",\"orientation\":\"v\",\"showlegend\":true,\"x\":[56.49295774647887],\"xaxis\":\"x\",\"y\":[1036.5070422535211],\"yaxis\":\"y\",\"type\":\"scatter\"},{\"customdata\":[[32]],\"hovertemplate\":\"<b>%{hovertext}</b><br><br>Club=STAG<br>Mean Age=%{x}<br>Mean Average Ranking Score=%{y}<br>Count=%{customdata[0]}<extra></extra>\",\"hovertext\":[\"STAG\"],\"legendgroup\":\"STAG\",\"marker\":{\"color\":\"#ab63fa\",\"symbol\":\"circle\"},\"mode\":\"markers\",\"name\":\"STAG\",\"orientation\":\"v\",\"showlegend\":true,\"x\":[44.46875],\"xaxis\":\"x\",\"y\":[1065.40625],\"yaxis\":\"y\",\"type\":\"scatter\"},{\"customdata\":[[3]],\"hovertemplate\":\"<b>%{hovertext}</b><br><br>Club=STUOC<br>Mean Age=%{x}<br>Mean Average Ranking Score=%{y}<br>Count=%{customdata[0]}<extra></extra>\",\"hovertext\":[\"STUOC\"],\"legendgroup\":\"STUOC\",\"marker\":{\"color\":\"#FFA15A\",\"symbol\":\"circle\"},\"mode\":\"markers\",\"name\":\"STUOC\",\"orientation\":\"v\",\"showlegend\":true,\"x\":[21.666666666666668],\"xaxis\":\"x\",\"y\":[894.0],\"yaxis\":\"y\",\"type\":\"scatter\"},{\"customdata\":[[39]],\"hovertemplate\":\"<b>%{hovertext}</b><br><br>Club=SUFFOC<br>Mean Age=%{x}<br>Mean Average Ranking Score=%{y}<br>Count=%{customdata[0]}<extra></extra>\",\"hovertext\":[\"SUFFOC\"],\"legendgroup\":\"SUFFOC\",\"marker\":{\"color\":\"#19d3f3\",\"symbol\":\"circle\"},\"mode\":\"markers\",\"name\":\"SUFFOC\",\"orientation\":\"v\",\"showlegend\":true,\"x\":[50.64102564102564],\"xaxis\":\"x\",\"y\":[940.0512820512821],\"yaxis\":\"y\",\"type\":\"scatter\"},{\"customdata\":[[34]],\"hovertemplate\":\"<b>%{hovertext}</b><br><br>Club=SWOC<br>Mean Age=%{x}<br>Mean Average Ranking Score=%{y}<br>Count=%{customdata[0]}<extra></extra>\",\"hovertext\":[\"SWOC\"],\"legendgroup\":\"SWOC\",\"marker\":{\"color\":\"#FF6692\",\"symbol\":\"circle\"},\"mode\":\"markers\",\"name\":\"SWOC\",\"orientation\":\"v\",\"showlegend\":true,\"x\":[54.26470588235294],\"xaxis\":\"x\",\"y\":[1017.7941176470588],\"yaxis\":\"y\",\"type\":\"scatter\"},{\"customdata\":[[168]],\"hovertemplate\":\"<b>%{hovertext}</b><br><br>Club=SYO<br>Mean Age=%{x}<br>Mean Average Ranking Score=%{y}<br>Count=%{customdata[0]}<extra></extra>\",\"hovertext\":[\"SYO\"],\"legendgroup\":\"SYO\",\"marker\":{\"color\":\"#B6E880\",\"symbol\":\"circle\"},\"mode\":\"markers\",\"name\":\"SYO\",\"orientation\":\"v\",\"showlegend\":true,\"x\":[46.779761904761905],\"xaxis\":\"x\",\"y\":[1080.3630952380952],\"yaxis\":\"y\",\"type\":\"scatter\"},{\"customdata\":[[29]],\"hovertemplate\":\"<b>%{hovertext}</b><br><br>Club=TAY<br>Mean Age=%{x}<br>Mean Average Ranking Score=%{y}<br>Count=%{customdata[0]}<extra></extra>\",\"hovertext\":[\"TAY\"],\"legendgroup\":\"TAY\",\"marker\":{\"color\":\"#FF97FF\",\"symbol\":\"circle\"},\"mode\":\"markers\",\"name\":\"TAY\",\"orientation\":\"v\",\"showlegend\":true,\"x\":[60.827586206896555],\"xaxis\":\"x\",\"y\":[922.2413793103449],\"yaxis\":\"y\",\"type\":\"scatter\"},{\"customdata\":[[4]],\"hovertemplate\":\"<b>%{hovertext}</b><br><br>Club=TINTO<br>Mean Age=%{x}<br>Mean Average Ranking Score=%{y}<br>Count=%{customdata[0]}<extra></extra>\",\"hovertext\":[\"TINTO\"],\"legendgroup\":\"TINTO\",\"marker\":{\"color\":\"#FECB52\",\"symbol\":\"circle\"},\"mode\":\"markers\",\"name\":\"TINTO\",\"orientation\":\"v\",\"showlegend\":true,\"x\":[74.0],\"xaxis\":\"x\",\"y\":[816.25],\"yaxis\":\"y\",\"type\":\"scatter\"},{\"customdata\":[[123]],\"hovertemplate\":\"<b>%{hovertext}</b><br><br>Club=TVOC<br>Mean Age=%{x}<br>Mean Average Ranking Score=%{y}<br>Count=%{customdata[0]}<extra></extra>\",\"hovertext\":[\"TVOC\"],\"legendgroup\":\"TVOC\",\"marker\":{\"color\":\"#636efa\",\"symbol\":\"circle\"},\"mode\":\"markers\",\"name\":\"TVOC\",\"orientation\":\"v\",\"showlegend\":true,\"x\":[53.4390243902439],\"xaxis\":\"x\",\"y\":[967.2113821138212],\"yaxis\":\"y\",\"type\":\"scatter\"},{\"customdata\":[[7]],\"hovertemplate\":\"<b>%{hovertext}</b><br><br>Club=UBOC<br>Mean Age=%{x}<br>Mean Average Ranking Score=%{y}<br>Count=%{customdata[0]}<extra></extra>\",\"hovertext\":[\"UBOC\"],\"legendgroup\":\"UBOC\",\"marker\":{\"color\":\"#EF553B\",\"symbol\":\"circle\"},\"mode\":\"markers\",\"name\":\"UBOC\",\"orientation\":\"v\",\"showlegend\":true,\"x\":[24.428571428571427],\"xaxis\":\"x\",\"y\":[1198.2857142857142],\"yaxis\":\"y\",\"type\":\"scatter\"},{\"customdata\":[[96]],\"hovertemplate\":\"<b>%{hovertext}</b><br><br>Club=WAOC<br>Mean Age=%{x}<br>Mean Average Ranking Score=%{y}<br>Count=%{customdata[0]}<extra></extra>\",\"hovertext\":[\"WAOC\"],\"legendgroup\":\"WAOC\",\"marker\":{\"color\":\"#00cc96\",\"symbol\":\"circle\"},\"mode\":\"markers\",\"name\":\"WAOC\",\"orientation\":\"v\",\"showlegend\":true,\"x\":[49.833333333333336],\"xaxis\":\"x\",\"y\":[978.65625],\"yaxis\":\"y\",\"type\":\"scatter\"},{\"customdata\":[[15]],\"hovertemplate\":\"<b>%{hovertext}</b><br><br>Club=WAROC<br>Mean Age=%{x}<br>Mean Average Ranking Score=%{y}<br>Count=%{customdata[0]}<extra></extra>\",\"hovertext\":[\"WAROC\"],\"legendgroup\":\"WAROC\",\"marker\":{\"color\":\"#ab63fa\",\"symbol\":\"circle\"},\"mode\":\"markers\",\"name\":\"WAROC\",\"orientation\":\"v\",\"showlegend\":true,\"x\":[58.2],\"xaxis\":\"x\",\"y\":[1092.4666666666667],\"yaxis\":\"y\",\"type\":\"scatter\"},{\"customdata\":[[43]],\"hovertemplate\":\"<b>%{hovertext}</b><br><br>Club=WCH<br>Mean Age=%{x}<br>Mean Average Ranking Score=%{y}<br>Count=%{customdata[0]}<extra></extra>\",\"hovertext\":[\"WCH\"],\"legendgroup\":\"WCH\",\"marker\":{\"color\":\"#FFA15A\",\"symbol\":\"circle\"},\"mode\":\"markers\",\"name\":\"WCH\",\"orientation\":\"v\",\"showlegend\":true,\"x\":[56.16279069767442],\"xaxis\":\"x\",\"y\":[1009.3720930232558],\"yaxis\":\"y\",\"type\":\"scatter\"},{\"customdata\":[[113]],\"hovertemplate\":\"<b>%{hovertext}</b><br><br>Club=WCOC<br>Mean Age=%{x}<br>Mean Average Ranking Score=%{y}<br>Count=%{customdata[0]}<extra></extra>\",\"hovertext\":[\"WCOC\"],\"legendgroup\":\"WCOC\",\"marker\":{\"color\":\"#19d3f3\",\"symbol\":\"circle\"},\"mode\":\"markers\",\"name\":\"WCOC\",\"orientation\":\"v\",\"showlegend\":true,\"x\":[48.38053097345133],\"xaxis\":\"x\",\"y\":[1082.6814159292035],\"yaxis\":\"y\",\"type\":\"scatter\"},{\"customdata\":[[6]],\"hovertemplate\":\"<b>%{hovertext}</b><br><br>Club=WIGHTO<br>Mean Age=%{x}<br>Mean Average Ranking Score=%{y}<br>Count=%{customdata[0]}<extra></extra>\",\"hovertext\":[\"WIGHTO\"],\"legendgroup\":\"WIGHTO\",\"marker\":{\"color\":\"#FF6692\",\"symbol\":\"circle\"},\"mode\":\"markers\",\"name\":\"WIGHTO\",\"orientation\":\"v\",\"showlegend\":true,\"x\":[68.5],\"xaxis\":\"x\",\"y\":[925.8333333333334],\"yaxis\":\"y\",\"type\":\"scatter\"},{\"customdata\":[[56]],\"hovertemplate\":\"<b>%{hovertext}</b><br><br>Club=WIM<br>Mean Age=%{x}<br>Mean Average Ranking Score=%{y}<br>Count=%{customdata[0]}<extra></extra>\",\"hovertext\":[\"WIM\"],\"legendgroup\":\"WIM\",\"marker\":{\"color\":\"#B6E880\",\"symbol\":\"circle\"},\"mode\":\"markers\",\"name\":\"WIM\",\"orientation\":\"v\",\"showlegend\":true,\"x\":[57.285714285714285],\"xaxis\":\"x\",\"y\":[942.9107142857143],\"yaxis\":\"y\",\"type\":\"scatter\"},{\"customdata\":[[49]],\"hovertemplate\":\"<b>%{hovertext}</b><br><br>Club=WRE<br>Mean Age=%{x}<br>Mean Average Ranking Score=%{y}<br>Count=%{customdata[0]}<extra></extra>\",\"hovertext\":[\"WRE\"],\"legendgroup\":\"WRE\",\"marker\":{\"color\":\"#FF97FF\",\"symbol\":\"circle\"},\"mode\":\"markers\",\"name\":\"WRE\",\"orientation\":\"v\",\"showlegend\":true,\"x\":[60.93877551020408],\"xaxis\":\"x\",\"y\":[947.3469387755102],\"yaxis\":\"y\",\"type\":\"scatter\"},{\"customdata\":[[35]],\"hovertemplate\":\"<b>%{hovertext}</b><br><br>Club=WSX<br>Mean Age=%{x}<br>Mean Average Ranking Score=%{y}<br>Count=%{customdata[0]}<extra></extra>\",\"hovertext\":[\"WSX\"],\"legendgroup\":\"WSX\",\"marker\":{\"color\":\"#FECB52\",\"symbol\":\"circle\"},\"mode\":\"markers\",\"name\":\"WSX\",\"orientation\":\"v\",\"showlegend\":true,\"x\":[52.97142857142857],\"xaxis\":\"x\",\"y\":[993.2857142857143],\"yaxis\":\"y\",\"type\":\"scatter\"}],                        {\"legend\":{\"title\":{\"text\":\"Club\"},\"tracegroupgap\":0},\"template\":{\"data\":{\"barpolar\":[{\"marker\":{\"line\":{\"color\":\"#E5ECF6\",\"width\":0.5},\"pattern\":{\"fillmode\":\"overlay\",\"size\":10,\"solidity\":0.2}},\"type\":\"barpolar\"}],\"bar\":[{\"error_x\":{\"color\":\"#2a3f5f\"},\"error_y\":{\"color\":\"#2a3f5f\"},\"marker\":{\"line\":{\"color\":\"#E5ECF6\",\"width\":0.5},\"pattern\":{\"fillmode\":\"overlay\",\"size\":10,\"solidity\":0.2}},\"type\":\"bar\"}],\"carpet\":[{\"aaxis\":{\"endlinecolor\":\"#2a3f5f\",\"gridcolor\":\"white\",\"linecolor\":\"white\",\"minorgridcolor\":\"white\",\"startlinecolor\":\"#2a3f5f\"},\"baxis\":{\"endlinecolor\":\"#2a3f5f\",\"gridcolor\":\"white\",\"linecolor\":\"white\",\"minorgridcolor\":\"white\",\"startlinecolor\":\"#2a3f5f\"},\"type\":\"carpet\"}],\"choropleth\":[{\"colorbar\":{\"outlinewidth\":0,\"ticks\":\"\"},\"type\":\"choropleth\"}],\"contourcarpet\":[{\"colorbar\":{\"outlinewidth\":0,\"ticks\":\"\"},\"type\":\"contourcarpet\"}],\"contour\":[{\"colorbar\":{\"outlinewidth\":0,\"ticks\":\"\"},\"colorscale\":[[0.0,\"#0d0887\"],[0.1111111111111111,\"#46039f\"],[0.2222222222222222,\"#7201a8\"],[0.3333333333333333,\"#9c179e\"],[0.4444444444444444,\"#bd3786\"],[0.5555555555555556,\"#d8576b\"],[0.6666666666666666,\"#ed7953\"],[0.7777777777777778,\"#fb9f3a\"],[0.8888888888888888,\"#fdca26\"],[1.0,\"#f0f921\"]],\"type\":\"contour\"}],\"heatmapgl\":[{\"colorbar\":{\"outlinewidth\":0,\"ticks\":\"\"},\"colorscale\":[[0.0,\"#0d0887\"],[0.1111111111111111,\"#46039f\"],[0.2222222222222222,\"#7201a8\"],[0.3333333333333333,\"#9c179e\"],[0.4444444444444444,\"#bd3786\"],[0.5555555555555556,\"#d8576b\"],[0.6666666666666666,\"#ed7953\"],[0.7777777777777778,\"#fb9f3a\"],[0.8888888888888888,\"#fdca26\"],[1.0,\"#f0f921\"]],\"type\":\"heatmapgl\"}],\"heatmap\":[{\"colorbar\":{\"outlinewidth\":0,\"ticks\":\"\"},\"colorscale\":[[0.0,\"#0d0887\"],[0.1111111111111111,\"#46039f\"],[0.2222222222222222,\"#7201a8\"],[0.3333333333333333,\"#9c179e\"],[0.4444444444444444,\"#bd3786\"],[0.5555555555555556,\"#d8576b\"],[0.6666666666666666,\"#ed7953\"],[0.7777777777777778,\"#fb9f3a\"],[0.8888888888888888,\"#fdca26\"],[1.0,\"#f0f921\"]],\"type\":\"heatmap\"}],\"histogram2dcontour\":[{\"colorbar\":{\"outlinewidth\":0,\"ticks\":\"\"},\"colorscale\":[[0.0,\"#0d0887\"],[0.1111111111111111,\"#46039f\"],[0.2222222222222222,\"#7201a8\"],[0.3333333333333333,\"#9c179e\"],[0.4444444444444444,\"#bd3786\"],[0.5555555555555556,\"#d8576b\"],[0.6666666666666666,\"#ed7953\"],[0.7777777777777778,\"#fb9f3a\"],[0.8888888888888888,\"#fdca26\"],[1.0,\"#f0f921\"]],\"type\":\"histogram2dcontour\"}],\"histogram2d\":[{\"colorbar\":{\"outlinewidth\":0,\"ticks\":\"\"},\"colorscale\":[[0.0,\"#0d0887\"],[0.1111111111111111,\"#46039f\"],[0.2222222222222222,\"#7201a8\"],[0.3333333333333333,\"#9c179e\"],[0.4444444444444444,\"#bd3786\"],[0.5555555555555556,\"#d8576b\"],[0.6666666666666666,\"#ed7953\"],[0.7777777777777778,\"#fb9f3a\"],[0.8888888888888888,\"#fdca26\"],[1.0,\"#f0f921\"]],\"type\":\"histogram2d\"}],\"histogram\":[{\"marker\":{\"pattern\":{\"fillmode\":\"overlay\",\"size\":10,\"solidity\":0.2}},\"type\":\"histogram\"}],\"mesh3d\":[{\"colorbar\":{\"outlinewidth\":0,\"ticks\":\"\"},\"type\":\"mesh3d\"}],\"parcoords\":[{\"line\":{\"colorbar\":{\"outlinewidth\":0,\"ticks\":\"\"}},\"type\":\"parcoords\"}],\"pie\":[{\"automargin\":true,\"type\":\"pie\"}],\"scatter3d\":[{\"line\":{\"colorbar\":{\"outlinewidth\":0,\"ticks\":\"\"}},\"marker\":{\"colorbar\":{\"outlinewidth\":0,\"ticks\":\"\"}},\"type\":\"scatter3d\"}],\"scattercarpet\":[{\"marker\":{\"colorbar\":{\"outlinewidth\":0,\"ticks\":\"\"}},\"type\":\"scattercarpet\"}],\"scattergeo\":[{\"marker\":{\"colorbar\":{\"outlinewidth\":0,\"ticks\":\"\"}},\"type\":\"scattergeo\"}],\"scattergl\":[{\"marker\":{\"colorbar\":{\"outlinewidth\":0,\"ticks\":\"\"}},\"type\":\"scattergl\"}],\"scattermapbox\":[{\"marker\":{\"colorbar\":{\"outlinewidth\":0,\"ticks\":\"\"}},\"type\":\"scattermapbox\"}],\"scatterpolargl\":[{\"marker\":{\"colorbar\":{\"outlinewidth\":0,\"ticks\":\"\"}},\"type\":\"scatterpolargl\"}],\"scatterpolar\":[{\"marker\":{\"colorbar\":{\"outlinewidth\":0,\"ticks\":\"\"}},\"type\":\"scatterpolar\"}],\"scatter\":[{\"fillpattern\":{\"fillmode\":\"overlay\",\"size\":10,\"solidity\":0.2},\"type\":\"scatter\"}],\"scatterternary\":[{\"marker\":{\"colorbar\":{\"outlinewidth\":0,\"ticks\":\"\"}},\"type\":\"scatterternary\"}],\"surface\":[{\"colorbar\":{\"outlinewidth\":0,\"ticks\":\"\"},\"colorscale\":[[0.0,\"#0d0887\"],[0.1111111111111111,\"#46039f\"],[0.2222222222222222,\"#7201a8\"],[0.3333333333333333,\"#9c179e\"],[0.4444444444444444,\"#bd3786\"],[0.5555555555555556,\"#d8576b\"],[0.6666666666666666,\"#ed7953\"],[0.7777777777777778,\"#fb9f3a\"],[0.8888888888888888,\"#fdca26\"],[1.0,\"#f0f921\"]],\"type\":\"surface\"}],\"table\":[{\"cells\":{\"fill\":{\"color\":\"#EBF0F8\"},\"line\":{\"color\":\"white\"}},\"header\":{\"fill\":{\"color\":\"#C8D4E3\"},\"line\":{\"color\":\"white\"}},\"type\":\"table\"}]},\"layout\":{\"annotationdefaults\":{\"arrowcolor\":\"#2a3f5f\",\"arrowhead\":0,\"arrowwidth\":1},\"autotypenumbers\":\"strict\",\"coloraxis\":{\"colorbar\":{\"outlinewidth\":0,\"ticks\":\"\"}},\"colorscale\":{\"diverging\":[[0,\"#8e0152\"],[0.1,\"#c51b7d\"],[0.2,\"#de77ae\"],[0.3,\"#f1b6da\"],[0.4,\"#fde0ef\"],[0.5,\"#f7f7f7\"],[0.6,\"#e6f5d0\"],[0.7,\"#b8e186\"],[0.8,\"#7fbc41\"],[0.9,\"#4d9221\"],[1,\"#276419\"]],\"sequential\":[[0.0,\"#0d0887\"],[0.1111111111111111,\"#46039f\"],[0.2222222222222222,\"#7201a8\"],[0.3333333333333333,\"#9c179e\"],[0.4444444444444444,\"#bd3786\"],[0.5555555555555556,\"#d8576b\"],[0.6666666666666666,\"#ed7953\"],[0.7777777777777778,\"#fb9f3a\"],[0.8888888888888888,\"#fdca26\"],[1.0,\"#f0f921\"]],\"sequentialminus\":[[0.0,\"#0d0887\"],[0.1111111111111111,\"#46039f\"],[0.2222222222222222,\"#7201a8\"],[0.3333333333333333,\"#9c179e\"],[0.4444444444444444,\"#bd3786\"],[0.5555555555555556,\"#d8576b\"],[0.6666666666666666,\"#ed7953\"],[0.7777777777777778,\"#fb9f3a\"],[0.8888888888888888,\"#fdca26\"],[1.0,\"#f0f921\"]]},\"colorway\":[\"#636efa\",\"#EF553B\",\"#00cc96\",\"#ab63fa\",\"#FFA15A\",\"#19d3f3\",\"#FF6692\",\"#B6E880\",\"#FF97FF\",\"#FECB52\"],\"font\":{\"color\":\"#2a3f5f\"},\"geo\":{\"bgcolor\":\"white\",\"lakecolor\":\"white\",\"landcolor\":\"#E5ECF6\",\"showlakes\":true,\"showland\":true,\"subunitcolor\":\"white\"},\"hoverlabel\":{\"align\":\"left\"},\"hovermode\":\"closest\",\"mapbox\":{\"style\":\"light\"},\"paper_bgcolor\":\"white\",\"plot_bgcolor\":\"#E5ECF6\",\"polar\":{\"angularaxis\":{\"gridcolor\":\"white\",\"linecolor\":\"white\",\"ticks\":\"\"},\"bgcolor\":\"#E5ECF6\",\"radialaxis\":{\"gridcolor\":\"white\",\"linecolor\":\"white\",\"ticks\":\"\"}},\"scene\":{\"xaxis\":{\"backgroundcolor\":\"#E5ECF6\",\"gridcolor\":\"white\",\"gridwidth\":2,\"linecolor\":\"white\",\"showbackground\":true,\"ticks\":\"\",\"zerolinecolor\":\"white\"},\"yaxis\":{\"backgroundcolor\":\"#E5ECF6\",\"gridcolor\":\"white\",\"gridwidth\":2,\"linecolor\":\"white\",\"showbackground\":true,\"ticks\":\"\",\"zerolinecolor\":\"white\"},\"zaxis\":{\"backgroundcolor\":\"#E5ECF6\",\"gridcolor\":\"white\",\"gridwidth\":2,\"linecolor\":\"white\",\"showbackground\":true,\"ticks\":\"\",\"zerolinecolor\":\"white\"}},\"shapedefaults\":{\"line\":{\"color\":\"#2a3f5f\"}},\"ternary\":{\"aaxis\":{\"gridcolor\":\"white\",\"linecolor\":\"white\",\"ticks\":\"\"},\"baxis\":{\"gridcolor\":\"white\",\"linecolor\":\"white\",\"ticks\":\"\"},\"bgcolor\":\"#E5ECF6\",\"caxis\":{\"gridcolor\":\"white\",\"linecolor\":\"white\",\"ticks\":\"\"}},\"title\":{\"x\":0.05},\"xaxis\":{\"automargin\":true,\"gridcolor\":\"white\",\"linecolor\":\"white\",\"ticks\":\"\",\"title\":{\"standoff\":15},\"zerolinecolor\":\"white\",\"zerolinewidth\":2},\"yaxis\":{\"automargin\":true,\"gridcolor\":\"white\",\"linecolor\":\"white\",\"ticks\":\"\",\"title\":{\"standoff\":15},\"zerolinecolor\":\"white\",\"zerolinewidth\":2}}},\"title\":{\"text\":\"Mean Age vs Mean Average Ranking Score by Club\"},\"xaxis\":{\"anchor\":\"y\",\"domain\":[0.0,1.0],\"title\":{\"text\":\"Mean Age\"}},\"yaxis\":{\"anchor\":\"x\",\"domain\":[0.0,1.0],\"title\":{\"text\":\"Mean Average Ranking Score\"}}},                        {\"responsive\": true}                    ).then(function(){\n",
       "                            \n",
       "var gd = document.getElementById('4ef64d19-fe26-44b2-a05e-82d3482dd55e');\n",
       "var x = new MutationObserver(function (mutations, observer) {{\n",
       "        var display = window.getComputedStyle(gd).display;\n",
       "        if (!display || display === 'none') {{\n",
       "            console.log([gd, 'removed!']);\n",
       "            Plotly.purge(gd);\n",
       "            observer.disconnect();\n",
       "        }}\n",
       "}});\n",
       "\n",
       "// Listen for the removal of the full notebook cells\n",
       "var notebookContainer = gd.closest('#notebook-container');\n",
       "if (notebookContainer) {{\n",
       "    x.observe(notebookContainer, {childList: true});\n",
       "}}\n",
       "\n",
       "// Listen for the clearing of the current output cell\n",
       "var outputEl = gd.closest('.output');\n",
       "if (outputEl) {{\n",
       "    x.observe(outputEl, {childList: true});\n",
       "}}\n",
       "\n",
       "                        })                };                });            </script>        </div>"
      ]
     },
     "metadata": {},
     "output_type": "display_data"
    },
    {
     "data": {
      "text/plain": [
       "'fig.show()\\n\\nfig.write_html(\"Plotly.html\")'"
      ]
     },
     "execution_count": 65,
     "metadata": {},
     "output_type": "execute_result"
    }
   ],
   "source": [
    "import plotly.express as px\n",
    "import pandas as pd\n",
    "import plotly.offline as pyo\n",
    "from plotly.offline import init_notebook_mode, iplot\n",
    "\n",
    "init_notebook_mode(connected=True)\n",
    "\n",
    "#calculate the mean 'age' and 'Average' for each 'club'\n",
    "\n",
    "club_mean = df_zero_clubs_removed.groupby('Club')[['age', 'Average']].mean().reset_index()\n",
    "\n",
    "#count of data points in each club\n",
    "\n",
    "club_count = df_zero_clubs_removed['Club'].value_counts().reset_index()\n",
    "club_count.columns = ['Club', 'Count']\n",
    "\n",
    "#merge the mean values and count data\n",
    "\n",
    "merged_data = pd.merge(club_mean, club_count, on='Club')\n",
    "\n",
    "#create a plot\n",
    "\n",
    "fig = px.scatter(merged_data, x='age', y='Average', color='Club', size_max=30,\n",
    "                 labels={'age': 'Mean Age', 'Average': 'Mean Average Ranking Score'},\n",
    "                 title='Mean Age vs Mean Average Ranking Score by Club',\n",
    "                 hover_name='Club',\n",
    "                 hover_data={'Count': True}) \n",
    "\n",
    "iplot(fig)\n",
    "\n",
    "\"\"\"fig.show()\n",
    "\n",
    "fig.write_html(\"Plotly.html\")\"\"\""
   ]
  },
  {
   "cell_type": "code",
   "execution_count": null,
   "id": "9cbdf923-8f70-42ec-9e44-3e0e71ff94d1",
   "metadata": {},
   "outputs": [],
   "source": []
  }
 ],
 "metadata": {
  "kernelspec": {
   "display_name": "anaconda-panel-2023.05-py310",
   "language": "python",
   "name": "conda-env-anaconda-panel-2023.05-py310-py"
  },
  "language_info": {
   "codemirror_mode": {
    "name": "ipython",
    "version": 3
   },
   "file_extension": ".py",
   "mimetype": "text/x-python",
   "name": "python",
   "nbconvert_exporter": "python",
   "pygments_lexer": "ipython3",
   "version": "3.11.5"
  }
 },
 "nbformat": 4,
 "nbformat_minor": 5
}
